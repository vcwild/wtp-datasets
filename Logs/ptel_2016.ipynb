{
 "metadata": {
  "language_info": {
   "codemirror_mode": {
    "name": "ipython",
    "version": 3
   },
   "file_extension": ".py",
   "mimetype": "text/x-python",
   "name": "python",
   "nbconvert_exporter": "python",
   "pygments_lexer": "ipython3",
   "version": "3.7.7-final"
  },
  "orig_nbformat": 2,
  "kernelspec": {
   "name": "python_defaultSpec_1598969367848",
   "display_name": "Python 3.7.7 64-bit"
  }
 },
 "nbformat": 4,
 "nbformat_minor": 2,
 "cells": [
  {
   "cell_type": "code",
   "execution_count": 1082,
   "metadata": {},
   "outputs": [],
   "source": [
    "import pandas as pd \n",
    "from shutil import copy2"
   ]
  },
  {
   "cell_type": "code",
   "execution_count": 969,
   "metadata": {},
   "outputs": [],
   "source": [
    "# Pandas setup\n",
    "pd.set_option('display.max_columns', 1000)\n",
    "pd.set_option('display.max_rows', 1000) \n",
    "pd.set_option('display.max_colwidth', -1) "
   ]
  },
  {
   "cell_type": "code",
   "execution_count": 970,
   "metadata": {},
   "outputs": [],
   "source": [
    "# Custom NA dictionary\n",
    "null_dict = [\"\", \"#N/A\", \"#N/A N/A\", \"#NA\", \"-1.#IND\", \"-1.#QNAN\", \"-NaN\", \"-nan\", \"1.#IND\", \"1.#QNAN\", \"<NA>\", \"N/A\", \"NA\", \"NULL\", \"NaN\", \"n/a\", \"nan\", \"null\", \"*\", \"**\", \"n.d.\", \"-\", \"#DIV/0!\", \"#DIV/0\", \" \", \"\\xad\", \"n.d\", \"ND\", \"N.D.\", \"N.D\"]"
   ]
  },
  {
   "cell_type": "code",
   "execution_count": 1118,
   "metadata": {},
   "outputs": [
    {
     "output_type": "execute_result",
     "data": {
      "text/plain": "     Parâmetros                 Data Alumínio Total Cobre Total Cromo Total  \\\n2  ANAMB         2016-02-01 00:00:00  3.286          0.132       <0,009       \n3  itt Nutrifor  2016-03-01 00:00:00  5.93           0.174       0.16         \n4  QUÍMICA       2016-04-01 00:00:00  17.7           0.1         2.91         \n5  SANEAMB       2016-05-01 00:00:00  2.13           0.167       0.036        \n6  QUÍMICA.1     2016-08-01 00:00:00  2.05           0.4         0.64         \n7  itt Fuse      2016-11-01 00:00:00  7.246          15.84       0.446        \n8  SANEAMB.1     2016-11-01 00:00:00  1.15           0.38        <0,009       \n\n  Manganês Total Prata Total  \n2  0.23           0.01        \n3  2.26           0.65        \n4  0.05           0.12        \n5  0.092          0.05        \n6  0.01           0.01        \n7  <0,010         0.164       \n8  1.965          <0,010      ",
      "text/html": "<div>\n<style scoped>\n    .dataframe tbody tr th:only-of-type {\n        vertical-align: middle;\n    }\n\n    .dataframe tbody tr th {\n        vertical-align: top;\n    }\n\n    .dataframe thead th {\n        text-align: right;\n    }\n</style>\n<table border=\"1\" class=\"dataframe\">\n  <thead>\n    <tr style=\"text-align: right;\">\n      <th></th>\n      <th>Parâmetros</th>\n      <th>Data</th>\n      <th>Alumínio Total</th>\n      <th>Cobre Total</th>\n      <th>Cromo Total</th>\n      <th>Manganês Total</th>\n      <th>Prata Total</th>\n    </tr>\n  </thead>\n  <tbody>\n    <tr>\n      <th>2</th>\n      <td>ANAMB</td>\n      <td>2016-02-01 00:00:00</td>\n      <td>3.286</td>\n      <td>0.132</td>\n      <td>&lt;0,009</td>\n      <td>0.23</td>\n      <td>0.01</td>\n    </tr>\n    <tr>\n      <th>3</th>\n      <td>itt Nutrifor</td>\n      <td>2016-03-01 00:00:00</td>\n      <td>5.93</td>\n      <td>0.174</td>\n      <td>0.16</td>\n      <td>2.26</td>\n      <td>0.65</td>\n    </tr>\n    <tr>\n      <th>4</th>\n      <td>QUÍMICA</td>\n      <td>2016-04-01 00:00:00</td>\n      <td>17.7</td>\n      <td>0.1</td>\n      <td>2.91</td>\n      <td>0.05</td>\n      <td>0.12</td>\n    </tr>\n    <tr>\n      <th>5</th>\n      <td>SANEAMB</td>\n      <td>2016-05-01 00:00:00</td>\n      <td>2.13</td>\n      <td>0.167</td>\n      <td>0.036</td>\n      <td>0.092</td>\n      <td>0.05</td>\n    </tr>\n    <tr>\n      <th>6</th>\n      <td>QUÍMICA.1</td>\n      <td>2016-08-01 00:00:00</td>\n      <td>2.05</td>\n      <td>0.4</td>\n      <td>0.64</td>\n      <td>0.01</td>\n      <td>0.01</td>\n    </tr>\n    <tr>\n      <th>7</th>\n      <td>itt Fuse</td>\n      <td>2016-11-01 00:00:00</td>\n      <td>7.246</td>\n      <td>15.84</td>\n      <td>0.446</td>\n      <td>&lt;0,010</td>\n      <td>0.164</td>\n    </tr>\n    <tr>\n      <th>8</th>\n      <td>SANEAMB.1</td>\n      <td>2016-11-01 00:00:00</td>\n      <td>1.15</td>\n      <td>0.38</td>\n      <td>&lt;0,009</td>\n      <td>1.965</td>\n      <td>&lt;0,010</td>\n    </tr>\n  </tbody>\n</table>\n</div>"
     },
     "metadata": {},
     "execution_count": 1118
    }
   ],
   "source": [
    "# Read file\n",
    "filename = 'F10 Monitoramento da ETE Unisinos 2016'\n",
    "field = \"PTEL\"\n",
    "xls = pd.ExcelFile(f'./Modified/{filename}.xls')\n",
    "df = pd.read_excel(xls, field, header=2, usecols=\"A:I\", skipfooter=18, na_values=null_dict)\n",
    "\n",
    "# Clean data\n",
    "aux = df.T.reset_index()\n",
    "colnames = aux.iloc[0, :].tolist()\n",
    "aux.columns = colnames\n",
    "aux.drop(labels=[0, 1], axis=0, inplace=True)\n",
    "#aux.drop(aux.tail(0).index, inplace=True)\n",
    "df = aux\n",
    "# name = df.iloc[0,0]\n",
    "# rename = [name for value in df[df.columns[0]].values]\n",
    "# df[df.columns[0]] = rename\n",
    "#df['Data'] = df['Data'].astype('datetime64')\n",
    "\n",
    "df"
   ]
  },
  {
   "cell_type": "code",
   "execution_count": 1110,
   "metadata": {},
   "outputs": [
    {
     "output_type": "execute_result",
     "data": {
      "text/plain": "'./Logs/ptel_2016.ipynb'"
     },
     "metadata": {},
     "execution_count": 1110
    }
   ],
   "source": [
    "field = field.replace(\" \", \"_\")\n",
    "field = field.lower()\n",
    "year = filename.split()[-1:][0].split(\".\")[0]\n",
    "df.to_csv(f\"./Dataset/{field}_{year}.csv\", encoding='utf8', index=False)\n",
    "copy2(\"extractor.ipynb\", f\"./Logs/{field}_{year}.ipynb\")"
   ]
  },
  {
   "cell_type": "code",
   "execution_count": null,
   "metadata": {},
   "outputs": [],
   "source": []
  }
 ]
}