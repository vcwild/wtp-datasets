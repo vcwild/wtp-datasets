{
 "metadata": {
  "language_info": {
   "codemirror_mode": {
    "name": "ipython",
    "version": 3
   },
   "file_extension": ".py",
   "mimetype": "text/x-python",
   "name": "python",
   "nbconvert_exporter": "python",
   "pygments_lexer": "ipython3",
   "version": "3.7.7-final"
  },
  "orig_nbformat": 2,
  "kernelspec": {
   "name": "python_defaultSpec_1598969367848",
   "display_name": "Python 3.7.7 64-bit"
  }
 },
 "nbformat": 4,
 "nbformat_minor": 2,
 "cells": [
  {
   "cell_type": "code",
   "execution_count": 1082,
   "metadata": {},
   "outputs": [],
   "source": [
    "import pandas as pd \n",
    "from shutil import copy2"
   ]
  },
  {
   "cell_type": "code",
   "execution_count": 969,
   "metadata": {},
   "outputs": [],
   "source": [
    "# Pandas setup\n",
    "pd.set_option('display.max_columns', 1000)\n",
    "pd.set_option('display.max_rows', 1000) \n",
    "pd.set_option('display.max_colwidth', -1) "
   ]
  },
  {
   "cell_type": "code",
   "execution_count": 970,
   "metadata": {},
   "outputs": [],
   "source": [
    "# Custom NA dictionary\n",
    "null_dict = [\"\", \"#N/A\", \"#N/A N/A\", \"#NA\", \"-1.#IND\", \"-1.#QNAN\", \"-NaN\", \"-nan\", \"1.#IND\", \"1.#QNAN\", \"<NA>\", \"N/A\", \"NA\", \"NULL\", \"NaN\", \"n/a\", \"nan\", \"null\", \"*\", \"**\", \"n.d.\", \"-\", \"#DIV/0!\", \"#DIV/0\", \" \", \"\\xad\", \"n.d\", \"ND\", \"N.D.\", \"N.D\"]"
   ]
  },
  {
   "cell_type": "code",
   "execution_count": 1099,
   "metadata": {},
   "outputs": [
    {
     "output_type": "execute_result",
     "data": {
      "text/plain": "                              Parâmetros                 Data Alumínio   \\\n3  LCVMat                                 2015-01-01 00:00:00  860        \n4  ANAMB                                  2015-06-01 00:00:00  60         \n5  QUÍMICA (Bruto)  ENTRADA-PTEL interna  2015-07-01 00:00:00  34500      \n6  QUÍMICA (Tratado)\\nSAÍDA-PTEL interna  2015-07-01 00:00:00  190        \n7  MEFIS                                  2015-09-01 00:00:00  3680       \n8  ANAMB.1                                2015-10-01 00:00:00  3080       \n9  SANEAMB                                2015-11-01 00:00:00  2210       \n\n  Cobre Total Cromo Total Manganês Total Prata Total  \n3  50          80          70             30          \n4  40          30          12200          < 10        \n5  65800       43600       7920           < 10        \n6  690         80          20             10          \n7  NaN         120         790            < 10        \n8  280         20          1270           30          \n9  NaN         26.8        760            NaN         ",
      "text/html": "<div>\n<style scoped>\n    .dataframe tbody tr th:only-of-type {\n        vertical-align: middle;\n    }\n\n    .dataframe tbody tr th {\n        vertical-align: top;\n    }\n\n    .dataframe thead th {\n        text-align: right;\n    }\n</style>\n<table border=\"1\" class=\"dataframe\">\n  <thead>\n    <tr style=\"text-align: right;\">\n      <th></th>\n      <th>Parâmetros</th>\n      <th>Data</th>\n      <th>Alumínio</th>\n      <th>Cobre Total</th>\n      <th>Cromo Total</th>\n      <th>Manganês Total</th>\n      <th>Prata Total</th>\n    </tr>\n  </thead>\n  <tbody>\n    <tr>\n      <th>3</th>\n      <td>LCVMat</td>\n      <td>2015-01-01 00:00:00</td>\n      <td>860</td>\n      <td>50</td>\n      <td>80</td>\n      <td>70</td>\n      <td>30</td>\n    </tr>\n    <tr>\n      <th>4</th>\n      <td>ANAMB</td>\n      <td>2015-06-01 00:00:00</td>\n      <td>60</td>\n      <td>40</td>\n      <td>30</td>\n      <td>12200</td>\n      <td>&lt; 10</td>\n    </tr>\n    <tr>\n      <th>5</th>\n      <td>QUÍMICA (Bruto)  ENTRADA-PTEL interna</td>\n      <td>2015-07-01 00:00:00</td>\n      <td>34500</td>\n      <td>65800</td>\n      <td>43600</td>\n      <td>7920</td>\n      <td>&lt; 10</td>\n    </tr>\n    <tr>\n      <th>6</th>\n      <td>QUÍMICA (Tratado)\\nSAÍDA-PTEL interna</td>\n      <td>2015-07-01 00:00:00</td>\n      <td>190</td>\n      <td>690</td>\n      <td>80</td>\n      <td>20</td>\n      <td>10</td>\n    </tr>\n    <tr>\n      <th>7</th>\n      <td>MEFIS</td>\n      <td>2015-09-01 00:00:00</td>\n      <td>3680</td>\n      <td>NaN</td>\n      <td>120</td>\n      <td>790</td>\n      <td>&lt; 10</td>\n    </tr>\n    <tr>\n      <th>8</th>\n      <td>ANAMB.1</td>\n      <td>2015-10-01 00:00:00</td>\n      <td>3080</td>\n      <td>280</td>\n      <td>20</td>\n      <td>1270</td>\n      <td>30</td>\n    </tr>\n    <tr>\n      <th>9</th>\n      <td>SANEAMB</td>\n      <td>2015-11-01 00:00:00</td>\n      <td>2210</td>\n      <td>NaN</td>\n      <td>26.8</td>\n      <td>760</td>\n      <td>NaN</td>\n    </tr>\n  </tbody>\n</table>\n</div>"
     },
     "metadata": {},
     "execution_count": 1099
    }
   ],
   "source": [
    "# Read file\n",
    "filename = 'F10 Monitoramento da ETE Unisinos 2015'\n",
    "field = \"PTEL\"\n",
    "xls = pd.ExcelFile(f'./Modified/{filename}.xls')\n",
    "df = pd.read_excel(xls, field, header=2, usecols=\"A:J\", skipfooter=19, na_values=null_dict)\n",
    "\n",
    "# Clean data\n",
    "aux = df.T.reset_index()\n",
    "colnames = aux.iloc[0, :].tolist()\n",
    "aux.columns = colnames\n",
    "aux.drop(labels=[0, 1, 2], axis=0, inplace=True)\n",
    "# # aux.drop(aux.tail(0).index, inplace=True)\n",
    "df = aux\n",
    "# name = df.iloc[0,0]\n",
    "# rename = [name for value in df[df.columns[0]].values]\n",
    "# df[df.columns[0]] = rename\n",
    "# df['Data'] = df['Data'].astype('datetime64')\n",
    "\n",
    "df"
   ]
  },
  {
   "cell_type": "code",
   "execution_count": 1074,
   "metadata": {},
   "outputs": [],
   "source": [
    "field = field.replace(\" \", \"_\")\n",
    "field = field.lower()\n",
    "year = filename.split()[-1:][0].split(\".\")[0]\n",
    "df.to_csv(f\"./Dataset/{field}_{year}.csv\", encoding='utf8', index=False)\n",
    "copy2(\"extractor.ipynb\", f\"./Logs/{field}_{year}.ipynb\")"
   ]
  }
 ]
}