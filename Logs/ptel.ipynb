{
 "metadata": {
  "language_info": {
   "codemirror_mode": {
    "name": "ipython",
    "version": 3
   },
   "file_extension": ".py",
   "mimetype": "text/x-python",
   "name": "python",
   "nbconvert_exporter": "python",
   "pygments_lexer": "ipython3",
   "version": "3.7.7-final"
  },
  "orig_nbformat": 2,
  "kernelspec": {
   "name": "python_defaultSpec_1599051977613",
   "display_name": "Python 3.7.7 64-bit ('codenation': conda)"
  }
 },
 "nbformat": 4,
 "nbformat_minor": 2,
 "cells": [
  {
   "cell_type": "code",
   "execution_count": 1,
   "metadata": {},
   "outputs": [],
   "source": [
    "import numpy as np \n",
    "import pandas as pd \n",
    "from os import listdir\n",
    "from shutil import copy2 \n",
    "\n",
    "# Pandas setup\n",
    "pd.set_option('display.max_columns', 1000)\n",
    "pd.set_option('display.max_rows', 1000) \n",
    "pd.set_option('display.max_colwidth', -1) "
   ]
  },
  {
   "cell_type": "code",
   "execution_count": 2,
   "metadata": {
    "tags": []
   },
   "outputs": [
    {
     "output_type": "execute_result",
     "data": {
      "text/plain": "['ptel_2013.csv',\n 'ptel_2014.csv',\n 'ptel_2015.csv',\n 'ptel_2016.csv',\n 'ptel_2017.csv',\n 'ptel_2018.csv',\n 'ptel_2019.csv']"
     },
     "metadata": {},
     "execution_count": 2
    }
   ],
   "source": [
    "path = \"./Dataset/\"\n",
    "word = \"ptel\"\n",
    "archives = listdir(path) \n",
    "\n",
    "matches = [value for value in archives if word in value]\n",
    "matches = sorted(matches)\n",
    "matches"
   ]
  },
  {
   "cell_type": "code",
   "execution_count": 4,
   "metadata": {},
   "outputs": [
    {
     "output_type": "execute_result",
     "data": {
      "text/plain": "                              Parâmetros                 Data  Alumínio Total  \\\n0  ANAMB                                  2013-02-05 00:00:00  2.040            \n1  SANEAMB                                2013-04-03 00:00:00  0.710            \n2  SANEAMB.1                              2013-05-08 00:00:00  3.930            \n3  ANAMB.1                                2013-07-03 00:00:00  5.590            \n4  ITT FOSSIL                             2013-08-05 00:00:00  6.290            \n0  itt Fossil                             2014-03-01 00:00:00  26.100           \n1  ANAMBI                                 2014-07-05 00:00:00  0.045            \n2  itt Fossil / NUCMAT*                   2014-10-01 00:00:00  1.980            \n0  itt Fossil                             2014-03-01 00:00:00  26.100           \n1  ANAMBI                                 2014-07-05 00:00:00  0.045            \n2  itt Fossil / NUCMAT*                   2014-10-01 00:00:00  1.980            \n0  LCVMat                                 2015-01-01 00:00:00  860.000          \n1  ANAMB                                  2015-06-01 00:00:00  60.000           \n2  QUÍMICA (Bruto)  ENTRADA-PTEL interna  2015-07-01 00:00:00  34500.000        \n3  QUÍMICA (Tratado)\\nSAÍDA-PTEL interna  2015-07-01 00:00:00  190.000          \n4  MEFIS                                  2015-09-01 00:00:00  3680.000         \n5  ANAMB.1                                2015-10-01 00:00:00  3080.000         \n6  SANEAMB                                2015-11-01 00:00:00  2210.000         \n0  LCVMat                                 2015-01-01 00:00:00  860.000          \n1  ANAMB                                  2015-06-01 00:00:00  60.000           \n2  QUÍMICA (Bruto)  ENTRADA-PTEL interna  2015-07-01 00:00:00  34500.000        \n3  QUÍMICA (Tratado)\\nSAÍDA-PTEL interna  2015-07-01 00:00:00  190.000          \n4  MEFIS                                  2015-09-01 00:00:00  3680.000         \n5  ANAMB.1                                2015-10-01 00:00:00  3080.000         \n6  SANEAMB                                2015-11-01 00:00:00  2210.000         \n0  ANAMB                                  2016-02-01 00:00:00  3.286            \n1  itt Nutrifor                           2016-03-01 00:00:00  5.930            \n2  QUÍMICA                                2016-04-01 00:00:00  17.700           \n3  SANEAMB                                2016-05-01 00:00:00  2.130            \n4  QUÍMICA.1                              2016-08-01 00:00:00  2.050            \n5  itt Fuse                               2016-11-01 00:00:00  7.246            \n6  SANEAMB.1                              2016-11-01 00:00:00  1.150            \n0  ANAMB                                  2016-02-01 00:00:00  3.286            \n1  itt Nutrifor                           2016-03-01 00:00:00  5.930            \n2  QUÍMICA                                2016-04-01 00:00:00  17.700           \n3  SANEAMB                                2016-05-01 00:00:00  2.130            \n4  QUÍMICA.1                              2016-08-01 00:00:00  2.050            \n5  itt Fuse                               2016-11-01 00:00:00  7.246            \n6  SANEAMB.1                              2016-11-01 00:00:00  1.150            \n0  LCM                                    2017-02-01           3.280            \n1  SANEAMB                                2017-05-01           9.830            \n2  ANAMB                                  2017-07-01           0.720            \n0  LCM                                    2017-02-01           3.280            \n1  SANEAMB                                2017-05-01           9.830            \n2  ANAMB                                  2017-07-01           0.720            \n0  Lab. Quimica e Farmácia                2018-03-01 00:00:00  0.950            \n1  Lab                                    xx/2018             NaN               \n2  Lab.1                                  xx/2018             NaN               \n0  Lab. Quimica e Farmácia                2018-03-01 00:00:00  0.950            \n1  Lab                                    xx/2018             NaN               \n2  Lab.1                                  xx/2018             NaN               \n0  LAB. ANÁLISE AMBIENTAL                 2019-03-11           3.059            \n1  LAB. HISTOLOGIA                        2019-03-11           4.143            \n2  LAB. LCVMAT                            2019-03-11           2.295            \n3  LAB. ANÁLISE AMBIENTAL.1               2019-07-01           2.673            \n4  LAB. LCVMAT.1                          2019-07-01           1.030            \n5  LAB.           QUIMICA                 2019-07-01           7.905            \n6  LAB.           QUIMICA.1               2019-12-01           0.682            \n\n   Cobre Total Cromo Total Manganês Total Prata Total  \n0  0.107        3.38        0.179          0.064       \n1  0.027        0.077       1.06           0.004       \n2  0.078        4.03        14.6           0.055       \n3  0.138        0.234       5.7            0.042       \n4  0.009        0.026       0.677          0.015       \n0  0.046        0.043       1.89           0.017       \n1  0.056        0.097       0.96           0.094       \n2  0.031        0.748       0.241          NaN         \n0  0.046        0.043       1.89           0.017       \n1  0.056        0.097       0.96           0.094       \n2  0.031        0.748       0.241          NaN         \n0  50.000       80          70             30          \n1  40.000       30          12200          < 10        \n2  65800.000    43600       7920           < 10        \n3  690.000      80          20             10          \n4 NaN           120         790            < 10        \n5  280.000      20          1270           30          \n6 NaN           26.8        760            NaN         \n0  50.000       80          70             30          \n1  40.000       30          12200          < 10        \n2  65800.000    43600       7920           < 10        \n3  690.000      80          20             10          \n4 NaN           120         790            < 10        \n5  280.000      20          1270           30          \n6 NaN           26.8        760            NaN         \n0  0.132        <0,009      0.23           0.01        \n1  0.174        0.16        2.26           0.65        \n2  0.100        2.91        0.05           0.12        \n3  0.167        0.036       0.092          0.05        \n4  0.400        0.64        0.01           0.01        \n5  15.840       0.446       <0,010         0.164       \n6  0.380        <0,009      1.965          <0,010      \n0  0.132        <0,009      0.23           0.01        \n1  0.174        0.16        2.26           0.65        \n2  0.100        2.91        0.05           0.12        \n3  0.167        0.036       0.092          0.05        \n4  0.400        0.64        0.01           0.01        \n5  15.840       0.446       <0,010         0.164       \n6  0.380        <0,009      1.965          <0,010      \n0  2.160        3.56        1.3            0.672       \n1  0.285        0.81        0.93           0.01        \n2  0.179        0.009       0.323          0.01        \n0  2.160        3.56        1.3            0.672       \n1  0.285        0.81        0.93           0.01        \n2  0.179        0.009       0.323          0.01        \n0  83.900       0.14        < 0,01         < 0,01      \n1 NaN           NaN         NaN            NaN         \n2 NaN           NaN         NaN            NaN         \n0  83.900       0.14        < 0,01         < 0,01      \n1 NaN           NaN         NaN            NaN         \n2 NaN           NaN         NaN            NaN         \n0  0.134        0.292       11.27          0.01        \n1  0.829        0.3         0.166          0.01        \n2  0.069        0.138       1.392          0.01        \n3  0.077        0.099       0.036          NaN         \n4  2.591        NaN         0.05           NaN         \n5  1.285        3.405       3.755          NaN         \n6  0.870        0.26        1.026          NaN         ",
      "text/html": "<div>\n<style scoped>\n    .dataframe tbody tr th:only-of-type {\n        vertical-align: middle;\n    }\n\n    .dataframe tbody tr th {\n        vertical-align: top;\n    }\n\n    .dataframe thead th {\n        text-align: right;\n    }\n</style>\n<table border=\"1\" class=\"dataframe\">\n  <thead>\n    <tr style=\"text-align: right;\">\n      <th></th>\n      <th>Parâmetros</th>\n      <th>Data</th>\n      <th>Alumínio Total</th>\n      <th>Cobre Total</th>\n      <th>Cromo Total</th>\n      <th>Manganês Total</th>\n      <th>Prata Total</th>\n    </tr>\n  </thead>\n  <tbody>\n    <tr>\n      <th>0</th>\n      <td>ANAMB</td>\n      <td>2013-02-05 00:00:00</td>\n      <td>2.040</td>\n      <td>0.107</td>\n      <td>3.38</td>\n      <td>0.179</td>\n      <td>0.064</td>\n    </tr>\n    <tr>\n      <th>1</th>\n      <td>SANEAMB</td>\n      <td>2013-04-03 00:00:00</td>\n      <td>0.710</td>\n      <td>0.027</td>\n      <td>0.077</td>\n      <td>1.06</td>\n      <td>0.004</td>\n    </tr>\n    <tr>\n      <th>2</th>\n      <td>SANEAMB.1</td>\n      <td>2013-05-08 00:00:00</td>\n      <td>3.930</td>\n      <td>0.078</td>\n      <td>4.03</td>\n      <td>14.6</td>\n      <td>0.055</td>\n    </tr>\n    <tr>\n      <th>3</th>\n      <td>ANAMB.1</td>\n      <td>2013-07-03 00:00:00</td>\n      <td>5.590</td>\n      <td>0.138</td>\n      <td>0.234</td>\n      <td>5.7</td>\n      <td>0.042</td>\n    </tr>\n    <tr>\n      <th>4</th>\n      <td>ITT FOSSIL</td>\n      <td>2013-08-05 00:00:00</td>\n      <td>6.290</td>\n      <td>0.009</td>\n      <td>0.026</td>\n      <td>0.677</td>\n      <td>0.015</td>\n    </tr>\n    <tr>\n      <th>0</th>\n      <td>itt Fossil</td>\n      <td>2014-03-01 00:00:00</td>\n      <td>26.100</td>\n      <td>0.046</td>\n      <td>0.043</td>\n      <td>1.89</td>\n      <td>0.017</td>\n    </tr>\n    <tr>\n      <th>1</th>\n      <td>ANAMBI</td>\n      <td>2014-07-05 00:00:00</td>\n      <td>0.045</td>\n      <td>0.056</td>\n      <td>0.097</td>\n      <td>0.96</td>\n      <td>0.094</td>\n    </tr>\n    <tr>\n      <th>2</th>\n      <td>itt Fossil / NUCMAT*</td>\n      <td>2014-10-01 00:00:00</td>\n      <td>1.980</td>\n      <td>0.031</td>\n      <td>0.748</td>\n      <td>0.241</td>\n      <td>NaN</td>\n    </tr>\n    <tr>\n      <th>0</th>\n      <td>itt Fossil</td>\n      <td>2014-03-01 00:00:00</td>\n      <td>26.100</td>\n      <td>0.046</td>\n      <td>0.043</td>\n      <td>1.89</td>\n      <td>0.017</td>\n    </tr>\n    <tr>\n      <th>1</th>\n      <td>ANAMBI</td>\n      <td>2014-07-05 00:00:00</td>\n      <td>0.045</td>\n      <td>0.056</td>\n      <td>0.097</td>\n      <td>0.96</td>\n      <td>0.094</td>\n    </tr>\n    <tr>\n      <th>2</th>\n      <td>itt Fossil / NUCMAT*</td>\n      <td>2014-10-01 00:00:00</td>\n      <td>1.980</td>\n      <td>0.031</td>\n      <td>0.748</td>\n      <td>0.241</td>\n      <td>NaN</td>\n    </tr>\n    <tr>\n      <th>0</th>\n      <td>LCVMat</td>\n      <td>2015-01-01 00:00:00</td>\n      <td>860.000</td>\n      <td>50.000</td>\n      <td>80</td>\n      <td>70</td>\n      <td>30</td>\n    </tr>\n    <tr>\n      <th>1</th>\n      <td>ANAMB</td>\n      <td>2015-06-01 00:00:00</td>\n      <td>60.000</td>\n      <td>40.000</td>\n      <td>30</td>\n      <td>12200</td>\n      <td>&lt; 10</td>\n    </tr>\n    <tr>\n      <th>2</th>\n      <td>QUÍMICA (Bruto)  ENTRADA-PTEL interna</td>\n      <td>2015-07-01 00:00:00</td>\n      <td>34500.000</td>\n      <td>65800.000</td>\n      <td>43600</td>\n      <td>7920</td>\n      <td>&lt; 10</td>\n    </tr>\n    <tr>\n      <th>3</th>\n      <td>QUÍMICA (Tratado)\\nSAÍDA-PTEL interna</td>\n      <td>2015-07-01 00:00:00</td>\n      <td>190.000</td>\n      <td>690.000</td>\n      <td>80</td>\n      <td>20</td>\n      <td>10</td>\n    </tr>\n    <tr>\n      <th>4</th>\n      <td>MEFIS</td>\n      <td>2015-09-01 00:00:00</td>\n      <td>3680.000</td>\n      <td>NaN</td>\n      <td>120</td>\n      <td>790</td>\n      <td>&lt; 10</td>\n    </tr>\n    <tr>\n      <th>5</th>\n      <td>ANAMB.1</td>\n      <td>2015-10-01 00:00:00</td>\n      <td>3080.000</td>\n      <td>280.000</td>\n      <td>20</td>\n      <td>1270</td>\n      <td>30</td>\n    </tr>\n    <tr>\n      <th>6</th>\n      <td>SANEAMB</td>\n      <td>2015-11-01 00:00:00</td>\n      <td>2210.000</td>\n      <td>NaN</td>\n      <td>26.8</td>\n      <td>760</td>\n      <td>NaN</td>\n    </tr>\n    <tr>\n      <th>0</th>\n      <td>LCVMat</td>\n      <td>2015-01-01 00:00:00</td>\n      <td>860.000</td>\n      <td>50.000</td>\n      <td>80</td>\n      <td>70</td>\n      <td>30</td>\n    </tr>\n    <tr>\n      <th>1</th>\n      <td>ANAMB</td>\n      <td>2015-06-01 00:00:00</td>\n      <td>60.000</td>\n      <td>40.000</td>\n      <td>30</td>\n      <td>12200</td>\n      <td>&lt; 10</td>\n    </tr>\n    <tr>\n      <th>2</th>\n      <td>QUÍMICA (Bruto)  ENTRADA-PTEL interna</td>\n      <td>2015-07-01 00:00:00</td>\n      <td>34500.000</td>\n      <td>65800.000</td>\n      <td>43600</td>\n      <td>7920</td>\n      <td>&lt; 10</td>\n    </tr>\n    <tr>\n      <th>3</th>\n      <td>QUÍMICA (Tratado)\\nSAÍDA-PTEL interna</td>\n      <td>2015-07-01 00:00:00</td>\n      <td>190.000</td>\n      <td>690.000</td>\n      <td>80</td>\n      <td>20</td>\n      <td>10</td>\n    </tr>\n    <tr>\n      <th>4</th>\n      <td>MEFIS</td>\n      <td>2015-09-01 00:00:00</td>\n      <td>3680.000</td>\n      <td>NaN</td>\n      <td>120</td>\n      <td>790</td>\n      <td>&lt; 10</td>\n    </tr>\n    <tr>\n      <th>5</th>\n      <td>ANAMB.1</td>\n      <td>2015-10-01 00:00:00</td>\n      <td>3080.000</td>\n      <td>280.000</td>\n      <td>20</td>\n      <td>1270</td>\n      <td>30</td>\n    </tr>\n    <tr>\n      <th>6</th>\n      <td>SANEAMB</td>\n      <td>2015-11-01 00:00:00</td>\n      <td>2210.000</td>\n      <td>NaN</td>\n      <td>26.8</td>\n      <td>760</td>\n      <td>NaN</td>\n    </tr>\n    <tr>\n      <th>0</th>\n      <td>ANAMB</td>\n      <td>2016-02-01 00:00:00</td>\n      <td>3.286</td>\n      <td>0.132</td>\n      <td>&lt;0,009</td>\n      <td>0.23</td>\n      <td>0.01</td>\n    </tr>\n    <tr>\n      <th>1</th>\n      <td>itt Nutrifor</td>\n      <td>2016-03-01 00:00:00</td>\n      <td>5.930</td>\n      <td>0.174</td>\n      <td>0.16</td>\n      <td>2.26</td>\n      <td>0.65</td>\n    </tr>\n    <tr>\n      <th>2</th>\n      <td>QUÍMICA</td>\n      <td>2016-04-01 00:00:00</td>\n      <td>17.700</td>\n      <td>0.100</td>\n      <td>2.91</td>\n      <td>0.05</td>\n      <td>0.12</td>\n    </tr>\n    <tr>\n      <th>3</th>\n      <td>SANEAMB</td>\n      <td>2016-05-01 00:00:00</td>\n      <td>2.130</td>\n      <td>0.167</td>\n      <td>0.036</td>\n      <td>0.092</td>\n      <td>0.05</td>\n    </tr>\n    <tr>\n      <th>4</th>\n      <td>QUÍMICA.1</td>\n      <td>2016-08-01 00:00:00</td>\n      <td>2.050</td>\n      <td>0.400</td>\n      <td>0.64</td>\n      <td>0.01</td>\n      <td>0.01</td>\n    </tr>\n    <tr>\n      <th>5</th>\n      <td>itt Fuse</td>\n      <td>2016-11-01 00:00:00</td>\n      <td>7.246</td>\n      <td>15.840</td>\n      <td>0.446</td>\n      <td>&lt;0,010</td>\n      <td>0.164</td>\n    </tr>\n    <tr>\n      <th>6</th>\n      <td>SANEAMB.1</td>\n      <td>2016-11-01 00:00:00</td>\n      <td>1.150</td>\n      <td>0.380</td>\n      <td>&lt;0,009</td>\n      <td>1.965</td>\n      <td>&lt;0,010</td>\n    </tr>\n    <tr>\n      <th>0</th>\n      <td>ANAMB</td>\n      <td>2016-02-01 00:00:00</td>\n      <td>3.286</td>\n      <td>0.132</td>\n      <td>&lt;0,009</td>\n      <td>0.23</td>\n      <td>0.01</td>\n    </tr>\n    <tr>\n      <th>1</th>\n      <td>itt Nutrifor</td>\n      <td>2016-03-01 00:00:00</td>\n      <td>5.930</td>\n      <td>0.174</td>\n      <td>0.16</td>\n      <td>2.26</td>\n      <td>0.65</td>\n    </tr>\n    <tr>\n      <th>2</th>\n      <td>QUÍMICA</td>\n      <td>2016-04-01 00:00:00</td>\n      <td>17.700</td>\n      <td>0.100</td>\n      <td>2.91</td>\n      <td>0.05</td>\n      <td>0.12</td>\n    </tr>\n    <tr>\n      <th>3</th>\n      <td>SANEAMB</td>\n      <td>2016-05-01 00:00:00</td>\n      <td>2.130</td>\n      <td>0.167</td>\n      <td>0.036</td>\n      <td>0.092</td>\n      <td>0.05</td>\n    </tr>\n    <tr>\n      <th>4</th>\n      <td>QUÍMICA.1</td>\n      <td>2016-08-01 00:00:00</td>\n      <td>2.050</td>\n      <td>0.400</td>\n      <td>0.64</td>\n      <td>0.01</td>\n      <td>0.01</td>\n    </tr>\n    <tr>\n      <th>5</th>\n      <td>itt Fuse</td>\n      <td>2016-11-01 00:00:00</td>\n      <td>7.246</td>\n      <td>15.840</td>\n      <td>0.446</td>\n      <td>&lt;0,010</td>\n      <td>0.164</td>\n    </tr>\n    <tr>\n      <th>6</th>\n      <td>SANEAMB.1</td>\n      <td>2016-11-01 00:00:00</td>\n      <td>1.150</td>\n      <td>0.380</td>\n      <td>&lt;0,009</td>\n      <td>1.965</td>\n      <td>&lt;0,010</td>\n    </tr>\n    <tr>\n      <th>0</th>\n      <td>LCM</td>\n      <td>2017-02-01</td>\n      <td>3.280</td>\n      <td>2.160</td>\n      <td>3.56</td>\n      <td>1.3</td>\n      <td>0.672</td>\n    </tr>\n    <tr>\n      <th>1</th>\n      <td>SANEAMB</td>\n      <td>2017-05-01</td>\n      <td>9.830</td>\n      <td>0.285</td>\n      <td>0.81</td>\n      <td>0.93</td>\n      <td>0.01</td>\n    </tr>\n    <tr>\n      <th>2</th>\n      <td>ANAMB</td>\n      <td>2017-07-01</td>\n      <td>0.720</td>\n      <td>0.179</td>\n      <td>0.009</td>\n      <td>0.323</td>\n      <td>0.01</td>\n    </tr>\n    <tr>\n      <th>0</th>\n      <td>LCM</td>\n      <td>2017-02-01</td>\n      <td>3.280</td>\n      <td>2.160</td>\n      <td>3.56</td>\n      <td>1.3</td>\n      <td>0.672</td>\n    </tr>\n    <tr>\n      <th>1</th>\n      <td>SANEAMB</td>\n      <td>2017-05-01</td>\n      <td>9.830</td>\n      <td>0.285</td>\n      <td>0.81</td>\n      <td>0.93</td>\n      <td>0.01</td>\n    </tr>\n    <tr>\n      <th>2</th>\n      <td>ANAMB</td>\n      <td>2017-07-01</td>\n      <td>0.720</td>\n      <td>0.179</td>\n      <td>0.009</td>\n      <td>0.323</td>\n      <td>0.01</td>\n    </tr>\n    <tr>\n      <th>0</th>\n      <td>Lab. Quimica e Farmácia</td>\n      <td>2018-03-01 00:00:00</td>\n      <td>0.950</td>\n      <td>83.900</td>\n      <td>0.14</td>\n      <td>&lt; 0,01</td>\n      <td>&lt; 0,01</td>\n    </tr>\n    <tr>\n      <th>1</th>\n      <td>Lab</td>\n      <td>xx/2018</td>\n      <td>NaN</td>\n      <td>NaN</td>\n      <td>NaN</td>\n      <td>NaN</td>\n      <td>NaN</td>\n    </tr>\n    <tr>\n      <th>2</th>\n      <td>Lab.1</td>\n      <td>xx/2018</td>\n      <td>NaN</td>\n      <td>NaN</td>\n      <td>NaN</td>\n      <td>NaN</td>\n      <td>NaN</td>\n    </tr>\n    <tr>\n      <th>0</th>\n      <td>Lab. Quimica e Farmácia</td>\n      <td>2018-03-01 00:00:00</td>\n      <td>0.950</td>\n      <td>83.900</td>\n      <td>0.14</td>\n      <td>&lt; 0,01</td>\n      <td>&lt; 0,01</td>\n    </tr>\n    <tr>\n      <th>1</th>\n      <td>Lab</td>\n      <td>xx/2018</td>\n      <td>NaN</td>\n      <td>NaN</td>\n      <td>NaN</td>\n      <td>NaN</td>\n      <td>NaN</td>\n    </tr>\n    <tr>\n      <th>2</th>\n      <td>Lab.1</td>\n      <td>xx/2018</td>\n      <td>NaN</td>\n      <td>NaN</td>\n      <td>NaN</td>\n      <td>NaN</td>\n      <td>NaN</td>\n    </tr>\n    <tr>\n      <th>0</th>\n      <td>LAB. ANÁLISE AMBIENTAL</td>\n      <td>2019-03-11</td>\n      <td>3.059</td>\n      <td>0.134</td>\n      <td>0.292</td>\n      <td>11.27</td>\n      <td>0.01</td>\n    </tr>\n    <tr>\n      <th>1</th>\n      <td>LAB. HISTOLOGIA</td>\n      <td>2019-03-11</td>\n      <td>4.143</td>\n      <td>0.829</td>\n      <td>0.3</td>\n      <td>0.166</td>\n      <td>0.01</td>\n    </tr>\n    <tr>\n      <th>2</th>\n      <td>LAB. LCVMAT</td>\n      <td>2019-03-11</td>\n      <td>2.295</td>\n      <td>0.069</td>\n      <td>0.138</td>\n      <td>1.392</td>\n      <td>0.01</td>\n    </tr>\n    <tr>\n      <th>3</th>\n      <td>LAB. ANÁLISE AMBIENTAL.1</td>\n      <td>2019-07-01</td>\n      <td>2.673</td>\n      <td>0.077</td>\n      <td>0.099</td>\n      <td>0.036</td>\n      <td>NaN</td>\n    </tr>\n    <tr>\n      <th>4</th>\n      <td>LAB. LCVMAT.1</td>\n      <td>2019-07-01</td>\n      <td>1.030</td>\n      <td>2.591</td>\n      <td>NaN</td>\n      <td>0.05</td>\n      <td>NaN</td>\n    </tr>\n    <tr>\n      <th>5</th>\n      <td>LAB.           QUIMICA</td>\n      <td>2019-07-01</td>\n      <td>7.905</td>\n      <td>1.285</td>\n      <td>3.405</td>\n      <td>3.755</td>\n      <td>NaN</td>\n    </tr>\n    <tr>\n      <th>6</th>\n      <td>LAB.           QUIMICA.1</td>\n      <td>2019-12-01</td>\n      <td>0.682</td>\n      <td>0.870</td>\n      <td>0.26</td>\n      <td>1.026</td>\n      <td>NaN</td>\n    </tr>\n  </tbody>\n</table>\n</div>"
     },
     "metadata": {},
     "execution_count": 4
    }
   ],
   "source": [
    "df = pd.DataFrame()\n",
    "for i in range(0, len(matches) - 1):\n",
    "    df_1 = pd.read_csv(path + matches[i], encoding='utf8')\n",
    "    df_2 = pd.read_csv(path + matches[i + 1], encoding='utf8')\n",
    "    partial = df_1.append(df_2)\n",
    "    df = df.append(partial)\n",
    "\n",
    "df"
   ]
  },
  {
   "cell_type": "code",
   "execution_count": 6,
   "metadata": {},
   "outputs": [
    {
     "output_type": "execute_result",
     "data": {
      "text/plain": "'./Logs/pH.ipynb'"
     },
     "metadata": {},
     "execution_count": 6
    }
   ],
   "source": [
    "df.to_csv(f\"./Merged/{word}.csv\", encoding='utf8', index=False)\n",
    "copy2(\"cleaner.ipynb\", f\"./Logs/{word}.ipynb\")"
   ]
  },
  {
   "cell_type": "code",
   "execution_count": null,
   "metadata": {},
   "outputs": [],
   "source": []
  }
 ]
}