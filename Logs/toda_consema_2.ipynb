{
 "metadata": {
  "language_info": {
   "codemirror_mode": {
    "name": "ipython",
    "version": 3
   },
   "file_extension": ".py",
   "mimetype": "text/x-python",
   "name": "python",
   "nbconvert_exporter": "python",
   "pygments_lexer": "ipython3",
   "version": "3.7.7-final"
  },
  "orig_nbformat": 2,
  "kernelspec": {
   "name": "python_defaultSpec_1599051977613",
   "display_name": "Python 3.7.7 64-bit ('codenation': conda)"
  }
 },
 "nbformat": 4,
 "nbformat_minor": 2,
 "cells": [
  {
   "cell_type": "code",
   "execution_count": 1,
   "metadata": {},
   "outputs": [],
   "source": [
    "import numpy as np \n",
    "import pandas as pd \n",
    "from os import listdir\n",
    "from shutil import copy2 \n",
    "\n",
    "# Pandas setup\n",
    "pd.set_option('display.max_columns', 1000)\n",
    "pd.set_option('display.max_rows', 1000) \n",
    "pd.set_option('display.max_colwidth', -1) "
   ]
  },
  {
   "cell_type": "code",
   "execution_count": 2,
   "metadata": {
    "tags": []
   },
   "outputs": [
    {
     "output_type": "execute_result",
     "data": {
      "text/plain": "['toda_consema_2013.csv',\n 'toda_consema_2014.csv',\n 'toda_consema_2015.csv',\n 'toda_consema_2016.csv',\n 'toda_consema_2017.csv',\n 'toda_consema_2018.csv',\n 'toda_consema_2019.csv']"
     },
     "metadata": {},
     "execution_count": 2
    }
   ],
   "source": [
    "path = \"./Dataset/\"\n",
    "word = \"toda_consema_2\"\n",
    "archives = listdir(path) \n",
    "\n",
    "matches = [value for value in archives if word in value]\n",
    "matches = sorted(matches)\n",
    "matches"
   ]
  },
  {
   "cell_type": "code",
   "execution_count": 15,
   "metadata": {},
   "outputs": [
    {
     "output_type": "execute_result",
     "data": {
      "text/plain": "  PARÂMETROS        Data  Alumínio Total Arsênio Total  Bário Total  \\\n0  P1         2012-03-23  0.531           NaN           0.034         \n1  P2/P6      2012-03-23  1.840           NaN           0.012         \n2  P1         2012-11-05  0.230           NaN           0.028         \n3  P2/P6      2012-11-05  1.040           0.023        NaN            \n4  P1         2012-09-24  2.030           NaN           0.074         \n\n  Boro Total Cádmio Total Chumbo Total  Cianeto Total Cobalto Total  \\\n0  NaN        NaN          NaN         NaN             NaN            \n1  59         0.009        NaN         NaN             0.019          \n2  0.093      NaN          NaN         NaN             0.001          \n3  NaN        NaN          NaN         NaN             NaN            \n4  1.2        NaN          NaN         NaN             0.002          \n\n  Cobre Total Cromo Total Cromo Hexavalente  DBO  DQO Estanho Total  \\\n0  0.024       1050        0.001             NaN  280  734            \n1  4.04        200         0.017             NaN  32   95.1           \n2  0.022       295         0.004             NaN  290  750            \n3  NaN         140         0.01              NaN  92   261            \n4  0.017       49          0.004             NaN  86   237            \n\n   Fenóis Total  Ferro Total Fósforo Total Fluoreto Lítio Total  \\\n0 NaN            0.019        2.11          0.041    0.003        \n1 NaN            0.034        0.17          0.581    0.042        \n2 NaN            0.032        2.22          NaN      NaN          \n3 NaN            0.021        7.03          0.068    NaN          \n4 NaN           NaN           7.31          NaN      0.002        \n\n   Manganês Total  Mercúrio Molibdênio Total Níquel Total  \\\n0  0.125           0.043     0.006            0.003         \n1  4.400           0.909     7.2              NaN           \n2  0.181          NaN        NaN              0.003         \n3  0.070          NaN        NaN              0.005         \n4  0.286          NaN        0.002            NaN           \n\n   Nitrogênio Amoniacal  Nitrogênio Total Kjeldahl  \\\n0  73.0                 NaN                          \n1  69.5                 NaN                          \n2  82.1                 NaN                          \n3  83.8                 NaN                          \n4  22.6                 NaN                          \n\n   Coliformes Termotolerantes Prata Total Mercúrio Total Cianeto  \\\n0  1011200.0                   NaN         NaN            NaN      \n1  435200.0                    NaN         NaN            NaN      \n2  111990.0                    NaN         NaN            NaN      \n3  98040.0                     NaN         NaN            NaN      \n4  292400.0                    NaN         NaN            NaN      \n\n  Índice de Fenóis  Nitrogênio Total Fenol  \n0  NaN             NaN                NaN   \n1  NaN             NaN                NaN   \n2  NaN             NaN                NaN   \n3  NaN             NaN                NaN   \n4  NaN             NaN                NaN   ",
      "text/html": "<div>\n<style scoped>\n    .dataframe tbody tr th:only-of-type {\n        vertical-align: middle;\n    }\n\n    .dataframe tbody tr th {\n        vertical-align: top;\n    }\n\n    .dataframe thead th {\n        text-align: right;\n    }\n</style>\n<table border=\"1\" class=\"dataframe\">\n  <thead>\n    <tr style=\"text-align: right;\">\n      <th></th>\n      <th>PARÂMETROS</th>\n      <th>Data</th>\n      <th>Alumínio Total</th>\n      <th>Arsênio Total</th>\n      <th>Bário Total</th>\n      <th>Boro Total</th>\n      <th>Cádmio Total</th>\n      <th>Chumbo Total</th>\n      <th>Cianeto Total</th>\n      <th>Cobalto Total</th>\n      <th>Cobre Total</th>\n      <th>Cromo Total</th>\n      <th>Cromo Hexavalente</th>\n      <th>DBO</th>\n      <th>DQO</th>\n      <th>Estanho Total</th>\n      <th>Fenóis Total</th>\n      <th>Ferro Total</th>\n      <th>Fósforo Total</th>\n      <th>Fluoreto</th>\n      <th>Lítio Total</th>\n      <th>Manganês Total</th>\n      <th>Mercúrio</th>\n      <th>Molibdênio Total</th>\n      <th>Níquel Total</th>\n      <th>Nitrogênio Amoniacal</th>\n      <th>Nitrogênio Total Kjeldahl</th>\n      <th>Coliformes Termotolerantes</th>\n      <th>Prata Total</th>\n      <th>Mercúrio Total</th>\n      <th>Cianeto</th>\n      <th>Índice de Fenóis</th>\n      <th>Nitrogênio Total</th>\n      <th>Fenol</th>\n    </tr>\n  </thead>\n  <tbody>\n    <tr>\n      <th>0</th>\n      <td>P1</td>\n      <td>2012-03-23</td>\n      <td>0.531</td>\n      <td>NaN</td>\n      <td>0.034</td>\n      <td>NaN</td>\n      <td>NaN</td>\n      <td>NaN</td>\n      <td>NaN</td>\n      <td>NaN</td>\n      <td>0.024</td>\n      <td>1050</td>\n      <td>0.001</td>\n      <td>NaN</td>\n      <td>280</td>\n      <td>734</td>\n      <td>NaN</td>\n      <td>0.019</td>\n      <td>2.11</td>\n      <td>0.041</td>\n      <td>0.003</td>\n      <td>0.125</td>\n      <td>0.043</td>\n      <td>0.006</td>\n      <td>0.003</td>\n      <td>73.0</td>\n      <td>NaN</td>\n      <td>1011200.0</td>\n      <td>NaN</td>\n      <td>NaN</td>\n      <td>NaN</td>\n      <td>NaN</td>\n      <td>NaN</td>\n      <td>NaN</td>\n    </tr>\n    <tr>\n      <th>1</th>\n      <td>P2/P6</td>\n      <td>2012-03-23</td>\n      <td>1.840</td>\n      <td>NaN</td>\n      <td>0.012</td>\n      <td>59</td>\n      <td>0.009</td>\n      <td>NaN</td>\n      <td>NaN</td>\n      <td>0.019</td>\n      <td>4.04</td>\n      <td>200</td>\n      <td>0.017</td>\n      <td>NaN</td>\n      <td>32</td>\n      <td>95.1</td>\n      <td>NaN</td>\n      <td>0.034</td>\n      <td>0.17</td>\n      <td>0.581</td>\n      <td>0.042</td>\n      <td>4.400</td>\n      <td>0.909</td>\n      <td>7.2</td>\n      <td>NaN</td>\n      <td>69.5</td>\n      <td>NaN</td>\n      <td>435200.0</td>\n      <td>NaN</td>\n      <td>NaN</td>\n      <td>NaN</td>\n      <td>NaN</td>\n      <td>NaN</td>\n      <td>NaN</td>\n    </tr>\n    <tr>\n      <th>2</th>\n      <td>P1</td>\n      <td>2012-11-05</td>\n      <td>0.230</td>\n      <td>NaN</td>\n      <td>0.028</td>\n      <td>0.093</td>\n      <td>NaN</td>\n      <td>NaN</td>\n      <td>NaN</td>\n      <td>0.001</td>\n      <td>0.022</td>\n      <td>295</td>\n      <td>0.004</td>\n      <td>NaN</td>\n      <td>290</td>\n      <td>750</td>\n      <td>NaN</td>\n      <td>0.032</td>\n      <td>2.22</td>\n      <td>NaN</td>\n      <td>NaN</td>\n      <td>0.181</td>\n      <td>NaN</td>\n      <td>NaN</td>\n      <td>0.003</td>\n      <td>82.1</td>\n      <td>NaN</td>\n      <td>111990.0</td>\n      <td>NaN</td>\n      <td>NaN</td>\n      <td>NaN</td>\n      <td>NaN</td>\n      <td>NaN</td>\n      <td>NaN</td>\n    </tr>\n    <tr>\n      <th>3</th>\n      <td>P2/P6</td>\n      <td>2012-11-05</td>\n      <td>1.040</td>\n      <td>0.023</td>\n      <td>NaN</td>\n      <td>NaN</td>\n      <td>NaN</td>\n      <td>NaN</td>\n      <td>NaN</td>\n      <td>NaN</td>\n      <td>NaN</td>\n      <td>140</td>\n      <td>0.01</td>\n      <td>NaN</td>\n      <td>92</td>\n      <td>261</td>\n      <td>NaN</td>\n      <td>0.021</td>\n      <td>7.03</td>\n      <td>0.068</td>\n      <td>NaN</td>\n      <td>0.070</td>\n      <td>NaN</td>\n      <td>NaN</td>\n      <td>0.005</td>\n      <td>83.8</td>\n      <td>NaN</td>\n      <td>98040.0</td>\n      <td>NaN</td>\n      <td>NaN</td>\n      <td>NaN</td>\n      <td>NaN</td>\n      <td>NaN</td>\n      <td>NaN</td>\n    </tr>\n    <tr>\n      <th>4</th>\n      <td>P1</td>\n      <td>2012-09-24</td>\n      <td>2.030</td>\n      <td>NaN</td>\n      <td>0.074</td>\n      <td>1.2</td>\n      <td>NaN</td>\n      <td>NaN</td>\n      <td>NaN</td>\n      <td>0.002</td>\n      <td>0.017</td>\n      <td>49</td>\n      <td>0.004</td>\n      <td>NaN</td>\n      <td>86</td>\n      <td>237</td>\n      <td>NaN</td>\n      <td>NaN</td>\n      <td>7.31</td>\n      <td>NaN</td>\n      <td>0.002</td>\n      <td>0.286</td>\n      <td>NaN</td>\n      <td>0.002</td>\n      <td>NaN</td>\n      <td>22.6</td>\n      <td>NaN</td>\n      <td>292400.0</td>\n      <td>NaN</td>\n      <td>NaN</td>\n      <td>NaN</td>\n      <td>NaN</td>\n      <td>NaN</td>\n      <td>NaN</td>\n    </tr>\n  </tbody>\n</table>\n</div>"
     },
     "metadata": {},
     "execution_count": 15
    }
   ],
   "source": [
    "df = pd.DataFrame()\n",
    "for i in range(0, len(matches) - 1):\n",
    "    df_1 = pd.read_csv(path + matches[i], encoding='utf8')\n",
    "    df_2 = pd.read_csv(path + matches[i + 1], encoding='utf8')\n",
    "    partial = df_1.append(df_2)\n",
    "    df = df.append(partial)\n",
    "\n",
    "df"
   ]
  },
  {
   "cell_type": "code",
   "execution_count": 18,
   "metadata": {},
   "outputs": [
    {
     "output_type": "execute_result",
     "data": {
      "text/plain": "'./Logs/surfactantes.ipynb'"
     },
     "metadata": {},
     "execution_count": 18
    }
   ],
   "source": [
    "df.to_csv(f\"./Merged/{word}.csv\", encoding='utf8', index=False)\n",
    "copy2(\"cleaner.ipynb\", f\"./Logs/{word}.ipynb\")"
   ]
  },
  {
   "cell_type": "code",
   "execution_count": null,
   "metadata": {},
   "outputs": [],
   "source": []
  }
 ]
}