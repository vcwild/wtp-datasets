{
 "metadata": {
  "language_info": {
   "codemirror_mode": {
    "name": "ipython",
    "version": 3
   },
   "file_extension": ".py",
   "mimetype": "text/x-python",
   "name": "python",
   "nbconvert_exporter": "python",
   "pygments_lexer": "ipython3",
   "version": "3.7.7-final"
  },
  "orig_nbformat": 2,
  "kernelspec": {
   "name": "python_defaultSpec_1598969367848",
   "display_name": "Python 3.7.7 64-bit"
  }
 },
 "nbformat": 4,
 "nbformat_minor": 2,
 "cells": [
  {
   "cell_type": "code",
   "execution_count": 1082,
   "metadata": {},
   "outputs": [],
   "source": [
    "import pandas as pd \n",
    "from shutil import copy2"
   ]
  },
  {
   "cell_type": "code",
   "execution_count": 969,
   "metadata": {},
   "outputs": [],
   "source": [
    "# Pandas setup\n",
    "pd.set_option('display.max_columns', 1000)\n",
    "pd.set_option('display.max_rows', 1000) \n",
    "pd.set_option('display.max_colwidth', -1) "
   ]
  },
  {
   "cell_type": "code",
   "execution_count": 970,
   "metadata": {},
   "outputs": [],
   "source": [
    "# Custom NA dictionary\n",
    "null_dict = [\"\", \"#N/A\", \"#N/A N/A\", \"#NA\", \"-1.#IND\", \"-1.#QNAN\", \"-NaN\", \"-nan\", \"1.#IND\", \"1.#QNAN\", \"<NA>\", \"N/A\", \"NA\", \"NULL\", \"NaN\", \"n/a\", \"nan\", \"null\", \"*\", \"**\", \"n.d.\", \"-\", \"#DIV/0!\", \"#DIV/0\", \" \", \"\\xad\", \"n.d\", \"ND\", \"N.D.\", \"N.D\"]"
   ]
  },
  {
   "cell_type": "code",
   "execution_count": 1153,
   "metadata": {},
   "outputs": [
    {
     "output_type": "execute_result",
     "data": {
      "text/plain": "                Parâmetros                 Data Alumínio Total Cobre Total  \\\n2  Lab. Quimica e Farmácia  2018-03-01 00:00:00  0.95           83.9         \n3  Lab                      xx/2018              NaN            NaN          \n4  Lab.1                    xx/2018              NaN            NaN          \n\n  Cromo Total Manganês Total Prata Total  \n2  0.14        < 0,01         < 0,01      \n3  NaN         NaN            NaN         \n4  NaN         NaN            NaN         ",
      "text/html": "<div>\n<style scoped>\n    .dataframe tbody tr th:only-of-type {\n        vertical-align: middle;\n    }\n\n    .dataframe tbody tr th {\n        vertical-align: top;\n    }\n\n    .dataframe thead th {\n        text-align: right;\n    }\n</style>\n<table border=\"1\" class=\"dataframe\">\n  <thead>\n    <tr style=\"text-align: right;\">\n      <th></th>\n      <th>Parâmetros</th>\n      <th>Data</th>\n      <th>Alumínio Total</th>\n      <th>Cobre Total</th>\n      <th>Cromo Total</th>\n      <th>Manganês Total</th>\n      <th>Prata Total</th>\n    </tr>\n  </thead>\n  <tbody>\n    <tr>\n      <th>2</th>\n      <td>Lab. Quimica e Farmácia</td>\n      <td>2018-03-01 00:00:00</td>\n      <td>0.95</td>\n      <td>83.9</td>\n      <td>0.14</td>\n      <td>&lt; 0,01</td>\n      <td>&lt; 0,01</td>\n    </tr>\n    <tr>\n      <th>3</th>\n      <td>Lab</td>\n      <td>xx/2018</td>\n      <td>NaN</td>\n      <td>NaN</td>\n      <td>NaN</td>\n      <td>NaN</td>\n      <td>NaN</td>\n    </tr>\n    <tr>\n      <th>4</th>\n      <td>Lab.1</td>\n      <td>xx/2018</td>\n      <td>NaN</td>\n      <td>NaN</td>\n      <td>NaN</td>\n      <td>NaN</td>\n      <td>NaN</td>\n    </tr>\n  </tbody>\n</table>\n</div>"
     },
     "metadata": {},
     "execution_count": 1153
    }
   ],
   "source": [
    "# Read file\n",
    "filename = 'F10 Monitoramento da ETE Unisinos 2018'\n",
    "field = \"PTEL\"\n",
    "xls = pd.ExcelFile(f'./Modified/{filename}.xls')\n",
    "df = pd.read_excel(xls, field, header=2, usecols=\"A:K\", skipfooter=12, na_values=null_dict)\n",
    "\n",
    "# Clean data\n",
    "aux = df.T.reset_index()\n",
    "colnames = aux.iloc[0, :].tolist()\n",
    "aux.columns = colnames\n",
    "aux.drop(labels=[0, 1], axis=0, inplace=True)\n",
    "aux.drop(aux.tail(2).index, inplace=True)\n",
    "df = aux\n",
    "# # name = df.iloc[0,0]\n",
    "# # rename = [name for value in df[df.columns[0]].values]\n",
    "# # df[df.columns[0]] = rename\n",
    "# df['Data'] = df['Data'].astype('datetime64')\n",
    "\n",
    "df"
   ]
  },
  {
   "cell_type": "code",
   "execution_count": 1142,
   "metadata": {},
   "outputs": [
    {
     "output_type": "execute_result",
     "data": {
      "text/plain": "'./Logs/ptel_2017.ipynb'"
     },
     "metadata": {},
     "execution_count": 1142
    }
   ],
   "source": [
    "field = field.replace(\" \", \"_\")\n",
    "field = field.lower()\n",
    "year = filename.split()[-1:][0].split(\".\")[0]\n",
    "df.to_csv(f\"./Dataset/{field}_{year}.csv\", encoding='utf8', index=False)\n",
    "copy2(\"extractor.ipynb\", f\"./Logs/{field}_{year}.ipynb\")"
   ]
  },
  {
   "cell_type": "code",
   "execution_count": null,
   "metadata": {},
   "outputs": [],
   "source": []
  }
 ]
}