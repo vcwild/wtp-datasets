{
 "metadata": {
  "language_info": {
   "codemirror_mode": {
    "name": "ipython",
    "version": 3
   },
   "file_extension": ".py",
   "mimetype": "text/x-python",
   "name": "python",
   "nbconvert_exporter": "python",
   "pygments_lexer": "ipython3",
   "version": "3.7.7-final"
  },
  "orig_nbformat": 2,
  "kernelspec": {
   "name": "python37764bitcodenationcondad2ee10a650924ab59d65bde6ac3d834c",
   "display_name": "Python 3.7.7 64-bit ('codenation': conda)"
  }
 },
 "nbformat": 4,
 "nbformat_minor": 2,
 "cells": [
  {
   "cell_type": "code",
   "execution_count": 140,
   "metadata": {},
   "outputs": [],
   "source": [
    "import numpy as np \n",
    "import pandas as pd \n",
    "from os import listdir\n",
    "from shutil import copy2 \n",
    "import regex as re \n",
    "\n",
    "# Pandas setup\n",
    "pd.set_option('display.max_columns', 1000)\n",
    "pd.set_option('display.max_rows', 1000) \n",
    "pd.set_option('display.max_colwidth', -1) "
   ]
  },
  {
   "cell_type": "code",
   "execution_count": 2,
   "metadata": {},
   "outputs": [
    {
     "output_type": "execute_result",
     "data": {
      "text/plain": "['surfactantes.csv',\n 'pH.csv',\n 'fosforo.csv',\n 'toda_consema.csv',\n 'alcalinidade.csv',\n 'compostagem.csv',\n 'ptel.csv',\n 'Cor_verdadeira.csv',\n 'DQO.csv',\n 'DBO.csv',\n 'coliformes.csv',\n 'nitrogênio.csv',\n 'leito_de_secagem.csv',\n 'sólidos.csv',\n 'óleos.csv',\n 'acidez.csv']"
     },
     "metadata": {},
     "execution_count": 2
    }
   ],
   "source": [
    "path = \"./Normalized/\"\n",
    "matches = listdir(path) \n",
    "\n",
    "matches"
   ]
  },
  {
   "cell_type": "code",
   "execution_count": 126,
   "metadata": {},
   "outputs": [
    {
     "output_type": "execute_result",
     "data": {
      "text/plain": "  ENTIDADE        DATA  SURFACTANTES   PH  FÓSFORO  ALUMÍNIO  ARSÊNIO  BÁRIO  \\\n0  P1       2013-01-22  1.21          NaN NaN      NaN       NaN      NaN      \n1  P2       2013-01-22  0.21          NaN NaN      NaN       NaN      NaN      \n2  P7       2013-01-22 NaN            NaN NaN      NaN       NaN      NaN      \n3  P1       2013-02-05  0.70          NaN NaN      NaN       NaN      NaN      \n4  P2       2013-02-05  0.31          NaN NaN      NaN       NaN      NaN      \n\n   BORO  CÁDMIO  CHUMBO  CIANETO  COBALTO  COBRE  CROMO  CROMO_HEXAVALENTE  \\\n0 NaN   NaN     NaN     NaN      NaN      NaN    NaN    NaN                  \n1 NaN   NaN     NaN     NaN      NaN      NaN    NaN    NaN                  \n2 NaN   NaN     NaN     NaN      NaN      NaN    NaN    NaN                  \n3 NaN   NaN     NaN     NaN      NaN      NaN    NaN    NaN                  \n4 NaN   NaN     NaN     NaN      NaN      NaN    NaN    NaN                  \n\n   DBO  DQO  ESTANHO  FERRO  FLUORETO  LÍTIO  MANGANÊS  MERCÚRIO  MOLIBDÊNIO  \\\n0 NaN  NaN  NaN      NaN    NaN       NaN    NaN       NaN       NaN           \n1 NaN  NaN  NaN      NaN    NaN       NaN    NaN       NaN       NaN           \n2 NaN  NaN  NaN      NaN    NaN       NaN    NaN       NaN       NaN           \n3 NaN  NaN  NaN      NaN    NaN       NaN    NaN       NaN       NaN           \n4 NaN  NaN  NaN      NaN    NaN       NaN    NaN       NaN       NaN           \n\n   NÍQUEL  NITROGÊNIO_AMONIACAL  NITROGÊNIO_KJELDAHL  \\\n0 NaN     NaN                   NaN                    \n1 NaN     NaN                   NaN                    \n2 NaN     NaN                   NaN                    \n3 NaN     NaN                   NaN                    \n4 NaN     NaN                   NaN                    \n\n   COLIFORMES_TERMOTOLERANTES  PRATA  ÍNDICE_DE_FENÓIS  NITROGÊNIO  FENOL  \\\n0 NaN                         NaN    NaN               NaN         NaN      \n1 NaN                         NaN    NaN               NaN         NaN      \n2 NaN                         NaN    NaN               NaN         NaN      \n3 NaN                         NaN    NaN               NaN         NaN      \n4 NaN                         NaN    NaN               NaN         NaN      \n\n   ALCALINIDADE  UMIDADE  PORCENTAGEM_SÓLIDOS  COMPOSTOS  COR_VERDADEIRA  \\\n0 NaN           NaN      NaN                  NaN        NaN               \n1 NaN           NaN      NaN                  NaN        NaN               \n2 NaN           NaN      NaN                  NaN        NaN               \n3 NaN           NaN      NaN                  NaN        NaN               \n4 NaN           NaN      NaN                  NaN        NaN               \n\n  SÓLIDOS  ÓLEOS  ACIDEZ  \n0  NaN    NaN    NaN      \n1  NaN    NaN    NaN      \n2  NaN    NaN    NaN      \n3  NaN    NaN    NaN      \n4  NaN    NaN    NaN      ",
      "text/html": "<div>\n<style scoped>\n    .dataframe tbody tr th:only-of-type {\n        vertical-align: middle;\n    }\n\n    .dataframe tbody tr th {\n        vertical-align: top;\n    }\n\n    .dataframe thead th {\n        text-align: right;\n    }\n</style>\n<table border=\"1\" class=\"dataframe\">\n  <thead>\n    <tr style=\"text-align: right;\">\n      <th></th>\n      <th>ENTIDADE</th>\n      <th>DATA</th>\n      <th>SURFACTANTES</th>\n      <th>PH</th>\n      <th>FÓSFORO</th>\n      <th>ALUMÍNIO</th>\n      <th>ARSÊNIO</th>\n      <th>BÁRIO</th>\n      <th>BORO</th>\n      <th>CÁDMIO</th>\n      <th>CHUMBO</th>\n      <th>CIANETO</th>\n      <th>COBALTO</th>\n      <th>COBRE</th>\n      <th>CROMO</th>\n      <th>CROMO_HEXAVALENTE</th>\n      <th>DBO</th>\n      <th>DQO</th>\n      <th>ESTANHO</th>\n      <th>FERRO</th>\n      <th>FLUORETO</th>\n      <th>LÍTIO</th>\n      <th>MANGANÊS</th>\n      <th>MERCÚRIO</th>\n      <th>MOLIBDÊNIO</th>\n      <th>NÍQUEL</th>\n      <th>NITROGÊNIO_AMONIACAL</th>\n      <th>NITROGÊNIO_KJELDAHL</th>\n      <th>COLIFORMES_TERMOTOLERANTES</th>\n      <th>PRATA</th>\n      <th>ÍNDICE_DE_FENÓIS</th>\n      <th>NITROGÊNIO</th>\n      <th>FENOL</th>\n      <th>ALCALINIDADE</th>\n      <th>UMIDADE</th>\n      <th>PORCENTAGEM_SÓLIDOS</th>\n      <th>COMPOSTOS</th>\n      <th>COR_VERDADEIRA</th>\n      <th>SÓLIDOS</th>\n      <th>ÓLEOS</th>\n      <th>ACIDEZ</th>\n    </tr>\n  </thead>\n  <tbody>\n    <tr>\n      <th>0</th>\n      <td>P1</td>\n      <td>2013-01-22</td>\n      <td>1.21</td>\n      <td>NaN</td>\n      <td>NaN</td>\n      <td>NaN</td>\n      <td>NaN</td>\n      <td>NaN</td>\n      <td>NaN</td>\n      <td>NaN</td>\n      <td>NaN</td>\n      <td>NaN</td>\n      <td>NaN</td>\n      <td>NaN</td>\n      <td>NaN</td>\n      <td>NaN</td>\n      <td>NaN</td>\n      <td>NaN</td>\n      <td>NaN</td>\n      <td>NaN</td>\n      <td>NaN</td>\n      <td>NaN</td>\n      <td>NaN</td>\n      <td>NaN</td>\n      <td>NaN</td>\n      <td>NaN</td>\n      <td>NaN</td>\n      <td>NaN</td>\n      <td>NaN</td>\n      <td>NaN</td>\n      <td>NaN</td>\n      <td>NaN</td>\n      <td>NaN</td>\n      <td>NaN</td>\n      <td>NaN</td>\n      <td>NaN</td>\n      <td>NaN</td>\n      <td>NaN</td>\n      <td>NaN</td>\n      <td>NaN</td>\n      <td>NaN</td>\n    </tr>\n    <tr>\n      <th>1</th>\n      <td>P2</td>\n      <td>2013-01-22</td>\n      <td>0.21</td>\n      <td>NaN</td>\n      <td>NaN</td>\n      <td>NaN</td>\n      <td>NaN</td>\n      <td>NaN</td>\n      <td>NaN</td>\n      <td>NaN</td>\n      <td>NaN</td>\n      <td>NaN</td>\n      <td>NaN</td>\n      <td>NaN</td>\n      <td>NaN</td>\n      <td>NaN</td>\n      <td>NaN</td>\n      <td>NaN</td>\n      <td>NaN</td>\n      <td>NaN</td>\n      <td>NaN</td>\n      <td>NaN</td>\n      <td>NaN</td>\n      <td>NaN</td>\n      <td>NaN</td>\n      <td>NaN</td>\n      <td>NaN</td>\n      <td>NaN</td>\n      <td>NaN</td>\n      <td>NaN</td>\n      <td>NaN</td>\n      <td>NaN</td>\n      <td>NaN</td>\n      <td>NaN</td>\n      <td>NaN</td>\n      <td>NaN</td>\n      <td>NaN</td>\n      <td>NaN</td>\n      <td>NaN</td>\n      <td>NaN</td>\n      <td>NaN</td>\n    </tr>\n    <tr>\n      <th>2</th>\n      <td>P7</td>\n      <td>2013-01-22</td>\n      <td>NaN</td>\n      <td>NaN</td>\n      <td>NaN</td>\n      <td>NaN</td>\n      <td>NaN</td>\n      <td>NaN</td>\n      <td>NaN</td>\n      <td>NaN</td>\n      <td>NaN</td>\n      <td>NaN</td>\n      <td>NaN</td>\n      <td>NaN</td>\n      <td>NaN</td>\n      <td>NaN</td>\n      <td>NaN</td>\n      <td>NaN</td>\n      <td>NaN</td>\n      <td>NaN</td>\n      <td>NaN</td>\n      <td>NaN</td>\n      <td>NaN</td>\n      <td>NaN</td>\n      <td>NaN</td>\n      <td>NaN</td>\n      <td>NaN</td>\n      <td>NaN</td>\n      <td>NaN</td>\n      <td>NaN</td>\n      <td>NaN</td>\n      <td>NaN</td>\n      <td>NaN</td>\n      <td>NaN</td>\n      <td>NaN</td>\n      <td>NaN</td>\n      <td>NaN</td>\n      <td>NaN</td>\n      <td>NaN</td>\n      <td>NaN</td>\n      <td>NaN</td>\n    </tr>\n    <tr>\n      <th>3</th>\n      <td>P1</td>\n      <td>2013-02-05</td>\n      <td>0.70</td>\n      <td>NaN</td>\n      <td>NaN</td>\n      <td>NaN</td>\n      <td>NaN</td>\n      <td>NaN</td>\n      <td>NaN</td>\n      <td>NaN</td>\n      <td>NaN</td>\n      <td>NaN</td>\n      <td>NaN</td>\n      <td>NaN</td>\n      <td>NaN</td>\n      <td>NaN</td>\n      <td>NaN</td>\n      <td>NaN</td>\n      <td>NaN</td>\n      <td>NaN</td>\n      <td>NaN</td>\n      <td>NaN</td>\n      <td>NaN</td>\n      <td>NaN</td>\n      <td>NaN</td>\n      <td>NaN</td>\n      <td>NaN</td>\n      <td>NaN</td>\n      <td>NaN</td>\n      <td>NaN</td>\n      <td>NaN</td>\n      <td>NaN</td>\n      <td>NaN</td>\n      <td>NaN</td>\n      <td>NaN</td>\n      <td>NaN</td>\n      <td>NaN</td>\n      <td>NaN</td>\n      <td>NaN</td>\n      <td>NaN</td>\n      <td>NaN</td>\n    </tr>\n    <tr>\n      <th>4</th>\n      <td>P2</td>\n      <td>2013-02-05</td>\n      <td>0.31</td>\n      <td>NaN</td>\n      <td>NaN</td>\n      <td>NaN</td>\n      <td>NaN</td>\n      <td>NaN</td>\n      <td>NaN</td>\n      <td>NaN</td>\n      <td>NaN</td>\n      <td>NaN</td>\n      <td>NaN</td>\n      <td>NaN</td>\n      <td>NaN</td>\n      <td>NaN</td>\n      <td>NaN</td>\n      <td>NaN</td>\n      <td>NaN</td>\n      <td>NaN</td>\n      <td>NaN</td>\n      <td>NaN</td>\n      <td>NaN</td>\n      <td>NaN</td>\n      <td>NaN</td>\n      <td>NaN</td>\n      <td>NaN</td>\n      <td>NaN</td>\n      <td>NaN</td>\n      <td>NaN</td>\n      <td>NaN</td>\n      <td>NaN</td>\n      <td>NaN</td>\n      <td>NaN</td>\n      <td>NaN</td>\n      <td>NaN</td>\n      <td>NaN</td>\n      <td>NaN</td>\n      <td>NaN</td>\n      <td>NaN</td>\n      <td>NaN</td>\n    </tr>\n  </tbody>\n</table>\n</div>"
     },
     "metadata": {},
     "execution_count": 126
    }
   ],
   "source": [
    "df = pd.DataFrame()\n",
    "for i in range(0, len(matches) - 1):\n",
    "    df_1 = pd.read_csv(path + matches[i], encoding='utf8')\n",
    "    df_2 = pd.read_csv(path + matches[i + 1], encoding='utf8')\n",
    "    partial = df_1.append(df_2)\n",
    "    df = df.append(partial)\n",
    "\n",
    "df[\"CIANETO\"] = [x[0] if str(x[0]) != \"nan\" else x[1] for x in zip(df[\"CIANETO\"], df[\"CIANETO.1\"])]\n",
    "df[\"MERCÚRIO\"] = [x[0] if str(x[0]) != \"nan\" else x[1] for x in zip(df[\"MERCÚRIO\"], df[\"MERCÚRIO.1\"])]\n",
    "df[\"FENOL\"] = [x[0] if str(x[0]) != \"nan\" else x[1] for x in zip(df[\"FENOL\"], df[\"FENÓIS\"])]\n",
    "df[\"SÓLIDOS\"] = [x[0] if str(x[0]) != \"nan\" else x[1] for x in zip(df[\"SÓLIDOS\"], df[\"SÓLIDOS_VOLÁTEIS\"])]\n",
    "\n",
    "df.drop(columns=[\"CIANETO.1\", \"MERCÚRIO.1\", \"FENÓIS\", \"SÓLIDOS_VOLÁTEIS\"], inplace=True)\n",
    "df.drop([])\n",
    "df.head()"
   ]
  },
  {
   "cell_type": "code",
   "execution_count": 172,
   "metadata": {
    "tags": []
   },
   "outputs": [],
   "source": [
    "tidy = df.drop_duplicates()\n",
    "tidy.ENTIDADE = tidy.ENTIDADE.map(lambda x: x.replace(\".1\", \"\"))\n",
    "tidy.ENTIDADE = tidy.ENTIDADE.map(lambda x: x.replace(\".1\", \"\"))\n",
    "tidy.ENTIDADE = tidy.ENTIDADE.map(lambda x: x.replace(\"ANAMB\", \"ANAMBI\"))\n",
    "tidy.ENTIDADE = tidy.ENTIDADE.map(lambda x: x.replace(\"ANAMBII\", \"ANAMBI\"))\n",
    "tidy.ENTIDADE = tidy.ENTIDADE.map(lambda x: x.replace(\"SANEAMB\", \"ANAMBI\"))\n",
    "tidy.ENTIDADE = tidy.ENTIDADE.map(lambda x: x.replace(\"itt Fossil\", \"ITT FOSSIL\"))\n",
    "tidy.ENTIDADE = tidy.ENTIDADE.map(lambda x: x.replace(\"itt Fossil / NUCMAT*\", \"ITT FOSSIL\"))\n",
    "tidy.ENTIDADE = tidy.ENTIDADE.map(lambda x: x.replace(\"ITT FOSSIL / NUCMAT*\", \"ITT FOSSIL\"))\n",
    "tidy.ENTIDADE = tidy.ENTIDADE.map(lambda x: x.replace(\"Lab. Quimica e Farmácia\", \"LAB. QUIMICA\"))\n",
    "tidy.ENTIDADE = tidy.ENTIDADE.map(lambda x: re.sub(r\"\\s+\", \" \", x))\n",
    "\n",
    "entities = tidy.ENTIDADE.unique().tolist()\n",
    "tables = [tidy[tidy[\"ENTIDADE\"] == entity] for entity in entities]\n",
    "\n",
    "for table in tables:\n",
    "    name = table.ENTIDADE.unique()[0].replace(\" \", \"_\").lower()\n",
    "    name = name.replace(\"/\", \"\")\n",
    "    name = name.replace(\".\", \"\")\n",
    "    path = \"./Entities/\"\n",
    "    table.to_csv(f\"{path}{name}\", encoding=\"utf8\", header=True, index=False)\n",
    "\n",
    "tidy.to_csv(f\"{path}entire_dataset\", encoding=\"utf8\", index=False)"
   ]
  },
  {
   "cell_type": "code",
   "execution_count": null,
   "metadata": {},
   "outputs": [],
   "source": []
  }
 ]
}