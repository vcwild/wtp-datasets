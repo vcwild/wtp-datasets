{
 "metadata": {
  "language_info": {
   "codemirror_mode": {
    "name": "ipython",
    "version": 3
   },
   "file_extension": ".py",
   "mimetype": "text/x-python",
   "name": "python",
   "nbconvert_exporter": "python",
   "pygments_lexer": "ipython3",
   "version": "3.7.7-final"
  },
  "orig_nbformat": 2,
  "kernelspec": {
   "name": "python_defaultSpec_1599226225149",
   "display_name": "Python 3.7.7 64-bit ('codenation': conda)"
  }
 },
 "nbformat": 4,
 "nbformat_minor": 2,
 "cells": [
  {
   "cell_type": "code",
   "execution_count": 1,
   "metadata": {},
   "outputs": [],
   "source": [
    "import numpy as np \n",
    "import pandas as pd \n",
    "from os import listdir\n",
    "from shutil import copy2 \n",
    "\n",
    "# Pandas setup\n",
    "pd.set_option('display.max_columns', 1000)\n",
    "pd.set_option('display.max_rows', 1000) \n",
    "pd.set_option('display.max_colwidth', -1) "
   ]
  },
  {
   "cell_type": "code",
   "execution_count": 2,
   "metadata": {},
   "outputs": [
    {
     "output_type": "execute_result",
     "data": {
      "text/plain": "['Cor_verdadeira.csv',\n 'DBO.csv',\n 'DQO.csv',\n 'acidez.csv',\n 'alcalinidade.csv',\n 'coliformes.csv',\n 'compostagem.csv',\n 'fosforo.csv',\n 'leito_de_secagem.csv',\n 'nitrogênio.csv',\n 'pH.csv',\n 'ptel.csv',\n 'surfactantes.csv',\n 'sólidos.csv',\n 'toda_consema.csv',\n 'toda_consema_2.csv',\n 'toda_consema_P7.csv',\n 'óleos.csv']"
     },
     "metadata": {},
     "execution_count": 2
    }
   ],
   "source": [
    "path = \"./Tidy/\"\n",
    "archives = sorted(listdir(path))\n",
    "archives"
   ]
  },
  {
   "cell_type": "code",
   "execution_count": 31,
   "metadata": {},
   "outputs": [
    {
     "output_type": "execute_result",
     "data": {
      "text/plain": "'toda_consema.csv'"
     },
     "metadata": {},
     "execution_count": 31
    }
   ],
   "source": [
    "archives[14]"
   ]
  },
  {
   "cell_type": "code",
   "execution_count": 40,
   "metadata": {},
   "outputs": [
    {
     "output_type": "execute_result",
     "data": {
      "text/plain": "  ENTIDADE        Data  Alumínio Total  Arsênio Total  Bário Total  \\\n0  P1       2012-03-23  0.531          NaN             0.034         \n1  P2       2012-03-23  1.840          NaN             0.012         \n2  P1       2012-11-05  0.230          NaN             0.028         \n3  P2       2012-11-05  1.040           0.023         NaN            \n4  P1       2012-09-24  2.030          NaN             0.074         \n\n   Boro Total  Cádmio Total  Chumbo Total  Cianeto Total  Cobalto Total  \\\n0 NaN         NaN           NaN           NaN            NaN              \n1  59.000      0.009        NaN           NaN             0.019           \n2  0.093      NaN           NaN           NaN             0.001           \n3 NaN         NaN           NaN           NaN            NaN              \n4  1.200      NaN           NaN           NaN             0.002           \n\n   Cobre Total  Cromo Total  Cromo Hexavalente  DBO    DQO  Estanho Total  \\\n0  0.024        1050.0       0.001             NaN   280.0  734.0           \n1  4.040        200.0        0.017             NaN   32.0   95.1            \n2  0.022        295.0        0.004             NaN   290.0  750.0           \n3 NaN           140.0        0.010             NaN   92.0   261.0           \n4  0.017        49.0         0.004             NaN   86.0   237.0           \n\n   Fenóis Total  Ferro Total  Fósforo Total  Fluoreto  Lítio Total  \\\n0 NaN            0.019        2.11           0.041     0.003         \n1 NaN            0.034        0.17           0.581     0.042         \n2 NaN            0.032        2.22          NaN       NaN            \n3 NaN            0.021        7.03           0.068    NaN            \n4 NaN           NaN           7.31          NaN        0.002         \n\n   Manganês Total  Mercúrio  Molibdênio Total  Níquel Total  \\\n0  0.125           0.043     0.006             0.003          \n1  4.400           0.909     7.200            NaN             \n2  0.181          NaN       NaN                0.003          \n3  0.070          NaN       NaN                0.005          \n4  0.286          NaN        0.002            NaN             \n\n   Nitrogênio Amoniacal  Nitrogênio Total Kjeldahl  \\\n0  73.0                 NaN                          \n1  69.5                 NaN                          \n2  82.1                 NaN                          \n3  83.8                 NaN                          \n4  22.6                 NaN                          \n\n   Coliformes Termotolerantes  Prata Total  Mercúrio Total  Cianeto  \\\n0  1011200.0                  NaN          NaN             NaN        \n1  435200.0                   NaN          NaN             NaN        \n2  111990.0                   NaN          NaN             NaN        \n3  98040.0                    NaN          NaN             NaN        \n4  292400.0                   NaN          NaN             NaN        \n\n   Índice de Fenóis  Nitrogênio Total  Fenol  \n0 NaN               NaN               NaN     \n1 NaN               NaN               NaN     \n2 NaN               NaN               NaN     \n3 NaN               NaN               NaN     \n4 NaN               NaN               NaN     ",
      "text/html": "<div>\n<style scoped>\n    .dataframe tbody tr th:only-of-type {\n        vertical-align: middle;\n    }\n\n    .dataframe tbody tr th {\n        vertical-align: top;\n    }\n\n    .dataframe thead th {\n        text-align: right;\n    }\n</style>\n<table border=\"1\" class=\"dataframe\">\n  <thead>\n    <tr style=\"text-align: right;\">\n      <th></th>\n      <th>ENTIDADE</th>\n      <th>Data</th>\n      <th>Alumínio Total</th>\n      <th>Arsênio Total</th>\n      <th>Bário Total</th>\n      <th>Boro Total</th>\n      <th>Cádmio Total</th>\n      <th>Chumbo Total</th>\n      <th>Cianeto Total</th>\n      <th>Cobalto Total</th>\n      <th>Cobre Total</th>\n      <th>Cromo Total</th>\n      <th>Cromo Hexavalente</th>\n      <th>DBO</th>\n      <th>DQO</th>\n      <th>Estanho Total</th>\n      <th>Fenóis Total</th>\n      <th>Ferro Total</th>\n      <th>Fósforo Total</th>\n      <th>Fluoreto</th>\n      <th>Lítio Total</th>\n      <th>Manganês Total</th>\n      <th>Mercúrio</th>\n      <th>Molibdênio Total</th>\n      <th>Níquel Total</th>\n      <th>Nitrogênio Amoniacal</th>\n      <th>Nitrogênio Total Kjeldahl</th>\n      <th>Coliformes Termotolerantes</th>\n      <th>Prata Total</th>\n      <th>Mercúrio Total</th>\n      <th>Cianeto</th>\n      <th>Índice de Fenóis</th>\n      <th>Nitrogênio Total</th>\n      <th>Fenol</th>\n    </tr>\n  </thead>\n  <tbody>\n    <tr>\n      <th>0</th>\n      <td>P1</td>\n      <td>2012-03-23</td>\n      <td>0.531</td>\n      <td>NaN</td>\n      <td>0.034</td>\n      <td>NaN</td>\n      <td>NaN</td>\n      <td>NaN</td>\n      <td>NaN</td>\n      <td>NaN</td>\n      <td>0.024</td>\n      <td>1050.0</td>\n      <td>0.001</td>\n      <td>NaN</td>\n      <td>280.0</td>\n      <td>734.0</td>\n      <td>NaN</td>\n      <td>0.019</td>\n      <td>2.11</td>\n      <td>0.041</td>\n      <td>0.003</td>\n      <td>0.125</td>\n      <td>0.043</td>\n      <td>0.006</td>\n      <td>0.003</td>\n      <td>73.0</td>\n      <td>NaN</td>\n      <td>1011200.0</td>\n      <td>NaN</td>\n      <td>NaN</td>\n      <td>NaN</td>\n      <td>NaN</td>\n      <td>NaN</td>\n      <td>NaN</td>\n    </tr>\n    <tr>\n      <th>1</th>\n      <td>P2</td>\n      <td>2012-03-23</td>\n      <td>1.840</td>\n      <td>NaN</td>\n      <td>0.012</td>\n      <td>59.000</td>\n      <td>0.009</td>\n      <td>NaN</td>\n      <td>NaN</td>\n      <td>0.019</td>\n      <td>4.040</td>\n      <td>200.0</td>\n      <td>0.017</td>\n      <td>NaN</td>\n      <td>32.0</td>\n      <td>95.1</td>\n      <td>NaN</td>\n      <td>0.034</td>\n      <td>0.17</td>\n      <td>0.581</td>\n      <td>0.042</td>\n      <td>4.400</td>\n      <td>0.909</td>\n      <td>7.200</td>\n      <td>NaN</td>\n      <td>69.5</td>\n      <td>NaN</td>\n      <td>435200.0</td>\n      <td>NaN</td>\n      <td>NaN</td>\n      <td>NaN</td>\n      <td>NaN</td>\n      <td>NaN</td>\n      <td>NaN</td>\n    </tr>\n    <tr>\n      <th>2</th>\n      <td>P1</td>\n      <td>2012-11-05</td>\n      <td>0.230</td>\n      <td>NaN</td>\n      <td>0.028</td>\n      <td>0.093</td>\n      <td>NaN</td>\n      <td>NaN</td>\n      <td>NaN</td>\n      <td>0.001</td>\n      <td>0.022</td>\n      <td>295.0</td>\n      <td>0.004</td>\n      <td>NaN</td>\n      <td>290.0</td>\n      <td>750.0</td>\n      <td>NaN</td>\n      <td>0.032</td>\n      <td>2.22</td>\n      <td>NaN</td>\n      <td>NaN</td>\n      <td>0.181</td>\n      <td>NaN</td>\n      <td>NaN</td>\n      <td>0.003</td>\n      <td>82.1</td>\n      <td>NaN</td>\n      <td>111990.0</td>\n      <td>NaN</td>\n      <td>NaN</td>\n      <td>NaN</td>\n      <td>NaN</td>\n      <td>NaN</td>\n      <td>NaN</td>\n    </tr>\n    <tr>\n      <th>3</th>\n      <td>P2</td>\n      <td>2012-11-05</td>\n      <td>1.040</td>\n      <td>0.023</td>\n      <td>NaN</td>\n      <td>NaN</td>\n      <td>NaN</td>\n      <td>NaN</td>\n      <td>NaN</td>\n      <td>NaN</td>\n      <td>NaN</td>\n      <td>140.0</td>\n      <td>0.010</td>\n      <td>NaN</td>\n      <td>92.0</td>\n      <td>261.0</td>\n      <td>NaN</td>\n      <td>0.021</td>\n      <td>7.03</td>\n      <td>0.068</td>\n      <td>NaN</td>\n      <td>0.070</td>\n      <td>NaN</td>\n      <td>NaN</td>\n      <td>0.005</td>\n      <td>83.8</td>\n      <td>NaN</td>\n      <td>98040.0</td>\n      <td>NaN</td>\n      <td>NaN</td>\n      <td>NaN</td>\n      <td>NaN</td>\n      <td>NaN</td>\n      <td>NaN</td>\n    </tr>\n    <tr>\n      <th>4</th>\n      <td>P1</td>\n      <td>2012-09-24</td>\n      <td>2.030</td>\n      <td>NaN</td>\n      <td>0.074</td>\n      <td>1.200</td>\n      <td>NaN</td>\n      <td>NaN</td>\n      <td>NaN</td>\n      <td>0.002</td>\n      <td>0.017</td>\n      <td>49.0</td>\n      <td>0.004</td>\n      <td>NaN</td>\n      <td>86.0</td>\n      <td>237.0</td>\n      <td>NaN</td>\n      <td>NaN</td>\n      <td>7.31</td>\n      <td>NaN</td>\n      <td>0.002</td>\n      <td>0.286</td>\n      <td>NaN</td>\n      <td>0.002</td>\n      <td>NaN</td>\n      <td>22.6</td>\n      <td>NaN</td>\n      <td>292400.0</td>\n      <td>NaN</td>\n      <td>NaN</td>\n      <td>NaN</td>\n      <td>NaN</td>\n      <td>NaN</td>\n      <td>NaN</td>\n    </tr>\n  </tbody>\n</table>\n</div>"
     },
     "metadata": {},
     "execution_count": 40
    }
   ],
   "source": [
    "name = archives[14].split(\".\")[0]\n",
    "\n",
    "df = pd.read_csv(path + name + \".csv\", encoding='utf8')\n",
    "df.rename(columns={\"PARÂMETROS\": \"ENTIDADE\"}, inplace=True)\n",
    "df.ENTIDADE = df.ENTIDADE.map(lambda x: x.replace(\"P2/P6\", \"P2\"))\n",
    "df.head()"
   ]
  },
  {
   "cell_type": "code",
   "execution_count": 41,
   "metadata": {},
   "outputs": [],
   "source": [
    "columns = df.columns\n",
    "columns = [x.replace(\"Total\", \"\").strip() for x in columns]\n",
    "columns = [\" \".join(x.split()) for x in columns]\n",
    "columns = [x.replace(\" \", \"_\").upper() for x in columns]"
   ]
  },
  {
   "cell_type": "code",
   "execution_count": 42,
   "metadata": {},
   "outputs": [
    {
     "output_type": "execute_result",
     "data": {
      "text/plain": "  ENTIDADE        DATA  ALUMÍNIO  ARSÊNIO  BÁRIO    BORO  CÁDMIO  CHUMBO  \\\n0  P1       2012-03-23  0.531    NaN       0.034 NaN     NaN     NaN       \n1  P2       2012-03-23  1.840    NaN       0.012  59.000  0.009  NaN       \n2  P1       2012-11-05  0.230    NaN       0.028  0.093  NaN     NaN       \n3  P2       2012-11-05  1.040     0.023   NaN    NaN     NaN     NaN       \n4  P1       2012-09-24  2.030    NaN       0.074  1.200  NaN     NaN       \n\n   CIANETO  COBALTO  COBRE   CROMO  CROMO_HEXAVALENTE  DBO    DQO  ESTANHO  \\\n0 NaN      NaN       0.024  1050.0  0.001             NaN   280.0  734.0     \n1 NaN       0.019    4.040  200.0   0.017             NaN   32.0   95.1      \n2 NaN       0.001    0.022  295.0   0.004             NaN   290.0  750.0     \n3 NaN      NaN      NaN     140.0   0.010             NaN   92.0   261.0     \n4 NaN       0.002    0.017  49.0    0.004             NaN   86.0   237.0     \n\n   FENÓIS  FERRO  FÓSFORO  FLUORETO  LÍTIO  MANGANÊS  MERCÚRIO  MOLIBDÊNIO  \\\n0 NaN      0.019  2.11     0.041     0.003  0.125     0.043     0.006        \n1 NaN      0.034  0.17     0.581     0.042  4.400     0.909     7.200        \n2 NaN      0.032  2.22    NaN       NaN     0.181    NaN       NaN           \n3 NaN      0.021  7.03     0.068    NaN     0.070    NaN       NaN           \n4 NaN     NaN     7.31    NaN        0.002  0.286    NaN        0.002        \n\n   NÍQUEL  NITROGÊNIO_AMONIACAL  NITROGÊNIO_KJELDAHL  \\\n0  0.003   73.0                 NaN                    \n1 NaN      69.5                 NaN                    \n2  0.003   82.1                 NaN                    \n3  0.005   83.8                 NaN                    \n4 NaN      22.6                 NaN                    \n\n   COLIFORMES_TERMOTOLERANTES  PRATA  MERCÚRIO  CIANETO  ÍNDICE_DE_FENÓIS  \\\n0  1011200.0                  NaN    NaN       NaN      NaN                 \n1  435200.0                   NaN    NaN       NaN      NaN                 \n2  111990.0                   NaN    NaN       NaN      NaN                 \n3  98040.0                    NaN    NaN       NaN      NaN                 \n4  292400.0                   NaN    NaN       NaN      NaN                 \n\n   NITROGÊNIO  FENOL  \n0 NaN         NaN     \n1 NaN         NaN     \n2 NaN         NaN     \n3 NaN         NaN     \n4 NaN         NaN     ",
      "text/html": "<div>\n<style scoped>\n    .dataframe tbody tr th:only-of-type {\n        vertical-align: middle;\n    }\n\n    .dataframe tbody tr th {\n        vertical-align: top;\n    }\n\n    .dataframe thead th {\n        text-align: right;\n    }\n</style>\n<table border=\"1\" class=\"dataframe\">\n  <thead>\n    <tr style=\"text-align: right;\">\n      <th></th>\n      <th>ENTIDADE</th>\n      <th>DATA</th>\n      <th>ALUMÍNIO</th>\n      <th>ARSÊNIO</th>\n      <th>BÁRIO</th>\n      <th>BORO</th>\n      <th>CÁDMIO</th>\n      <th>CHUMBO</th>\n      <th>CIANETO</th>\n      <th>COBALTO</th>\n      <th>COBRE</th>\n      <th>CROMO</th>\n      <th>CROMO_HEXAVALENTE</th>\n      <th>DBO</th>\n      <th>DQO</th>\n      <th>ESTANHO</th>\n      <th>FENÓIS</th>\n      <th>FERRO</th>\n      <th>FÓSFORO</th>\n      <th>FLUORETO</th>\n      <th>LÍTIO</th>\n      <th>MANGANÊS</th>\n      <th>MERCÚRIO</th>\n      <th>MOLIBDÊNIO</th>\n      <th>NÍQUEL</th>\n      <th>NITROGÊNIO_AMONIACAL</th>\n      <th>NITROGÊNIO_KJELDAHL</th>\n      <th>COLIFORMES_TERMOTOLERANTES</th>\n      <th>PRATA</th>\n      <th>MERCÚRIO</th>\n      <th>CIANETO</th>\n      <th>ÍNDICE_DE_FENÓIS</th>\n      <th>NITROGÊNIO</th>\n      <th>FENOL</th>\n    </tr>\n  </thead>\n  <tbody>\n    <tr>\n      <th>0</th>\n      <td>P1</td>\n      <td>2012-03-23</td>\n      <td>0.531</td>\n      <td>NaN</td>\n      <td>0.034</td>\n      <td>NaN</td>\n      <td>NaN</td>\n      <td>NaN</td>\n      <td>NaN</td>\n      <td>NaN</td>\n      <td>0.024</td>\n      <td>1050.0</td>\n      <td>0.001</td>\n      <td>NaN</td>\n      <td>280.0</td>\n      <td>734.0</td>\n      <td>NaN</td>\n      <td>0.019</td>\n      <td>2.11</td>\n      <td>0.041</td>\n      <td>0.003</td>\n      <td>0.125</td>\n      <td>0.043</td>\n      <td>0.006</td>\n      <td>0.003</td>\n      <td>73.0</td>\n      <td>NaN</td>\n      <td>1011200.0</td>\n      <td>NaN</td>\n      <td>NaN</td>\n      <td>NaN</td>\n      <td>NaN</td>\n      <td>NaN</td>\n      <td>NaN</td>\n    </tr>\n    <tr>\n      <th>1</th>\n      <td>P2</td>\n      <td>2012-03-23</td>\n      <td>1.840</td>\n      <td>NaN</td>\n      <td>0.012</td>\n      <td>59.000</td>\n      <td>0.009</td>\n      <td>NaN</td>\n      <td>NaN</td>\n      <td>0.019</td>\n      <td>4.040</td>\n      <td>200.0</td>\n      <td>0.017</td>\n      <td>NaN</td>\n      <td>32.0</td>\n      <td>95.1</td>\n      <td>NaN</td>\n      <td>0.034</td>\n      <td>0.17</td>\n      <td>0.581</td>\n      <td>0.042</td>\n      <td>4.400</td>\n      <td>0.909</td>\n      <td>7.200</td>\n      <td>NaN</td>\n      <td>69.5</td>\n      <td>NaN</td>\n      <td>435200.0</td>\n      <td>NaN</td>\n      <td>NaN</td>\n      <td>NaN</td>\n      <td>NaN</td>\n      <td>NaN</td>\n      <td>NaN</td>\n    </tr>\n    <tr>\n      <th>2</th>\n      <td>P1</td>\n      <td>2012-11-05</td>\n      <td>0.230</td>\n      <td>NaN</td>\n      <td>0.028</td>\n      <td>0.093</td>\n      <td>NaN</td>\n      <td>NaN</td>\n      <td>NaN</td>\n      <td>0.001</td>\n      <td>0.022</td>\n      <td>295.0</td>\n      <td>0.004</td>\n      <td>NaN</td>\n      <td>290.0</td>\n      <td>750.0</td>\n      <td>NaN</td>\n      <td>0.032</td>\n      <td>2.22</td>\n      <td>NaN</td>\n      <td>NaN</td>\n      <td>0.181</td>\n      <td>NaN</td>\n      <td>NaN</td>\n      <td>0.003</td>\n      <td>82.1</td>\n      <td>NaN</td>\n      <td>111990.0</td>\n      <td>NaN</td>\n      <td>NaN</td>\n      <td>NaN</td>\n      <td>NaN</td>\n      <td>NaN</td>\n      <td>NaN</td>\n    </tr>\n    <tr>\n      <th>3</th>\n      <td>P2</td>\n      <td>2012-11-05</td>\n      <td>1.040</td>\n      <td>0.023</td>\n      <td>NaN</td>\n      <td>NaN</td>\n      <td>NaN</td>\n      <td>NaN</td>\n      <td>NaN</td>\n      <td>NaN</td>\n      <td>NaN</td>\n      <td>140.0</td>\n      <td>0.010</td>\n      <td>NaN</td>\n      <td>92.0</td>\n      <td>261.0</td>\n      <td>NaN</td>\n      <td>0.021</td>\n      <td>7.03</td>\n      <td>0.068</td>\n      <td>NaN</td>\n      <td>0.070</td>\n      <td>NaN</td>\n      <td>NaN</td>\n      <td>0.005</td>\n      <td>83.8</td>\n      <td>NaN</td>\n      <td>98040.0</td>\n      <td>NaN</td>\n      <td>NaN</td>\n      <td>NaN</td>\n      <td>NaN</td>\n      <td>NaN</td>\n      <td>NaN</td>\n    </tr>\n    <tr>\n      <th>4</th>\n      <td>P1</td>\n      <td>2012-09-24</td>\n      <td>2.030</td>\n      <td>NaN</td>\n      <td>0.074</td>\n      <td>1.200</td>\n      <td>NaN</td>\n      <td>NaN</td>\n      <td>NaN</td>\n      <td>0.002</td>\n      <td>0.017</td>\n      <td>49.0</td>\n      <td>0.004</td>\n      <td>NaN</td>\n      <td>86.0</td>\n      <td>237.0</td>\n      <td>NaN</td>\n      <td>NaN</td>\n      <td>7.31</td>\n      <td>NaN</td>\n      <td>0.002</td>\n      <td>0.286</td>\n      <td>NaN</td>\n      <td>0.002</td>\n      <td>NaN</td>\n      <td>22.6</td>\n      <td>NaN</td>\n      <td>292400.0</td>\n      <td>NaN</td>\n      <td>NaN</td>\n      <td>NaN</td>\n      <td>NaN</td>\n      <td>NaN</td>\n      <td>NaN</td>\n    </tr>\n  </tbody>\n</table>\n</div>"
     },
     "metadata": {},
     "execution_count": 42
    }
   ],
   "source": [
    "# df.drop(columns=[\"P1 - Média mês\", \"P2/P6 - Média mês\"], inplace=True)\n",
    "# columns = df.columns\n",
    "# new_columns = [x.split()[0] for x in columns] \n",
    "# df.columns = new_columns\n",
    "df.columns = columns\n",
    "# df.drop(columns=[\"OBSERVAÇÕES\", \"ANAL.\"], inplace=True)\n",
    "# df.rename(columns={\"PORCENTAGEM\": \"PORCENTAGEM_SÓLIDOS\", \"SÓLIDOS\": \"SÓLIDOS_VOLÁTEIS\"}, inplace=True)\n",
    "# df.rename(columns={\"Parâmetros\": \"ENTIDADE\"}, inplace=True)\n",
    "# df.columns = [x.upper() for x in new_columns]\n",
    "# df[\"ENTIDADE\"] = name\n",
    "df.head()"
   ]
  },
  {
   "cell_type": "code",
   "execution_count": 21,
   "metadata": {},
   "outputs": [
    {
     "output_type": "execute_result",
     "data": {
      "text/plain": "  ENTIDADE        DATA sólidos\n0  P1       2013-01-22  NaN   \n1  Pb       2013-01-22  NaN   \n2  Pc       2013-01-22  NaN   \n3  Pd       2013-01-22  NaN   \n4  P2       2013-01-22  NaN   ",
      "text/html": "<div>\n<style scoped>\n    .dataframe tbody tr th:only-of-type {\n        vertical-align: middle;\n    }\n\n    .dataframe tbody tr th {\n        vertical-align: top;\n    }\n\n    .dataframe thead th {\n        text-align: right;\n    }\n</style>\n<table border=\"1\" class=\"dataframe\">\n  <thead>\n    <tr style=\"text-align: right;\">\n      <th></th>\n      <th>ENTIDADE</th>\n      <th>DATA</th>\n      <th>sólidos</th>\n    </tr>\n  </thead>\n  <tbody>\n    <tr>\n      <th>0</th>\n      <td>P1</td>\n      <td>2013-01-22</td>\n      <td>NaN</td>\n    </tr>\n    <tr>\n      <th>1</th>\n      <td>Pb</td>\n      <td>2013-01-22</td>\n      <td>NaN</td>\n    </tr>\n    <tr>\n      <th>2</th>\n      <td>Pc</td>\n      <td>2013-01-22</td>\n      <td>NaN</td>\n    </tr>\n    <tr>\n      <th>3</th>\n      <td>Pd</td>\n      <td>2013-01-22</td>\n      <td>NaN</td>\n    </tr>\n    <tr>\n      <th>4</th>\n      <td>P2</td>\n      <td>2013-01-22</td>\n      <td>NaN</td>\n    </tr>\n  </tbody>\n</table>\n</div>"
     },
     "metadata": {},
     "execution_count": 21
    }
   ],
   "source": [
    "# transposed = df.T\n",
    "# transposed = transposed.reset_index()\n",
    "# transposed.columns = transposed.values[0]\n",
    "# transposed.rename(columns={\"DATA\": \"ENTIDADE\"}, inplace=True)\n",
    "# transposed.drop(axis=0, index=[0], inplace=True)\n",
    "# transposed = transposed.melt(id_vars=['ENTIDADE'])\n",
    "# transposed.rename(columns={\"variable\": \"DATA\", \"value\": name}, inplace=True)\n",
    "# df = transposed\n",
    "# df.head()"
   ]
  },
  {
   "cell_type": "code",
   "execution_count": 22,
   "metadata": {},
   "outputs": [
    {
     "output_type": "execute_result",
     "data": {
      "text/plain": "'./Normlogs/sólidos.ipynb'"
     },
     "metadata": {},
     "execution_count": 22
    }
   ],
   "source": [
    "df.to_csv(f\"./Normalized/{name}.csv\", encoding='utf8', index=False)\n",
    "copy2(\"explorer.ipynb\", f\"./Normlogs/{name}.ipynb\")"
   ]
  },
  {
   "cell_type": "code",
   "execution_count": null,
   "metadata": {},
   "outputs": [],
   "source": []
  }
 ]
}