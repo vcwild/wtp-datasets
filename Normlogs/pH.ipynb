{
 "metadata": {
  "language_info": {
   "codemirror_mode": {
    "name": "ipython",
    "version": 3
   },
   "file_extension": ".py",
   "mimetype": "text/x-python",
   "name": "python",
   "nbconvert_exporter": "python",
   "pygments_lexer": "ipython3",
   "version": "3.7.7-final"
  },
  "orig_nbformat": 2,
  "kernelspec": {
   "name": "python_defaultSpec_1599226225149",
   "display_name": "Python 3.7.7 64-bit ('codenation': conda)"
  }
 },
 "nbformat": 4,
 "nbformat_minor": 2,
 "cells": [
  {
   "cell_type": "code",
   "execution_count": 2,
   "metadata": {},
   "outputs": [],
   "source": [
    "import numpy as np \n",
    "import pandas as pd \n",
    "from os import listdir\n",
    "from shutil import copy2 \n",
    "\n",
    "# Pandas setup\n",
    "pd.set_option('display.max_columns', 1000)\n",
    "pd.set_option('display.max_rows', 1000) \n",
    "pd.set_option('display.max_colwidth', -1) "
   ]
  },
  {
   "cell_type": "code",
   "execution_count": 3,
   "metadata": {},
   "outputs": [
    {
     "output_type": "execute_result",
     "data": {
      "text/plain": "['Cor_verdadeira.csv',\n 'DBO.csv',\n 'DQO.csv',\n 'acidez.csv',\n 'alcalinidade.csv',\n 'coliformes.csv',\n 'compostagem.csv',\n 'fosforo.csv',\n 'leito_de_secagem.csv',\n 'nitrogênio.csv',\n 'pH.csv',\n 'ptel.csv',\n 'surfactantes.csv',\n 'sólidos.csv',\n 'toda_consema.csv',\n 'toda_consema_2.csv',\n 'toda_consema_P7.csv',\n 'óleos.csv']"
     },
     "metadata": {},
     "execution_count": 3
    }
   ],
   "source": [
    "path = \"./Tidy/\"\n",
    "archives = sorted(listdir(path))\n",
    "archives"
   ]
  },
  {
   "cell_type": "code",
   "execution_count": 23,
   "metadata": {},
   "outputs": [
    {
     "output_type": "execute_result",
     "data": {
      "text/plain": "'nitrogênio.csv'"
     },
     "metadata": {},
     "execution_count": 23
    }
   ],
   "source": [
    "archives[9]"
   ]
  },
  {
   "cell_type": "code",
   "execution_count": 45,
   "metadata": {},
   "outputs": [
    {
     "output_type": "execute_result",
     "data": {
      "text/plain": "  DATAS DAS COLETAS   P1 - Entrada ETE  Pb - Saída do UASB Entrada do CBR  \\\n0  2013-01-09         6.1               6.5                                 \n1  2013-02-14         7.1               6.8                                 \n2  2013-03-06         7.4               7.8                                 \n3  2013-04-03         7.2               7.4                                 \n4  2013-05-08         6.9               7.2                                 \n\n   Pc - Saída do CBR Entrada dos decantadores  \\\n0  6.7                                          \n1  6.2                                          \n2  7.7                                          \n3  6.4                                          \n4  6.8                                          \n\n   Pd - Saída dos decantadores Entrada no sistema de ozonização  \\\n0  6.8                                                            \n1  6.6                                                            \n2  7.9                                                            \n3  7.4                                                            \n4  7.0                                                            \n\n   P2/P6 - Saída da ETE  P3 - Arroio São João  \\\n0  6.9                   6.9                    \n1  6.7                   7.1                    \n2  7.9                   8.1                    \n3  7.2                   7.4                    \n4  7.1                   7.3                    \n\n   P4 - Canal coleta esgoto Vila Otacília  P5 - Vertedor do Lago  \\\n0  6.4                                     6.8                     \n1  7.0                                     7.4                     \n2  8.8                                     9.0                     \n3  7.4                                     8.5                     \n4  7.0                                     7.6                     \n\n  LAB. ANÁLISES AMBIENTAIS OBSERVAÇÕES P7 - Rede Pluvial (Trimestral)  \n0  x                        NaN         NaN                            \n1  x                        NaN         NaN                            \n2  x                        NaN         NaN                            \n3  x                        NaN         NaN                            \n4  x                        NaN         NaN                            ",
      "text/html": "<div>\n<style scoped>\n    .dataframe tbody tr th:only-of-type {\n        vertical-align: middle;\n    }\n\n    .dataframe tbody tr th {\n        vertical-align: top;\n    }\n\n    .dataframe thead th {\n        text-align: right;\n    }\n</style>\n<table border=\"1\" class=\"dataframe\">\n  <thead>\n    <tr style=\"text-align: right;\">\n      <th></th>\n      <th>DATAS DAS COLETAS</th>\n      <th>P1 - Entrada ETE</th>\n      <th>Pb - Saída do UASB Entrada do CBR</th>\n      <th>Pc - Saída do CBR Entrada dos decantadores</th>\n      <th>Pd - Saída dos decantadores Entrada no sistema de ozonização</th>\n      <th>P2/P6 - Saída da ETE</th>\n      <th>P3 - Arroio São João</th>\n      <th>P4 - Canal coleta esgoto Vila Otacília</th>\n      <th>P5 - Vertedor do Lago</th>\n      <th>LAB. ANÁLISES AMBIENTAIS</th>\n      <th>OBSERVAÇÕES</th>\n      <th>P7 - Rede Pluvial (Trimestral)</th>\n    </tr>\n  </thead>\n  <tbody>\n    <tr>\n      <th>0</th>\n      <td>2013-01-09</td>\n      <td>6.1</td>\n      <td>6.5</td>\n      <td>6.7</td>\n      <td>6.8</td>\n      <td>6.9</td>\n      <td>6.9</td>\n      <td>6.4</td>\n      <td>6.8</td>\n      <td>x</td>\n      <td>NaN</td>\n      <td>NaN</td>\n    </tr>\n    <tr>\n      <th>1</th>\n      <td>2013-02-14</td>\n      <td>7.1</td>\n      <td>6.8</td>\n      <td>6.2</td>\n      <td>6.6</td>\n      <td>6.7</td>\n      <td>7.1</td>\n      <td>7.0</td>\n      <td>7.4</td>\n      <td>x</td>\n      <td>NaN</td>\n      <td>NaN</td>\n    </tr>\n    <tr>\n      <th>2</th>\n      <td>2013-03-06</td>\n      <td>7.4</td>\n      <td>7.8</td>\n      <td>7.7</td>\n      <td>7.9</td>\n      <td>7.9</td>\n      <td>8.1</td>\n      <td>8.8</td>\n      <td>9.0</td>\n      <td>x</td>\n      <td>NaN</td>\n      <td>NaN</td>\n    </tr>\n    <tr>\n      <th>3</th>\n      <td>2013-04-03</td>\n      <td>7.2</td>\n      <td>7.4</td>\n      <td>6.4</td>\n      <td>7.4</td>\n      <td>7.2</td>\n      <td>7.4</td>\n      <td>7.4</td>\n      <td>8.5</td>\n      <td>x</td>\n      <td>NaN</td>\n      <td>NaN</td>\n    </tr>\n    <tr>\n      <th>4</th>\n      <td>2013-05-08</td>\n      <td>6.9</td>\n      <td>7.2</td>\n      <td>6.8</td>\n      <td>7.0</td>\n      <td>7.1</td>\n      <td>7.3</td>\n      <td>7.0</td>\n      <td>7.6</td>\n      <td>x</td>\n      <td>NaN</td>\n      <td>NaN</td>\n    </tr>\n  </tbody>\n</table>\n</div>"
     },
     "metadata": {},
     "execution_count": 45
    }
   ],
   "source": [
    "name = archives[10].split(\".\")[0]\n",
    "\n",
    "df = pd.read_csv(path + name + \".csv\", encoding='utf8')\n",
    "df.head()"
   ]
  },
  {
   "cell_type": "code",
   "execution_count": 46,
   "metadata": {},
   "outputs": [
    {
     "output_type": "execute_result",
     "data": {
      "text/plain": "        DATAS   P1   Pb   Pc   Pd   P2   P3   P4   P5   P7\n0  2013-01-09  6.1  6.5  6.7  6.8  6.9  6.9  6.4  6.8  NaN\n1  2013-02-14  7.1  6.8  6.2  6.6  6.7  7.1  7.0  7.4  NaN\n2  2013-03-06  7.4  7.8  7.7  7.9  7.9  8.1  8.8  9.0  NaN\n3  2013-04-03  7.2  7.4  6.4  7.4  7.2  7.4  7.4  8.5  NaN\n4  2013-05-08  6.9  7.2  6.8  7.0  7.1  7.3  7.0  7.6  NaN",
      "text/html": "<div>\n<style scoped>\n    .dataframe tbody tr th:only-of-type {\n        vertical-align: middle;\n    }\n\n    .dataframe tbody tr th {\n        vertical-align: top;\n    }\n\n    .dataframe thead th {\n        text-align: right;\n    }\n</style>\n<table border=\"1\" class=\"dataframe\">\n  <thead>\n    <tr style=\"text-align: right;\">\n      <th></th>\n      <th>DATAS</th>\n      <th>P1</th>\n      <th>Pb</th>\n      <th>Pc</th>\n      <th>Pd</th>\n      <th>P2</th>\n      <th>P3</th>\n      <th>P4</th>\n      <th>P5</th>\n      <th>P7</th>\n    </tr>\n  </thead>\n  <tbody>\n    <tr>\n      <th>0</th>\n      <td>2013-01-09</td>\n      <td>6.1</td>\n      <td>6.5</td>\n      <td>6.7</td>\n      <td>6.8</td>\n      <td>6.9</td>\n      <td>6.9</td>\n      <td>6.4</td>\n      <td>6.8</td>\n      <td>NaN</td>\n    </tr>\n    <tr>\n      <th>1</th>\n      <td>2013-02-14</td>\n      <td>7.1</td>\n      <td>6.8</td>\n      <td>6.2</td>\n      <td>6.6</td>\n      <td>6.7</td>\n      <td>7.1</td>\n      <td>7.0</td>\n      <td>7.4</td>\n      <td>NaN</td>\n    </tr>\n    <tr>\n      <th>2</th>\n      <td>2013-03-06</td>\n      <td>7.4</td>\n      <td>7.8</td>\n      <td>7.7</td>\n      <td>7.9</td>\n      <td>7.9</td>\n      <td>8.1</td>\n      <td>8.8</td>\n      <td>9.0</td>\n      <td>NaN</td>\n    </tr>\n    <tr>\n      <th>3</th>\n      <td>2013-04-03</td>\n      <td>7.2</td>\n      <td>7.4</td>\n      <td>6.4</td>\n      <td>7.4</td>\n      <td>7.2</td>\n      <td>7.4</td>\n      <td>7.4</td>\n      <td>8.5</td>\n      <td>NaN</td>\n    </tr>\n    <tr>\n      <th>4</th>\n      <td>2013-05-08</td>\n      <td>6.9</td>\n      <td>7.2</td>\n      <td>6.8</td>\n      <td>7.0</td>\n      <td>7.1</td>\n      <td>7.3</td>\n      <td>7.0</td>\n      <td>7.6</td>\n      <td>NaN</td>\n    </tr>\n  </tbody>\n</table>\n</div>"
     },
     "metadata": {},
     "execution_count": 46
    }
   ],
   "source": [
    "# df.drop(columns=[\"P1 - Média mês\", \"P2/P6 - Média mês\"], inplace=True)\n",
    "columns = df.columns\n",
    "new_columns = [x.split()[0] for x in columns] \n",
    "df.columns = new_columns\n",
    "df.drop(columns=[\"OBSERVAÇÕES\", \"LAB.\"], inplace=True)\n",
    "# df.rename(columns={\"PORCENTAGEM\": \"PORCENTAGEM_SÓLIDOS\", \"SÓLIDOS\": \"SÓLIDOS_VOLÁTEIS\"}, inplace=True)\n",
    "df.rename(columns={\"P2/P6\": \"P2\"}, inplace=True)\n",
    "# df[\"ENTIDADE\"] = name\n",
    "df.head()"
   ]
  },
  {
   "cell_type": "code",
   "execution_count": 48,
   "metadata": {},
   "outputs": [
    {
     "output_type": "execute_result",
     "data": {
      "text/plain": "  ENTIDADE        DATA   pH\n0  P1       2013-01-09  6.1\n1  Pb       2013-01-09  6.5\n2  Pc       2013-01-09  6.7\n3  Pd       2013-01-09  6.8\n4  P2       2013-01-09  6.9",
      "text/html": "<div>\n<style scoped>\n    .dataframe tbody tr th:only-of-type {\n        vertical-align: middle;\n    }\n\n    .dataframe tbody tr th {\n        vertical-align: top;\n    }\n\n    .dataframe thead th {\n        text-align: right;\n    }\n</style>\n<table border=\"1\" class=\"dataframe\">\n  <thead>\n    <tr style=\"text-align: right;\">\n      <th></th>\n      <th>ENTIDADE</th>\n      <th>DATA</th>\n      <th>pH</th>\n    </tr>\n  </thead>\n  <tbody>\n    <tr>\n      <th>0</th>\n      <td>P1</td>\n      <td>2013-01-09</td>\n      <td>6.1</td>\n    </tr>\n    <tr>\n      <th>1</th>\n      <td>Pb</td>\n      <td>2013-01-09</td>\n      <td>6.5</td>\n    </tr>\n    <tr>\n      <th>2</th>\n      <td>Pc</td>\n      <td>2013-01-09</td>\n      <td>6.7</td>\n    </tr>\n    <tr>\n      <th>3</th>\n      <td>Pd</td>\n      <td>2013-01-09</td>\n      <td>6.8</td>\n    </tr>\n    <tr>\n      <th>4</th>\n      <td>P2</td>\n      <td>2013-01-09</td>\n      <td>6.9</td>\n    </tr>\n  </tbody>\n</table>\n</div>"
     },
     "metadata": {},
     "execution_count": 48
    }
   ],
   "source": [
    "transposed = df.T\n",
    "transposed = transposed.reset_index()\n",
    "transposed.columns = transposed.values[0]\n",
    "transposed.rename(columns={\"DATAS\": \"ENTIDADE\"}, inplace=True)\n",
    "transposed.drop(axis=0, index=[0], inplace=True)\n",
    "transposed = transposed.melt(id_vars=['ENTIDADE'])\n",
    "transposed.rename(columns={\"variable\": \"DATA\", \"value\": name}, inplace=True)\n",
    "df = transposed\n",
    "df.head()"
   ]
  },
  {
   "cell_type": "code",
   "execution_count": 44,
   "metadata": {},
   "outputs": [
    {
     "output_type": "execute_result",
     "data": {
      "text/plain": "'./Normlogs/nitrogênio.ipynb'"
     },
     "metadata": {},
     "execution_count": 44
    }
   ],
   "source": [
    "df.to_csv(f\"./Normalized/{name}.csv\", encoding='utf8', index=False)\n",
    "copy2(\"explorer.ipynb\", f\"./Normlogs/{name}.ipynb\")"
   ]
  },
  {
   "cell_type": "code",
   "execution_count": null,
   "metadata": {},
   "outputs": [],
   "source": []
  }
 ]
}