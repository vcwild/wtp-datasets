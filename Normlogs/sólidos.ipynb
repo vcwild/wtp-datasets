{
 "metadata": {
  "language_info": {
   "codemirror_mode": {
    "name": "ipython",
    "version": 3
   },
   "file_extension": ".py",
   "mimetype": "text/x-python",
   "name": "python",
   "nbconvert_exporter": "python",
   "pygments_lexer": "ipython3",
   "version": "3.7.7-final"
  },
  "orig_nbformat": 2,
  "kernelspec": {
   "name": "python_defaultSpec_1599226225149",
   "display_name": "Python 3.7.7 64-bit ('codenation': conda)"
  }
 },
 "nbformat": 4,
 "nbformat_minor": 2,
 "cells": [
  {
   "cell_type": "code",
   "execution_count": 1,
   "metadata": {},
   "outputs": [],
   "source": [
    "import numpy as np \n",
    "import pandas as pd \n",
    "from os import listdir\n",
    "from shutil import copy2 \n",
    "\n",
    "# Pandas setup\n",
    "pd.set_option('display.max_columns', 1000)\n",
    "pd.set_option('display.max_rows', 1000) \n",
    "pd.set_option('display.max_colwidth', -1) "
   ]
  },
  {
   "cell_type": "code",
   "execution_count": 2,
   "metadata": {},
   "outputs": [
    {
     "output_type": "execute_result",
     "data": {
      "text/plain": "['Cor_verdadeira.csv',\n 'DBO.csv',\n 'DQO.csv',\n 'acidez.csv',\n 'alcalinidade.csv',\n 'coliformes.csv',\n 'compostagem.csv',\n 'fosforo.csv',\n 'leito_de_secagem.csv',\n 'nitrogênio.csv',\n 'pH.csv',\n 'ptel.csv',\n 'surfactantes.csv',\n 'sólidos.csv',\n 'toda_consema.csv',\n 'toda_consema_2.csv',\n 'toda_consema_P7.csv',\n 'óleos.csv']"
     },
     "metadata": {},
     "execution_count": 2
    }
   ],
   "source": [
    "path = \"./Tidy/\"\n",
    "archives = sorted(listdir(path))\n",
    "archives"
   ]
  },
  {
   "cell_type": "code",
   "execution_count": 18,
   "metadata": {},
   "outputs": [
    {
     "output_type": "execute_result",
     "data": {
      "text/plain": "'sólidos.csv'"
     },
     "metadata": {},
     "execution_count": 18
    }
   ],
   "source": [
    "archives[13]"
   ]
  },
  {
   "cell_type": "code",
   "execution_count": 19,
   "metadata": {},
   "outputs": [
    {
     "output_type": "execute_result",
     "data": {
      "text/plain": "  DATA DA COLETA  P1 - Entrada ETE Pb - Saída do UASB Entrada do CBR  \\\n0  2013-01-22    NaN                NaN                                \n1  2013-02-05     21.9              49.9                               \n2  2013-03-12     42.5              30.5                               \n3  2013-04-09    NaN                NaN                                \n4  2013-05-14     133.3             19.3                               \n\n   Pc - Saída do CBR Entrada dos decantadores  \\\n0 NaN                                           \n1  23.1                                         \n2  19.7                                         \n3 NaN                                           \n4  31.6                                         \n\n   Pd - Saída dos decantadores Entrada no sistema de ozonização  \\\n0 NaN                                                             \n1  11.2                                                           \n2  14.8                                                           \n3 NaN                                                             \n4  11.4                                                           \n\n   P2 / P6 - Saída da ETE   P3 - Arroio São João  \\\n0 NaN                      NaN                     \n1  13.3                     10.1                   \n2  16.7                     11.4                   \n3 NaN                      NaN                     \n4  2.4                      12.6                   \n\n   P4 - Canal coleta esgoto Vila Otacília  P5 - Vertedor do Lago ANAL. AMB.  \\\n0 NaN                                     NaN                     x           \n1  11.5                                    26.1                   x           \n2  35.1                                    7.2                    x           \n3 NaN                                     NaN                     x           \n4  69.8                                    37.5                   x           \n\n                                                                                                                                                                                                                              OBSERVAÇÕES  \\\n0  As análises de DBO. SS e OG não foram realizadas em janeiro devido as férias da técnica do Lab. de Análise Ambiental                                                                                                                     \n1  NaN                                                                                                                                                                                                                                      \n2  NaN                                                                                                                                                                                                                                      \n3  Neste mês foi solicitado pela Prof. Luciana Gomes (CO) análises extras para Nitrogênio Amoniacal. pH e Alcalinidade Total então devido a grande demanda de análises que a laboratorista realiza não houve análise para este parâmetro.   \n4  Coleta feita em 15/05/13                                                                                                                                                                                                                 \n\n   P7 - Rede Pluvial (trimestral)  \n0 NaN                              \n1 NaN                              \n2 NaN                              \n3 NaN                              \n4 NaN                              ",
      "text/html": "<div>\n<style scoped>\n    .dataframe tbody tr th:only-of-type {\n        vertical-align: middle;\n    }\n\n    .dataframe tbody tr th {\n        vertical-align: top;\n    }\n\n    .dataframe thead th {\n        text-align: right;\n    }\n</style>\n<table border=\"1\" class=\"dataframe\">\n  <thead>\n    <tr style=\"text-align: right;\">\n      <th></th>\n      <th>DATA DA COLETA</th>\n      <th>P1 - Entrada ETE</th>\n      <th>Pb - Saída do UASB Entrada do CBR</th>\n      <th>Pc - Saída do CBR Entrada dos decantadores</th>\n      <th>Pd - Saída dos decantadores Entrada no sistema de ozonização</th>\n      <th>P2 / P6 - Saída da ETE</th>\n      <th>P3 - Arroio São João</th>\n      <th>P4 - Canal coleta esgoto Vila Otacília</th>\n      <th>P5 - Vertedor do Lago</th>\n      <th>ANAL. AMB.</th>\n      <th>OBSERVAÇÕES</th>\n      <th>P7 - Rede Pluvial (trimestral)</th>\n    </tr>\n  </thead>\n  <tbody>\n    <tr>\n      <th>0</th>\n      <td>2013-01-22</td>\n      <td>NaN</td>\n      <td>NaN</td>\n      <td>NaN</td>\n      <td>NaN</td>\n      <td>NaN</td>\n      <td>NaN</td>\n      <td>NaN</td>\n      <td>NaN</td>\n      <td>x</td>\n      <td>As análises de DBO. SS e OG não foram realizadas em janeiro devido as férias da técnica do Lab. de Análise Ambiental</td>\n      <td>NaN</td>\n    </tr>\n    <tr>\n      <th>1</th>\n      <td>2013-02-05</td>\n      <td>21.9</td>\n      <td>49.9</td>\n      <td>23.1</td>\n      <td>11.2</td>\n      <td>13.3</td>\n      <td>10.1</td>\n      <td>11.5</td>\n      <td>26.1</td>\n      <td>x</td>\n      <td>NaN</td>\n      <td>NaN</td>\n    </tr>\n    <tr>\n      <th>2</th>\n      <td>2013-03-12</td>\n      <td>42.5</td>\n      <td>30.5</td>\n      <td>19.7</td>\n      <td>14.8</td>\n      <td>16.7</td>\n      <td>11.4</td>\n      <td>35.1</td>\n      <td>7.2</td>\n      <td>x</td>\n      <td>NaN</td>\n      <td>NaN</td>\n    </tr>\n    <tr>\n      <th>3</th>\n      <td>2013-04-09</td>\n      <td>NaN</td>\n      <td>NaN</td>\n      <td>NaN</td>\n      <td>NaN</td>\n      <td>NaN</td>\n      <td>NaN</td>\n      <td>NaN</td>\n      <td>NaN</td>\n      <td>x</td>\n      <td>Neste mês foi solicitado pela Prof. Luciana Gomes (CO) análises extras para Nitrogênio Amoniacal. pH e Alcalinidade Total então devido a grande demanda de análises que a laboratorista realiza não houve análise para este parâmetro.</td>\n      <td>NaN</td>\n    </tr>\n    <tr>\n      <th>4</th>\n      <td>2013-05-14</td>\n      <td>133.3</td>\n      <td>19.3</td>\n      <td>31.6</td>\n      <td>11.4</td>\n      <td>2.4</td>\n      <td>12.6</td>\n      <td>69.8</td>\n      <td>37.5</td>\n      <td>x</td>\n      <td>Coleta feita em 15/05/13</td>\n      <td>NaN</td>\n    </tr>\n  </tbody>\n</table>\n</div>"
     },
     "metadata": {},
     "execution_count": 19
    }
   ],
   "source": [
    "name = archives[13].split(\".\")[0]\n",
    "\n",
    "df = pd.read_csv(path + name + \".csv\", encoding='utf8')\n",
    "df.head()"
   ]
  },
  {
   "cell_type": "code",
   "execution_count": 20,
   "metadata": {},
   "outputs": [
    {
     "output_type": "execute_result",
     "data": {
      "text/plain": "         DATA     P1    Pb    Pc    Pd    P2    P3    P4    P5  P7\n0  2013-01-22 NaN     NaN  NaN   NaN   NaN   NaN   NaN   NaN   NaN\n1  2013-02-05  21.9   49.9  23.1  11.2  13.3  10.1  11.5  26.1 NaN\n2  2013-03-12  42.5   30.5  19.7  14.8  16.7  11.4  35.1  7.2  NaN\n3  2013-04-09 NaN     NaN  NaN   NaN   NaN   NaN   NaN   NaN   NaN\n4  2013-05-14  133.3  19.3  31.6  11.4  2.4   12.6  69.8  37.5 NaN",
      "text/html": "<div>\n<style scoped>\n    .dataframe tbody tr th:only-of-type {\n        vertical-align: middle;\n    }\n\n    .dataframe tbody tr th {\n        vertical-align: top;\n    }\n\n    .dataframe thead th {\n        text-align: right;\n    }\n</style>\n<table border=\"1\" class=\"dataframe\">\n  <thead>\n    <tr style=\"text-align: right;\">\n      <th></th>\n      <th>DATA</th>\n      <th>P1</th>\n      <th>Pb</th>\n      <th>Pc</th>\n      <th>Pd</th>\n      <th>P2</th>\n      <th>P3</th>\n      <th>P4</th>\n      <th>P5</th>\n      <th>P7</th>\n    </tr>\n  </thead>\n  <tbody>\n    <tr>\n      <th>0</th>\n      <td>2013-01-22</td>\n      <td>NaN</td>\n      <td>NaN</td>\n      <td>NaN</td>\n      <td>NaN</td>\n      <td>NaN</td>\n      <td>NaN</td>\n      <td>NaN</td>\n      <td>NaN</td>\n      <td>NaN</td>\n    </tr>\n    <tr>\n      <th>1</th>\n      <td>2013-02-05</td>\n      <td>21.9</td>\n      <td>49.9</td>\n      <td>23.1</td>\n      <td>11.2</td>\n      <td>13.3</td>\n      <td>10.1</td>\n      <td>11.5</td>\n      <td>26.1</td>\n      <td>NaN</td>\n    </tr>\n    <tr>\n      <th>2</th>\n      <td>2013-03-12</td>\n      <td>42.5</td>\n      <td>30.5</td>\n      <td>19.7</td>\n      <td>14.8</td>\n      <td>16.7</td>\n      <td>11.4</td>\n      <td>35.1</td>\n      <td>7.2</td>\n      <td>NaN</td>\n    </tr>\n    <tr>\n      <th>3</th>\n      <td>2013-04-09</td>\n      <td>NaN</td>\n      <td>NaN</td>\n      <td>NaN</td>\n      <td>NaN</td>\n      <td>NaN</td>\n      <td>NaN</td>\n      <td>NaN</td>\n      <td>NaN</td>\n      <td>NaN</td>\n    </tr>\n    <tr>\n      <th>4</th>\n      <td>2013-05-14</td>\n      <td>133.3</td>\n      <td>19.3</td>\n      <td>31.6</td>\n      <td>11.4</td>\n      <td>2.4</td>\n      <td>12.6</td>\n      <td>69.8</td>\n      <td>37.5</td>\n      <td>NaN</td>\n    </tr>\n  </tbody>\n</table>\n</div>"
     },
     "metadata": {},
     "execution_count": 20
    }
   ],
   "source": [
    "# df.drop(columns=[\"P1 - Média mês\", \"P2/P6 - Média mês\"], inplace=True)\n",
    "columns = df.columns\n",
    "new_columns = [x.split()[0] for x in columns] \n",
    "df.columns = new_columns\n",
    "df.drop(columns=[\"OBSERVAÇÕES\", \"ANAL.\"], inplace=True)\n",
    "# df.rename(columns={\"PORCENTAGEM\": \"PORCENTAGEM_SÓLIDOS\", \"SÓLIDOS\": \"SÓLIDOS_VOLÁTEIS\"}, inplace=True)\n",
    "# df.rename(columns={\"Parâmetros\": \"ENTIDADE\"}, inplace=True)\n",
    "# df.columns = [x.upper() for x in new_columns]\n",
    "# df[\"ENTIDADE\"] = name\n",
    "df.head()"
   ]
  },
  {
   "cell_type": "code",
   "execution_count": 21,
   "metadata": {},
   "outputs": [
    {
     "output_type": "execute_result",
     "data": {
      "text/plain": "  ENTIDADE        DATA sólidos\n0  P1       2013-01-22  NaN   \n1  Pb       2013-01-22  NaN   \n2  Pc       2013-01-22  NaN   \n3  Pd       2013-01-22  NaN   \n4  P2       2013-01-22  NaN   ",
      "text/html": "<div>\n<style scoped>\n    .dataframe tbody tr th:only-of-type {\n        vertical-align: middle;\n    }\n\n    .dataframe tbody tr th {\n        vertical-align: top;\n    }\n\n    .dataframe thead th {\n        text-align: right;\n    }\n</style>\n<table border=\"1\" class=\"dataframe\">\n  <thead>\n    <tr style=\"text-align: right;\">\n      <th></th>\n      <th>ENTIDADE</th>\n      <th>DATA</th>\n      <th>sólidos</th>\n    </tr>\n  </thead>\n  <tbody>\n    <tr>\n      <th>0</th>\n      <td>P1</td>\n      <td>2013-01-22</td>\n      <td>NaN</td>\n    </tr>\n    <tr>\n      <th>1</th>\n      <td>Pb</td>\n      <td>2013-01-22</td>\n      <td>NaN</td>\n    </tr>\n    <tr>\n      <th>2</th>\n      <td>Pc</td>\n      <td>2013-01-22</td>\n      <td>NaN</td>\n    </tr>\n    <tr>\n      <th>3</th>\n      <td>Pd</td>\n      <td>2013-01-22</td>\n      <td>NaN</td>\n    </tr>\n    <tr>\n      <th>4</th>\n      <td>P2</td>\n      <td>2013-01-22</td>\n      <td>NaN</td>\n    </tr>\n  </tbody>\n</table>\n</div>"
     },
     "metadata": {},
     "execution_count": 21
    }
   ],
   "source": [
    "transposed = df.T\n",
    "transposed = transposed.reset_index()\n",
    "transposed.columns = transposed.values[0]\n",
    "transposed.rename(columns={\"DATA\": \"ENTIDADE\"}, inplace=True)\n",
    "transposed.drop(axis=0, index=[0], inplace=True)\n",
    "transposed = transposed.melt(id_vars=['ENTIDADE'])\n",
    "transposed.rename(columns={\"variable\": \"DATA\", \"value\": name}, inplace=True)\n",
    "df = transposed\n",
    "df.head()"
   ]
  },
  {
   "cell_type": "code",
   "execution_count": 17,
   "metadata": {},
   "outputs": [
    {
     "output_type": "execute_result",
     "data": {
      "text/plain": "'./Normlogs/surfactantes.ipynb'"
     },
     "metadata": {},
     "execution_count": 17
    }
   ],
   "source": [
    "df.to_csv(f\"./Normalized/{name}.csv\", encoding='utf8', index=False)\n",
    "copy2(\"explorer.ipynb\", f\"./Normlogs/{name}.ipynb\")"
   ]
  },
  {
   "cell_type": "code",
   "execution_count": null,
   "metadata": {},
   "outputs": [],
   "source": []
  }
 ]
}