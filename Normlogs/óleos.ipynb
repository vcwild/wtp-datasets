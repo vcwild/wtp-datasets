{
 "metadata": {
  "language_info": {
   "codemirror_mode": {
    "name": "ipython",
    "version": 3
   },
   "file_extension": ".py",
   "mimetype": "text/x-python",
   "name": "python",
   "nbconvert_exporter": "python",
   "pygments_lexer": "ipython3",
   "version": "3.7.7-final"
  },
  "orig_nbformat": 2,
  "kernelspec": {
   "name": "python_defaultSpec_1599226225149",
   "display_name": "Python 3.7.7 64-bit ('codenation': conda)"
  }
 },
 "nbformat": 4,
 "nbformat_minor": 2,
 "cells": [
  {
   "cell_type": "code",
   "execution_count": 1,
   "metadata": {},
   "outputs": [],
   "source": [
    "import numpy as np \n",
    "import pandas as pd \n",
    "from os import listdir\n",
    "from shutil import copy2 \n",
    "\n",
    "# Pandas setup\n",
    "pd.set_option('display.max_columns', 1000)\n",
    "pd.set_option('display.max_rows', 1000) \n",
    "pd.set_option('display.max_colwidth', -1) "
   ]
  },
  {
   "cell_type": "code",
   "execution_count": 2,
   "metadata": {},
   "outputs": [
    {
     "output_type": "execute_result",
     "data": {
      "text/plain": "['Cor_verdadeira.csv',\n 'DBO.csv',\n 'DQO.csv',\n 'acidez.csv',\n 'alcalinidade.csv',\n 'coliformes.csv',\n 'compostagem.csv',\n 'fosforo.csv',\n 'leito_de_secagem.csv',\n 'nitrogênio.csv',\n 'pH.csv',\n 'ptel.csv',\n 'surfactantes.csv',\n 'sólidos.csv',\n 'toda_consema.csv',\n 'toda_consema_2.csv',\n 'toda_consema_P7.csv',\n 'óleos.csv']"
     },
     "metadata": {},
     "execution_count": 2
    }
   ],
   "source": [
    "path = \"./Tidy/\"\n",
    "archives = sorted(listdir(path))\n",
    "archives"
   ]
  },
  {
   "cell_type": "code",
   "execution_count": 46,
   "metadata": {},
   "outputs": [
    {
     "output_type": "execute_result",
     "data": {
      "text/plain": "'óleos.csv'"
     },
     "metadata": {},
     "execution_count": 46
    }
   ],
   "source": [
    "archives[17]"
   ]
  },
  {
   "cell_type": "code",
   "execution_count": 50,
   "metadata": {},
   "outputs": [
    {
     "output_type": "execute_result",
     "data": {
      "text/plain": "  DATA DA COLETA  P1 - Entrada ETE Unisinos  \\\n0  2013-01-22    NaN                          \n1  2013-02-05     10.0                        \n2  2013-03-12     19.4                        \n3  2013-04-09    NaN                          \n4  2013-05-14     19.1                        \n\n   Pb - Saída do UASB Entrada do CBR  \\\n0 NaN                                  \n1  10.0                                \n2  10.0                                \n3 NaN                                  \n4  27.1                                \n\n   Pc - Saída do CBR Entrada dos decantadores  \\\n0 NaN                                           \n1  10.0                                         \n2  10.0                                         \n3 NaN                                           \n4  14.7                                         \n\n   Pd - Saída dos decantadores Entrada no sistema de ozonização  \\\n0 NaN                                                             \n1  10.0                                                           \n2  10.0                                                           \n3 NaN                                                             \n4  15.9                                                           \n\n   P2 / P6  - Saída da ETE Unisinos  P3 - Arroio São João  \\\n0 NaN                               NaN                     \n1  10.0                              14.0                   \n2  15.6                              12.2                   \n3 NaN                               NaN                     \n4  10.0                              18.2                   \n\n   P4 - Canal coleta esgoto Vila Otacília  P5 - Vertedor do Lago ANAL. AMB.  \\\n0 NaN                                     NaN                     x           \n1  10.0                                    10.4                   X           \n2  14.8                                    10.0                   X           \n3 NaN                                     NaN                     X           \n4  34.5                                    20.8                   X           \n\n                                                                                                                                                                                                                              OBSERVAÇÕES  \\\n0  As análises de DBO. SS e OG não foram realizadas em janeiro devido as férias da técnica do Lab. de Análise Ambiental                                                                                                                     \n1  NaN                                                                                                                                                                                                                                      \n2  NaN                                                                                                                                                                                                                                      \n3  Neste mês foi solicitado pela Prof. Luciana Gomes (CO) análises extras para Nitrogênio Amoniacal. pH e Alcalinidade Total então devido a grande demanda de análises que a laboratorista realiza não houve análise para este parâmetro.   \n4  NaN                                                                                                                                                                                                                                      \n\n   P7 - Rede Pluvial (trimestral)  \n0 NaN                              \n1 NaN                              \n2 NaN                              \n3 NaN                              \n4 NaN                              ",
      "text/html": "<div>\n<style scoped>\n    .dataframe tbody tr th:only-of-type {\n        vertical-align: middle;\n    }\n\n    .dataframe tbody tr th {\n        vertical-align: top;\n    }\n\n    .dataframe thead th {\n        text-align: right;\n    }\n</style>\n<table border=\"1\" class=\"dataframe\">\n  <thead>\n    <tr style=\"text-align: right;\">\n      <th></th>\n      <th>DATA DA COLETA</th>\n      <th>P1 - Entrada ETE Unisinos</th>\n      <th>Pb - Saída do UASB Entrada do CBR</th>\n      <th>Pc - Saída do CBR Entrada dos decantadores</th>\n      <th>Pd - Saída dos decantadores Entrada no sistema de ozonização</th>\n      <th>P2 / P6  - Saída da ETE Unisinos</th>\n      <th>P3 - Arroio São João</th>\n      <th>P4 - Canal coleta esgoto Vila Otacília</th>\n      <th>P5 - Vertedor do Lago</th>\n      <th>ANAL. AMB.</th>\n      <th>OBSERVAÇÕES</th>\n      <th>P7 - Rede Pluvial (trimestral)</th>\n    </tr>\n  </thead>\n  <tbody>\n    <tr>\n      <th>0</th>\n      <td>2013-01-22</td>\n      <td>NaN</td>\n      <td>NaN</td>\n      <td>NaN</td>\n      <td>NaN</td>\n      <td>NaN</td>\n      <td>NaN</td>\n      <td>NaN</td>\n      <td>NaN</td>\n      <td>x</td>\n      <td>As análises de DBO. SS e OG não foram realizadas em janeiro devido as férias da técnica do Lab. de Análise Ambiental</td>\n      <td>NaN</td>\n    </tr>\n    <tr>\n      <th>1</th>\n      <td>2013-02-05</td>\n      <td>10.0</td>\n      <td>10.0</td>\n      <td>10.0</td>\n      <td>10.0</td>\n      <td>10.0</td>\n      <td>14.0</td>\n      <td>10.0</td>\n      <td>10.4</td>\n      <td>X</td>\n      <td>NaN</td>\n      <td>NaN</td>\n    </tr>\n    <tr>\n      <th>2</th>\n      <td>2013-03-12</td>\n      <td>19.4</td>\n      <td>10.0</td>\n      <td>10.0</td>\n      <td>10.0</td>\n      <td>15.6</td>\n      <td>12.2</td>\n      <td>14.8</td>\n      <td>10.0</td>\n      <td>X</td>\n      <td>NaN</td>\n      <td>NaN</td>\n    </tr>\n    <tr>\n      <th>3</th>\n      <td>2013-04-09</td>\n      <td>NaN</td>\n      <td>NaN</td>\n      <td>NaN</td>\n      <td>NaN</td>\n      <td>NaN</td>\n      <td>NaN</td>\n      <td>NaN</td>\n      <td>NaN</td>\n      <td>X</td>\n      <td>Neste mês foi solicitado pela Prof. Luciana Gomes (CO) análises extras para Nitrogênio Amoniacal. pH e Alcalinidade Total então devido a grande demanda de análises que a laboratorista realiza não houve análise para este parâmetro.</td>\n      <td>NaN</td>\n    </tr>\n    <tr>\n      <th>4</th>\n      <td>2013-05-14</td>\n      <td>19.1</td>\n      <td>27.1</td>\n      <td>14.7</td>\n      <td>15.9</td>\n      <td>10.0</td>\n      <td>18.2</td>\n      <td>34.5</td>\n      <td>20.8</td>\n      <td>X</td>\n      <td>NaN</td>\n      <td>NaN</td>\n    </tr>\n  </tbody>\n</table>\n</div>"
     },
     "metadata": {},
     "execution_count": 50
    }
   ],
   "source": [
    "name = archives[17].split(\".\")[0]\n",
    "\n",
    "df = pd.read_csv(path + name + \".csv\", encoding='utf8')\n",
    "# df.rename(columns={\"PARÂMETROS\": \"ENTIDADE\"}, inplace=True)\n",
    "# df.ENTIDADE = df.ENTIDADE.map(lambda x: x.replace(\"P2/P6\", \"P2\"))\n",
    "df.head()"
   ]
  },
  {
   "cell_type": "code",
   "execution_count": 51,
   "metadata": {},
   "outputs": [
    {
     "output_type": "execute_result",
     "data": {
      "text/plain": "         DATA    P1    Pb    Pc    Pd    P2    P3    P4    P5  P7\n0  2013-01-22 NaN   NaN   NaN   NaN   NaN   NaN   NaN   NaN   NaN\n1  2013-02-05  10.0  10.0  10.0  10.0  10.0  14.0  10.0  10.4 NaN\n2  2013-03-12  19.4  10.0  10.0  10.0  15.6  12.2  14.8  10.0 NaN\n3  2013-04-09 NaN   NaN   NaN   NaN   NaN   NaN   NaN   NaN   NaN\n4  2013-05-14  19.1  27.1  14.7  15.9  10.0  18.2  34.5  20.8 NaN",
      "text/html": "<div>\n<style scoped>\n    .dataframe tbody tr th:only-of-type {\n        vertical-align: middle;\n    }\n\n    .dataframe tbody tr th {\n        vertical-align: top;\n    }\n\n    .dataframe thead th {\n        text-align: right;\n    }\n</style>\n<table border=\"1\" class=\"dataframe\">\n  <thead>\n    <tr style=\"text-align: right;\">\n      <th></th>\n      <th>DATA</th>\n      <th>P1</th>\n      <th>Pb</th>\n      <th>Pc</th>\n      <th>Pd</th>\n      <th>P2</th>\n      <th>P3</th>\n      <th>P4</th>\n      <th>P5</th>\n      <th>P7</th>\n    </tr>\n  </thead>\n  <tbody>\n    <tr>\n      <th>0</th>\n      <td>2013-01-22</td>\n      <td>NaN</td>\n      <td>NaN</td>\n      <td>NaN</td>\n      <td>NaN</td>\n      <td>NaN</td>\n      <td>NaN</td>\n      <td>NaN</td>\n      <td>NaN</td>\n      <td>NaN</td>\n    </tr>\n    <tr>\n      <th>1</th>\n      <td>2013-02-05</td>\n      <td>10.0</td>\n      <td>10.0</td>\n      <td>10.0</td>\n      <td>10.0</td>\n      <td>10.0</td>\n      <td>14.0</td>\n      <td>10.0</td>\n      <td>10.4</td>\n      <td>NaN</td>\n    </tr>\n    <tr>\n      <th>2</th>\n      <td>2013-03-12</td>\n      <td>19.4</td>\n      <td>10.0</td>\n      <td>10.0</td>\n      <td>10.0</td>\n      <td>15.6</td>\n      <td>12.2</td>\n      <td>14.8</td>\n      <td>10.0</td>\n      <td>NaN</td>\n    </tr>\n    <tr>\n      <th>3</th>\n      <td>2013-04-09</td>\n      <td>NaN</td>\n      <td>NaN</td>\n      <td>NaN</td>\n      <td>NaN</td>\n      <td>NaN</td>\n      <td>NaN</td>\n      <td>NaN</td>\n      <td>NaN</td>\n      <td>NaN</td>\n    </tr>\n    <tr>\n      <th>4</th>\n      <td>2013-05-14</td>\n      <td>19.1</td>\n      <td>27.1</td>\n      <td>14.7</td>\n      <td>15.9</td>\n      <td>10.0</td>\n      <td>18.2</td>\n      <td>34.5</td>\n      <td>20.8</td>\n      <td>NaN</td>\n    </tr>\n  </tbody>\n</table>\n</div>"
     },
     "metadata": {},
     "execution_count": 51
    }
   ],
   "source": [
    "# df.drop(columns=[\"P1 - Média mês\", \"P2/P6 - Média mês\"], inplace=True)\n",
    "columns = df.columns\n",
    "new_columns = [x.split()[0] for x in columns] \n",
    "df.columns = new_columns\n",
    "df.drop(columns=[\"OBSERVAÇÕES\", \"ANAL.\"], inplace=True)\n",
    "# df.rename(columns={\"PORCENTAGEM\": \"PORCENTAGEM_SÓLIDOS\", \"SÓLIDOS\": \"SÓLIDOS_VOLÁTEIS\"}, inplace=True)\n",
    "# df.rename(columns={\"Parâmetros\": \"ENTIDADE\"}, inplace=True)\n",
    "# df.columns = [x.upper() for x in new_columns]\n",
    "# df[\"ENTIDADE\"] = name\n",
    "df.head()"
   ]
  },
  {
   "cell_type": "code",
   "execution_count": 52,
   "metadata": {},
   "outputs": [
    {
     "output_type": "execute_result",
     "data": {
      "text/plain": "  ENTIDADE        DATA óleos\n0  P1       2013-01-22  NaN \n1  Pb       2013-01-22  NaN \n2  Pc       2013-01-22  NaN \n3  Pd       2013-01-22  NaN \n4  P2       2013-01-22  NaN ",
      "text/html": "<div>\n<style scoped>\n    .dataframe tbody tr th:only-of-type {\n        vertical-align: middle;\n    }\n\n    .dataframe tbody tr th {\n        vertical-align: top;\n    }\n\n    .dataframe thead th {\n        text-align: right;\n    }\n</style>\n<table border=\"1\" class=\"dataframe\">\n  <thead>\n    <tr style=\"text-align: right;\">\n      <th></th>\n      <th>ENTIDADE</th>\n      <th>DATA</th>\n      <th>óleos</th>\n    </tr>\n  </thead>\n  <tbody>\n    <tr>\n      <th>0</th>\n      <td>P1</td>\n      <td>2013-01-22</td>\n      <td>NaN</td>\n    </tr>\n    <tr>\n      <th>1</th>\n      <td>Pb</td>\n      <td>2013-01-22</td>\n      <td>NaN</td>\n    </tr>\n    <tr>\n      <th>2</th>\n      <td>Pc</td>\n      <td>2013-01-22</td>\n      <td>NaN</td>\n    </tr>\n    <tr>\n      <th>3</th>\n      <td>Pd</td>\n      <td>2013-01-22</td>\n      <td>NaN</td>\n    </tr>\n    <tr>\n      <th>4</th>\n      <td>P2</td>\n      <td>2013-01-22</td>\n      <td>NaN</td>\n    </tr>\n  </tbody>\n</table>\n</div>"
     },
     "metadata": {},
     "execution_count": 52
    }
   ],
   "source": [
    "transposed = df.T\n",
    "transposed = transposed.reset_index()\n",
    "transposed.columns = transposed.values[0]\n",
    "transposed.rename(columns={\"DATA\": \"ENTIDADE\"}, inplace=True)\n",
    "transposed.drop(axis=0, index=[0], inplace=True)\n",
    "transposed = transposed.melt(id_vars=['ENTIDADE'])\n",
    "transposed.rename(columns={\"variable\": \"DATA\", \"value\": name}, inplace=True)\n",
    "df = transposed\n",
    "df.head()"
   ]
  },
  {
   "cell_type": "code",
   "execution_count": 43,
   "metadata": {},
   "outputs": [
    {
     "output_type": "execute_result",
     "data": {
      "text/plain": "'./Normlogs/toda_consema.ipynb'"
     },
     "metadata": {},
     "execution_count": 43
    }
   ],
   "source": [
    "df.to_csv(f\"./Normalized/{name}.csv\", encoding='utf8', index=False)\n",
    "copy2(\"explorer.ipynb\", f\"./Normlogs/{name}.ipynb\")"
   ]
  },
  {
   "cell_type": "code",
   "execution_count": null,
   "metadata": {},
   "outputs": [],
   "source": []
  }
 ]
}