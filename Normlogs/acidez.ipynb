{
 "metadata": {
  "language_info": {
   "codemirror_mode": {
    "name": "ipython",
    "version": 3
   },
   "file_extension": ".py",
   "mimetype": "text/x-python",
   "name": "python",
   "nbconvert_exporter": "python",
   "pygments_lexer": "ipython3",
   "version": "3.7.7-final"
  },
  "orig_nbformat": 2,
  "kernelspec": {
   "name": "python_defaultSpec_1599135168438",
   "display_name": "Python 3.7.7 64-bit ('codenation': conda)"
  }
 },
 "nbformat": 4,
 "nbformat_minor": 2,
 "cells": [
  {
   "cell_type": "code",
   "execution_count": 1,
   "metadata": {},
   "outputs": [],
   "source": [
    "import numpy as np \n",
    "import pandas as pd \n",
    "from os import listdir\n",
    "from shutil import copy2 \n",
    "\n",
    "# Pandas setup\n",
    "pd.set_option('display.max_columns', 1000)\n",
    "pd.set_option('display.max_rows', 1000) \n",
    "pd.set_option('display.max_colwidth', -1) "
   ]
  },
  {
   "cell_type": "code",
   "execution_count": 2,
   "metadata": {},
   "outputs": [
    {
     "output_type": "execute_result",
     "data": {
      "text/plain": "['Cor_verdadeira.csv',\n 'DBO.csv',\n 'DQO.csv',\n 'acidez.csv',\n 'alcalinidade.csv',\n 'coliformes.csv',\n 'compostagem.csv',\n 'fosforo.csv',\n 'leito_de_secagem.csv',\n 'nitrogênio.csv',\n 'pH.csv',\n 'ptel.csv',\n 'surfactantes.csv',\n 'sólidos.csv',\n 'toda_consema.csv',\n 'toda_consema_2.csv',\n 'toda_consema_P7.csv',\n 'óleos.csv']"
     },
     "metadata": {},
     "execution_count": 2
    }
   ],
   "source": [
    "path = \"./Tidy/\"\n",
    "archives = sorted(listdir(path))\n",
    "archives"
   ]
  },
  {
   "cell_type": "code",
   "execution_count": 13,
   "metadata": {},
   "outputs": [
    {
     "output_type": "execute_result",
     "data": {
      "text/plain": "         DATA  acidez ENTIDADE\n0  2013-01-09  77.0    Reator \n1  2013-02-14  84.2    Reator \n2  2013-03-06  51.9    Reator \n3  2013-04-03  72.0    Reator \n4  2013-05-08  66.5    Reator ",
      "text/html": "<div>\n<style scoped>\n    .dataframe tbody tr th:only-of-type {\n        vertical-align: middle;\n    }\n\n    .dataframe tbody tr th {\n        vertical-align: top;\n    }\n\n    .dataframe thead th {\n        text-align: right;\n    }\n</style>\n<table border=\"1\" class=\"dataframe\">\n  <thead>\n    <tr style=\"text-align: right;\">\n      <th></th>\n      <th>DATA</th>\n      <th>acidez</th>\n      <th>ENTIDADE</th>\n    </tr>\n  </thead>\n  <tbody>\n    <tr>\n      <th>0</th>\n      <td>2013-01-09</td>\n      <td>77.0</td>\n      <td>Reator</td>\n    </tr>\n    <tr>\n      <th>1</th>\n      <td>2013-02-14</td>\n      <td>84.2</td>\n      <td>Reator</td>\n    </tr>\n    <tr>\n      <th>2</th>\n      <td>2013-03-06</td>\n      <td>51.9</td>\n      <td>Reator</td>\n    </tr>\n    <tr>\n      <th>3</th>\n      <td>2013-04-03</td>\n      <td>72.0</td>\n      <td>Reator</td>\n    </tr>\n    <tr>\n      <th>4</th>\n      <td>2013-05-08</td>\n      <td>66.5</td>\n      <td>Reator</td>\n    </tr>\n  </tbody>\n</table>\n</div>"
     },
     "metadata": {},
     "execution_count": 13
    }
   ],
   "source": [
    "name = archives[3].split(\".\")[0]\n",
    "\n",
    "df = pd.read_csv(path + name + \".csv\", encoding='utf8')\n",
    "columns = df.columns\n",
    "new_columns = [x.split()[0] for x in columns] \n",
    "df.columns = new_columns\n",
    "df.drop(columns=[\"OBSERVAÇÕES\", \"ANAL.\"], inplace=True)\n",
    "df.rename(columns={\"LODO_REATOR_UASB\": \"acidez\"}, inplace=True)\n",
    "df[\"ENTIDADE\"] = \"Reator\"\n",
    "df.head()"
   ]
  },
  {
   "cell_type": "code",
   "execution_count": 7,
   "metadata": {},
   "outputs": [
    {
     "output_type": "execute_result",
     "data": {
      "text/plain": "  ENTIDADE        DATA   DQO\n0  P1       2013-01-22  40.3\n1  Pb       2013-01-22  38.2\n2  Pc       2013-01-22  17.8\n3  Pd       2013-01-22  16.5\n4  P2       2013-01-22  9.3 ",
      "text/html": "<div>\n<style scoped>\n    .dataframe tbody tr th:only-of-type {\n        vertical-align: middle;\n    }\n\n    .dataframe tbody tr th {\n        vertical-align: top;\n    }\n\n    .dataframe thead th {\n        text-align: right;\n    }\n</style>\n<table border=\"1\" class=\"dataframe\">\n  <thead>\n    <tr style=\"text-align: right;\">\n      <th></th>\n      <th>ENTIDADE</th>\n      <th>DATA</th>\n      <th>DQO</th>\n    </tr>\n  </thead>\n  <tbody>\n    <tr>\n      <th>0</th>\n      <td>P1</td>\n      <td>2013-01-22</td>\n      <td>40.3</td>\n    </tr>\n    <tr>\n      <th>1</th>\n      <td>Pb</td>\n      <td>2013-01-22</td>\n      <td>38.2</td>\n    </tr>\n    <tr>\n      <th>2</th>\n      <td>Pc</td>\n      <td>2013-01-22</td>\n      <td>17.8</td>\n    </tr>\n    <tr>\n      <th>3</th>\n      <td>Pd</td>\n      <td>2013-01-22</td>\n      <td>16.5</td>\n    </tr>\n    <tr>\n      <th>4</th>\n      <td>P2</td>\n      <td>2013-01-22</td>\n      <td>9.3</td>\n    </tr>\n  </tbody>\n</table>\n</div>"
     },
     "metadata": {},
     "execution_count": 7
    }
   ],
   "source": [
    "# transposed = df.T\n",
    "# transposed = transposed.reset_index()\n",
    "# transposed.columns = transposed.values[0]\n",
    "# transposed.rename(columns={\"DATAS\": \"ENTIDADE\"}, inplace=True)\n",
    "# transposed.drop(axis=0, index=[0], inplace=True)\n",
    "# transposed = transposed.melt(id_vars=['ENTIDADE'])\n",
    "# transposed.rename(columns={\"variable\": \"DATA\", \"value\": name}, inplace=True)\n",
    "# df = transposed\n",
    "# df.head()"
   ]
  },
  {
   "cell_type": "code",
   "execution_count": 8,
   "metadata": {},
   "outputs": [
    {
     "output_type": "execute_result",
     "data": {
      "text/plain": "'./Normlogs/DQO.ipynb'"
     },
     "metadata": {},
     "execution_count": 8
    }
   ],
   "source": [
    "df.to_csv(f\"./Normalized/{name}.csv\", encoding='utf8', index=False)\n",
    "copy2(\"explorer.ipynb\", f\"./Normlogs/{name}.ipynb\")"
   ]
  },
  {
   "cell_type": "code",
   "execution_count": null,
   "metadata": {},
   "outputs": [],
   "source": []
  }
 ]
}