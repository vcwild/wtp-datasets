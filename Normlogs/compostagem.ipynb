{
 "metadata": {
  "language_info": {
   "codemirror_mode": {
    "name": "ipython",
    "version": 3
   },
   "file_extension": ".py",
   "mimetype": "text/x-python",
   "name": "python",
   "nbconvert_exporter": "python",
   "pygments_lexer": "ipython3",
   "version": "3.7.7-final"
  },
  "orig_nbformat": 2,
  "kernelspec": {
   "name": "python_defaultSpec_1599135168438",
   "display_name": "Python 3.7.7 64-bit ('codenation': conda)"
  }
 },
 "nbformat": 4,
 "nbformat_minor": 2,
 "cells": [
  {
   "cell_type": "code",
   "execution_count": 1,
   "metadata": {},
   "outputs": [],
   "source": [
    "import numpy as np \n",
    "import pandas as pd \n",
    "from os import listdir\n",
    "from shutil import copy2 \n",
    "\n",
    "# Pandas setup\n",
    "pd.set_option('display.max_columns', 1000)\n",
    "pd.set_option('display.max_rows', 1000) \n",
    "pd.set_option('display.max_colwidth', -1) "
   ]
  },
  {
   "cell_type": "code",
   "execution_count": 2,
   "metadata": {},
   "outputs": [
    {
     "output_type": "execute_result",
     "data": {
      "text/plain": "['Cor_verdadeira.csv',\n 'DBO.csv',\n 'DQO.csv',\n 'acidez.csv',\n 'alcalinidade.csv',\n 'coliformes.csv',\n 'compostagem.csv',\n 'fosforo.csv',\n 'leito_de_secagem.csv',\n 'nitrogênio.csv',\n 'pH.csv',\n 'ptel.csv',\n 'surfactantes.csv',\n 'sólidos.csv',\n 'toda_consema.csv',\n 'toda_consema_2.csv',\n 'toda_consema_P7.csv',\n 'óleos.csv']"
     },
     "metadata": {},
     "execution_count": 2
    }
   ],
   "source": [
    "path = \"./Tidy/\"\n",
    "archives = sorted(listdir(path))\n",
    "archives"
   ]
  },
  {
   "cell_type": "code",
   "execution_count": 25,
   "metadata": {},
   "outputs": [
    {
     "output_type": "execute_result",
     "data": {
      "text/plain": "'compostagem.csv'"
     },
     "metadata": {},
     "execution_count": 25
    }
   ],
   "source": [
    "archives[6]"
   ]
  },
  {
   "cell_type": "code",
   "execution_count": 32,
   "metadata": {},
   "outputs": [
    {
     "output_type": "execute_result",
     "data": {
      "text/plain": "         DATA  UMIDADE  ALUMÍNIO  COBRE  CROMO  MANGANÊS NÍQUEL  \\\n0  2013-02-05 NaN      NaN       NaN    NaN    NaN        NaN     \n1  2013-05-07  64.7     2606.0    56.5   16.4   63.4      8.18    \n2  2013-08-06 NaN      NaN       NaN    NaN    NaN        NaN     \n3  2013-11-05  70.4     2249.0    207.0 NaN     41.3      17.4    \n4  2014-02-05  54.8     2606.0    56.5   17.4   43.4      8.18    \n\n   PORCENTAGEM_SÓLIDOS  SÓLIDOS_VOLÁTEIS COMPOSTOS     ENTIDADE  \n0 NaN                  NaN                NaN       Compostagem  \n1 NaN                  NaN                NaN       Compostagem  \n2 NaN                  NaN                NaN       Compostagem  \n3 NaN                  NaN                NaN       Compostagem  \n4 NaN                  NaN                NaN       Compostagem  ",
      "text/html": "<div>\n<style scoped>\n    .dataframe tbody tr th:only-of-type {\n        vertical-align: middle;\n    }\n\n    .dataframe tbody tr th {\n        vertical-align: top;\n    }\n\n    .dataframe thead th {\n        text-align: right;\n    }\n</style>\n<table border=\"1\" class=\"dataframe\">\n  <thead>\n    <tr style=\"text-align: right;\">\n      <th></th>\n      <th>DATA</th>\n      <th>UMIDADE</th>\n      <th>ALUMÍNIO</th>\n      <th>COBRE</th>\n      <th>CROMO</th>\n      <th>MANGANÊS</th>\n      <th>NÍQUEL</th>\n      <th>PORCENTAGEM_SÓLIDOS</th>\n      <th>SÓLIDOS_VOLÁTEIS</th>\n      <th>COMPOSTOS</th>\n      <th>ENTIDADE</th>\n    </tr>\n  </thead>\n  <tbody>\n    <tr>\n      <th>0</th>\n      <td>2013-02-05</td>\n      <td>NaN</td>\n      <td>NaN</td>\n      <td>NaN</td>\n      <td>NaN</td>\n      <td>NaN</td>\n      <td>NaN</td>\n      <td>NaN</td>\n      <td>NaN</td>\n      <td>NaN</td>\n      <td>Compostagem</td>\n    </tr>\n    <tr>\n      <th>1</th>\n      <td>2013-05-07</td>\n      <td>64.7</td>\n      <td>2606.0</td>\n      <td>56.5</td>\n      <td>16.4</td>\n      <td>63.4</td>\n      <td>8.18</td>\n      <td>NaN</td>\n      <td>NaN</td>\n      <td>NaN</td>\n      <td>Compostagem</td>\n    </tr>\n    <tr>\n      <th>2</th>\n      <td>2013-08-06</td>\n      <td>NaN</td>\n      <td>NaN</td>\n      <td>NaN</td>\n      <td>NaN</td>\n      <td>NaN</td>\n      <td>NaN</td>\n      <td>NaN</td>\n      <td>NaN</td>\n      <td>NaN</td>\n      <td>Compostagem</td>\n    </tr>\n    <tr>\n      <th>3</th>\n      <td>2013-11-05</td>\n      <td>70.4</td>\n      <td>2249.0</td>\n      <td>207.0</td>\n      <td>NaN</td>\n      <td>41.3</td>\n      <td>17.4</td>\n      <td>NaN</td>\n      <td>NaN</td>\n      <td>NaN</td>\n      <td>Compostagem</td>\n    </tr>\n    <tr>\n      <th>4</th>\n      <td>2014-02-05</td>\n      <td>54.8</td>\n      <td>2606.0</td>\n      <td>56.5</td>\n      <td>17.4</td>\n      <td>43.4</td>\n      <td>8.18</td>\n      <td>NaN</td>\n      <td>NaN</td>\n      <td>NaN</td>\n      <td>Compostagem</td>\n    </tr>\n  </tbody>\n</table>\n</div>"
     },
     "metadata": {},
     "execution_count": 32
    }
   ],
   "source": [
    "name = archives[6].split(\".\")[0]\n",
    "\n",
    "df = pd.read_csv(path + name + \".csv\", encoding='utf8')\n",
    "columns = df.columns\n",
    "new_columns = [x.split()[0] for x in columns] \n",
    "df.columns = new_columns\n",
    "df.drop(columns=[\"OBSERVAÇÕES\", \"LABORATÓRIO\"], inplace=True)\n",
    "df.rename(columns={\"PORCENTAGEM\": \"PORCENTAGEM_SÓLIDOS\", \"SÓLIDOS\": \"SÓLIDOS_VOLÁTEIS\"}, inplace=True)\n",
    "df[\"ENTIDADE\"] = \"Compostagem\"\n",
    "df.head()"
   ]
  },
  {
   "cell_type": "code",
   "execution_count": 23,
   "metadata": {},
   "outputs": [
    {
     "output_type": "execute_result",
     "data": {
      "text/plain": "  ENTIDADE        DATA coliformes\n0  P1       2013-01-07  241960   \n1  P2       2013-01-07  29090    \n2  P3       2013-01-07  23590    \n3  P4       2013-01-07  198630   \n4  P5       2013-01-07  100      ",
      "text/html": "<div>\n<style scoped>\n    .dataframe tbody tr th:only-of-type {\n        vertical-align: middle;\n    }\n\n    .dataframe tbody tr th {\n        vertical-align: top;\n    }\n\n    .dataframe thead th {\n        text-align: right;\n    }\n</style>\n<table border=\"1\" class=\"dataframe\">\n  <thead>\n    <tr style=\"text-align: right;\">\n      <th></th>\n      <th>ENTIDADE</th>\n      <th>DATA</th>\n      <th>coliformes</th>\n    </tr>\n  </thead>\n  <tbody>\n    <tr>\n      <th>0</th>\n      <td>P1</td>\n      <td>2013-01-07</td>\n      <td>241960</td>\n    </tr>\n    <tr>\n      <th>1</th>\n      <td>P2</td>\n      <td>2013-01-07</td>\n      <td>29090</td>\n    </tr>\n    <tr>\n      <th>2</th>\n      <td>P3</td>\n      <td>2013-01-07</td>\n      <td>23590</td>\n    </tr>\n    <tr>\n      <th>3</th>\n      <td>P4</td>\n      <td>2013-01-07</td>\n      <td>198630</td>\n    </tr>\n    <tr>\n      <th>4</th>\n      <td>P5</td>\n      <td>2013-01-07</td>\n      <td>100</td>\n    </tr>\n  </tbody>\n</table>\n</div>"
     },
     "metadata": {},
     "execution_count": 23
    }
   ],
   "source": [
    "# transposed = df.T\n",
    "# transposed = transposed.reset_index()\n",
    "# transposed.columns = transposed.values[0]\n",
    "# transposed.rename(columns={\"DATA\": \"ENTIDADE\"}, inplace=True)\n",
    "# transposed.drop(axis=0, index=[0], inplace=True)\n",
    "# transposed = transposed.melt(id_vars=['ENTIDADE'])\n",
    "# transposed.rename(columns={\"variable\": \"DATA\", \"value\": name}, inplace=True)\n",
    "# df = transposed\n",
    "# df.head()"
   ]
  },
  {
   "cell_type": "code",
   "execution_count": 24,
   "metadata": {},
   "outputs": [
    {
     "output_type": "execute_result",
     "data": {
      "text/plain": "'./Normlogs/coliformes.ipynb'"
     },
     "metadata": {},
     "execution_count": 24
    }
   ],
   "source": [
    "df.to_csv(f\"./Normalized/{name}.csv\", encoding='utf8', index=False)\n",
    "copy2(\"explorer.ipynb\", f\"./Normlogs/{name}.ipynb\")"
   ]
  },
  {
   "cell_type": "code",
   "execution_count": null,
   "metadata": {},
   "outputs": [],
   "source": []
  }
 ]
}