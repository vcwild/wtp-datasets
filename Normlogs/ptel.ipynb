{
 "metadata": {
  "language_info": {
   "codemirror_mode": {
    "name": "ipython",
    "version": 3
   },
   "file_extension": ".py",
   "mimetype": "text/x-python",
   "name": "python",
   "nbconvert_exporter": "python",
   "pygments_lexer": "ipython3",
   "version": "3.7.7-final"
  },
  "orig_nbformat": 2,
  "kernelspec": {
   "name": "python_defaultSpec_1599226225149",
   "display_name": "Python 3.7.7 64-bit ('codenation': conda)"
  }
 },
 "nbformat": 4,
 "nbformat_minor": 2,
 "cells": [
  {
   "cell_type": "code",
   "execution_count": 1,
   "metadata": {},
   "outputs": [],
   "source": [
    "import numpy as np \n",
    "import pandas as pd \n",
    "from os import listdir\n",
    "from shutil import copy2 \n",
    "\n",
    "# Pandas setup\n",
    "pd.set_option('display.max_columns', 1000)\n",
    "pd.set_option('display.max_rows', 1000) \n",
    "pd.set_option('display.max_colwidth', -1) "
   ]
  },
  {
   "cell_type": "code",
   "execution_count": 2,
   "metadata": {},
   "outputs": [
    {
     "output_type": "execute_result",
     "data": {
      "text/plain": "['Cor_verdadeira.csv',\n 'DBO.csv',\n 'DQO.csv',\n 'acidez.csv',\n 'alcalinidade.csv',\n 'coliformes.csv',\n 'compostagem.csv',\n 'fosforo.csv',\n 'leito_de_secagem.csv',\n 'nitrogênio.csv',\n 'pH.csv',\n 'ptel.csv',\n 'surfactantes.csv',\n 'sólidos.csv',\n 'toda_consema.csv',\n 'toda_consema_2.csv',\n 'toda_consema_P7.csv',\n 'óleos.csv']"
     },
     "metadata": {},
     "execution_count": 2
    }
   ],
   "source": [
    "path = \"./Tidy/\"\n",
    "archives = sorted(listdir(path))\n",
    "archives"
   ]
  },
  {
   "cell_type": "code",
   "execution_count": 3,
   "metadata": {},
   "outputs": [
    {
     "output_type": "execute_result",
     "data": {
      "text/plain": "'ptel.csv'"
     },
     "metadata": {},
     "execution_count": 3
    }
   ],
   "source": [
    "archives[11]"
   ]
  },
  {
   "cell_type": "code",
   "execution_count": 4,
   "metadata": {},
   "outputs": [
    {
     "output_type": "execute_result",
     "data": {
      "text/plain": "   Parâmetros                 Data  Alumínio Total  Cobre Total  Cromo Total  \\\n0  ANAMB       2013-02-05 00:00:00  2.04            0.107        3.380         \n1  SANEAMB     2013-04-03 00:00:00  0.71            0.027        0.077         \n2  SANEAMB.1   2013-05-08 00:00:00  3.93            0.078        4.030         \n3  ANAMB.1     2013-07-03 00:00:00  5.59            0.138        0.234         \n4  ITT FOSSIL  2013-08-05 00:00:00  6.29            0.009        0.026         \n\n   Manganês Total  Prata Total  \n0  0.179           0.064        \n1  1.060           0.004        \n2  14.600          0.055        \n3  5.700           0.042        \n4  0.677           0.015        ",
      "text/html": "<div>\n<style scoped>\n    .dataframe tbody tr th:only-of-type {\n        vertical-align: middle;\n    }\n\n    .dataframe tbody tr th {\n        vertical-align: top;\n    }\n\n    .dataframe thead th {\n        text-align: right;\n    }\n</style>\n<table border=\"1\" class=\"dataframe\">\n  <thead>\n    <tr style=\"text-align: right;\">\n      <th></th>\n      <th>Parâmetros</th>\n      <th>Data</th>\n      <th>Alumínio Total</th>\n      <th>Cobre Total</th>\n      <th>Cromo Total</th>\n      <th>Manganês Total</th>\n      <th>Prata Total</th>\n    </tr>\n  </thead>\n  <tbody>\n    <tr>\n      <th>0</th>\n      <td>ANAMB</td>\n      <td>2013-02-05 00:00:00</td>\n      <td>2.04</td>\n      <td>0.107</td>\n      <td>3.380</td>\n      <td>0.179</td>\n      <td>0.064</td>\n    </tr>\n    <tr>\n      <th>1</th>\n      <td>SANEAMB</td>\n      <td>2013-04-03 00:00:00</td>\n      <td>0.71</td>\n      <td>0.027</td>\n      <td>0.077</td>\n      <td>1.060</td>\n      <td>0.004</td>\n    </tr>\n    <tr>\n      <th>2</th>\n      <td>SANEAMB.1</td>\n      <td>2013-05-08 00:00:00</td>\n      <td>3.93</td>\n      <td>0.078</td>\n      <td>4.030</td>\n      <td>14.600</td>\n      <td>0.055</td>\n    </tr>\n    <tr>\n      <th>3</th>\n      <td>ANAMB.1</td>\n      <td>2013-07-03 00:00:00</td>\n      <td>5.59</td>\n      <td>0.138</td>\n      <td>0.234</td>\n      <td>5.700</td>\n      <td>0.042</td>\n    </tr>\n    <tr>\n      <th>4</th>\n      <td>ITT FOSSIL</td>\n      <td>2013-08-05 00:00:00</td>\n      <td>6.29</td>\n      <td>0.009</td>\n      <td>0.026</td>\n      <td>0.677</td>\n      <td>0.015</td>\n    </tr>\n  </tbody>\n</table>\n</div>"
     },
     "metadata": {},
     "execution_count": 4
    }
   ],
   "source": [
    "name = archives[11].split(\".\")[0]\n",
    "\n",
    "df = pd.read_csv(path + name + \".csv\", encoding='utf8')\n",
    "df.head()"
   ]
  },
  {
   "cell_type": "code",
   "execution_count": 5,
   "metadata": {},
   "outputs": [
    {
     "output_type": "execute_result",
     "data": {
      "text/plain": "   PARÂMETROS                 DATA  ALUMÍNIO  COBRE  CROMO  MANGANÊS  PRATA\n0  ANAMB       2013-02-05 00:00:00  2.04      0.107  3.380  0.179     0.064\n1  SANEAMB     2013-04-03 00:00:00  0.71      0.027  0.077  1.060     0.004\n2  SANEAMB.1   2013-05-08 00:00:00  3.93      0.078  4.030  14.600    0.055\n3  ANAMB.1     2013-07-03 00:00:00  5.59      0.138  0.234  5.700     0.042\n4  ITT FOSSIL  2013-08-05 00:00:00  6.29      0.009  0.026  0.677     0.015",
      "text/html": "<div>\n<style scoped>\n    .dataframe tbody tr th:only-of-type {\n        vertical-align: middle;\n    }\n\n    .dataframe tbody tr th {\n        vertical-align: top;\n    }\n\n    .dataframe thead th {\n        text-align: right;\n    }\n</style>\n<table border=\"1\" class=\"dataframe\">\n  <thead>\n    <tr style=\"text-align: right;\">\n      <th></th>\n      <th>PARÂMETROS</th>\n      <th>DATA</th>\n      <th>ALUMÍNIO</th>\n      <th>COBRE</th>\n      <th>CROMO</th>\n      <th>MANGANÊS</th>\n      <th>PRATA</th>\n    </tr>\n  </thead>\n  <tbody>\n    <tr>\n      <th>0</th>\n      <td>ANAMB</td>\n      <td>2013-02-05 00:00:00</td>\n      <td>2.04</td>\n      <td>0.107</td>\n      <td>3.380</td>\n      <td>0.179</td>\n      <td>0.064</td>\n    </tr>\n    <tr>\n      <th>1</th>\n      <td>SANEAMB</td>\n      <td>2013-04-03 00:00:00</td>\n      <td>0.71</td>\n      <td>0.027</td>\n      <td>0.077</td>\n      <td>1.060</td>\n      <td>0.004</td>\n    </tr>\n    <tr>\n      <th>2</th>\n      <td>SANEAMB.1</td>\n      <td>2013-05-08 00:00:00</td>\n      <td>3.93</td>\n      <td>0.078</td>\n      <td>4.030</td>\n      <td>14.600</td>\n      <td>0.055</td>\n    </tr>\n    <tr>\n      <th>3</th>\n      <td>ANAMB.1</td>\n      <td>2013-07-03 00:00:00</td>\n      <td>5.59</td>\n      <td>0.138</td>\n      <td>0.234</td>\n      <td>5.700</td>\n      <td>0.042</td>\n    </tr>\n    <tr>\n      <th>4</th>\n      <td>ITT FOSSIL</td>\n      <td>2013-08-05 00:00:00</td>\n      <td>6.29</td>\n      <td>0.009</td>\n      <td>0.026</td>\n      <td>0.677</td>\n      <td>0.015</td>\n    </tr>\n  </tbody>\n</table>\n</div>"
     },
     "metadata": {},
     "execution_count": 5
    }
   ],
   "source": [
    "# df.drop(columns=[\"P1 - Média mês\", \"P2/P6 - Média mês\"], inplace=True)\n",
    "columns = df.columns\n",
    "new_columns = [x.split()[0] for x in columns] \n",
    "df.columns = new_columns\n",
    "# df.drop(columns=[\"OBSERVAÇÕES\", \"LAB.\"], inplace=True)\n",
    "# df.rename(columns={\"PORCENTAGEM\": \"PORCENTAGEM_SÓLIDOS\", \"SÓLIDOS\": \"SÓLIDOS_VOLÁTEIS\"}, inplace=True)\n",
    "df.rename(columns={\"Parâmetros\": \"ENTIDADE\"}, inplace=True)\n",
    "df.columns = [x.upper() for x in new_columns]\n",
    "# df[\"ENTIDADE\"] = name\n",
    "df.head()"
   ]
  },
  {
   "cell_type": "code",
   "execution_count": 48,
   "metadata": {},
   "outputs": [
    {
     "output_type": "execute_result",
     "data": {
      "text/plain": "  ENTIDADE        DATA   pH\n0  P1       2013-01-09  6.1\n1  Pb       2013-01-09  6.5\n2  Pc       2013-01-09  6.7\n3  Pd       2013-01-09  6.8\n4  P2       2013-01-09  6.9",
      "text/html": "<div>\n<style scoped>\n    .dataframe tbody tr th:only-of-type {\n        vertical-align: middle;\n    }\n\n    .dataframe tbody tr th {\n        vertical-align: top;\n    }\n\n    .dataframe thead th {\n        text-align: right;\n    }\n</style>\n<table border=\"1\" class=\"dataframe\">\n  <thead>\n    <tr style=\"text-align: right;\">\n      <th></th>\n      <th>ENTIDADE</th>\n      <th>DATA</th>\n      <th>pH</th>\n    </tr>\n  </thead>\n  <tbody>\n    <tr>\n      <th>0</th>\n      <td>P1</td>\n      <td>2013-01-09</td>\n      <td>6.1</td>\n    </tr>\n    <tr>\n      <th>1</th>\n      <td>Pb</td>\n      <td>2013-01-09</td>\n      <td>6.5</td>\n    </tr>\n    <tr>\n      <th>2</th>\n      <td>Pc</td>\n      <td>2013-01-09</td>\n      <td>6.7</td>\n    </tr>\n    <tr>\n      <th>3</th>\n      <td>Pd</td>\n      <td>2013-01-09</td>\n      <td>6.8</td>\n    </tr>\n    <tr>\n      <th>4</th>\n      <td>P2</td>\n      <td>2013-01-09</td>\n      <td>6.9</td>\n    </tr>\n  </tbody>\n</table>\n</div>"
     },
     "metadata": {},
     "execution_count": 48
    }
   ],
   "source": [
    "# transposed = df.T\n",
    "# transposed = transposed.reset_index()\n",
    "# transposed.columns = transposed.values[0]\n",
    "# transposed.rename(columns={\"DATAS\": \"ENTIDADE\"}, inplace=True)\n",
    "# transposed.drop(axis=0, index=[0], inplace=True)\n",
    "# transposed = transposed.melt(id_vars=['ENTIDADE'])\n",
    "# transposed.rename(columns={\"variable\": \"DATA\", \"value\": name}, inplace=True)\n",
    "# df = transposed\n",
    "# df.head()"
   ]
  },
  {
   "cell_type": "code",
   "execution_count": 49,
   "metadata": {},
   "outputs": [
    {
     "output_type": "execute_result",
     "data": {
      "text/plain": "'./Normlogs/pH.ipynb'"
     },
     "metadata": {},
     "execution_count": 49
    }
   ],
   "source": [
    "df.to_csv(f\"./Normalized/{name}.csv\", encoding='utf8', index=False)\n",
    "copy2(\"explorer.ipynb\", f\"./Normlogs/{name}.ipynb\")"
   ]
  },
  {
   "cell_type": "code",
   "execution_count": null,
   "metadata": {},
   "outputs": [],
   "source": []
  }
 ]
}