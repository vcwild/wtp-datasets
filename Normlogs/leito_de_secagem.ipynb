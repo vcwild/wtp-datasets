{
 "metadata": {
  "language_info": {
   "codemirror_mode": {
    "name": "ipython",
    "version": 3
   },
   "file_extension": ".py",
   "mimetype": "text/x-python",
   "name": "python",
   "nbconvert_exporter": "python",
   "pygments_lexer": "ipython3",
   "version": "3.7.7-final"
  },
  "orig_nbformat": 2,
  "kernelspec": {
   "name": "python_defaultSpec_1599226225149",
   "display_name": "Python 3.7.7 64-bit ('codenation': conda)"
  }
 },
 "nbformat": 4,
 "nbformat_minor": 2,
 "cells": [
  {
   "cell_type": "code",
   "execution_count": 2,
   "metadata": {},
   "outputs": [],
   "source": [
    "import numpy as np \n",
    "import pandas as pd \n",
    "from os import listdir\n",
    "from shutil import copy2 \n",
    "\n",
    "# Pandas setup\n",
    "pd.set_option('display.max_columns', 1000)\n",
    "pd.set_option('display.max_rows', 1000) \n",
    "pd.set_option('display.max_colwidth', -1) "
   ]
  },
  {
   "cell_type": "code",
   "execution_count": 3,
   "metadata": {},
   "outputs": [
    {
     "output_type": "execute_result",
     "data": {
      "text/plain": "['Cor_verdadeira.csv',\n 'DBO.csv',\n 'DQO.csv',\n 'acidez.csv',\n 'alcalinidade.csv',\n 'coliformes.csv',\n 'compostagem.csv',\n 'fosforo.csv',\n 'leito_de_secagem.csv',\n 'nitrogênio.csv',\n 'pH.csv',\n 'ptel.csv',\n 'surfactantes.csv',\n 'sólidos.csv',\n 'toda_consema.csv',\n 'toda_consema_2.csv',\n 'toda_consema_P7.csv',\n 'óleos.csv']"
     },
     "metadata": {},
     "execution_count": 3
    }
   ],
   "source": [
    "path = \"./Tidy/\"\n",
    "archives = sorted(listdir(path))\n",
    "archives"
   ]
  },
  {
   "cell_type": "code",
   "execution_count": 18,
   "metadata": {},
   "outputs": [
    {
     "output_type": "execute_result",
     "data": {
      "text/plain": "'leito_de_secagem.csv'"
     },
     "metadata": {},
     "execution_count": 18
    }
   ],
   "source": [
    "archives[8]"
   ]
  },
  {
   "cell_type": "code",
   "execution_count": 20,
   "metadata": {},
   "outputs": [
    {
     "output_type": "execute_result",
     "data": {
      "text/plain": "  DATA DA COLETA  UMIDADE % p/p  ALUMÍNIO (mg/kg)  COBRE (mg/kg)  \\\n0  2013-02-05     22.7           16994.0           249.0           \n1  2013-05-07     71.2           2109.0            39.4            \n2  2013-08-06     74.8           8759.0            230.0           \n3  2013-11-05     76.3           1176.0            5104.0          \n4  2014-02-05     63.8           1945.0            32.1            \n\n   CROMO (mg/kg)  MANGANÊS (mg/kg)  NÍQUEL (mg/kg) LABORATÓRIO ALAC  \\\n0  0.10           44.20             17.20           x                 \n1  9.44           62.10             7.42            x                 \n2  35.80          138.00            75.70           x                 \n3  3.04           4.91              22.40           x                 \n4  11.70          16.00             5.04            x                 \n\n  OBSERVAÇÕES  PORCENTAGEM DE SÓLIDOS % p/p  SÓLIDOS VOLÁTEIS % p/p  \\\n0  NaN        NaN                           NaN                       \n1  NaN        NaN                           NaN                       \n2  NaN        NaN                           NaN                       \n3  NaN        NaN                           NaN                       \n4  NaN        NaN                           NaN                       \n\n  LABORATÓRIO BIOAGRI  COMPOSTOS ORGÂNICOS VOLÁTEIS  (µg/kg)  \n0  NaN                NaN                                     \n1  NaN                NaN                                     \n2  NaN                NaN                                     \n3  NaN                NaN                                     \n4  NaN                NaN                                     ",
      "text/html": "<div>\n<style scoped>\n    .dataframe tbody tr th:only-of-type {\n        vertical-align: middle;\n    }\n\n    .dataframe tbody tr th {\n        vertical-align: top;\n    }\n\n    .dataframe thead th {\n        text-align: right;\n    }\n</style>\n<table border=\"1\" class=\"dataframe\">\n  <thead>\n    <tr style=\"text-align: right;\">\n      <th></th>\n      <th>DATA DA COLETA</th>\n      <th>UMIDADE % p/p</th>\n      <th>ALUMÍNIO (mg/kg)</th>\n      <th>COBRE (mg/kg)</th>\n      <th>CROMO (mg/kg)</th>\n      <th>MANGANÊS (mg/kg)</th>\n      <th>NÍQUEL (mg/kg)</th>\n      <th>LABORATÓRIO ALAC</th>\n      <th>OBSERVAÇÕES</th>\n      <th>PORCENTAGEM DE SÓLIDOS % p/p</th>\n      <th>SÓLIDOS VOLÁTEIS % p/p</th>\n      <th>LABORATÓRIO BIOAGRI</th>\n      <th>COMPOSTOS ORGÂNICOS VOLÁTEIS  (µg/kg)</th>\n    </tr>\n  </thead>\n  <tbody>\n    <tr>\n      <th>0</th>\n      <td>2013-02-05</td>\n      <td>22.7</td>\n      <td>16994.0</td>\n      <td>249.0</td>\n      <td>0.10</td>\n      <td>44.20</td>\n      <td>17.20</td>\n      <td>x</td>\n      <td>NaN</td>\n      <td>NaN</td>\n      <td>NaN</td>\n      <td>NaN</td>\n      <td>NaN</td>\n    </tr>\n    <tr>\n      <th>1</th>\n      <td>2013-05-07</td>\n      <td>71.2</td>\n      <td>2109.0</td>\n      <td>39.4</td>\n      <td>9.44</td>\n      <td>62.10</td>\n      <td>7.42</td>\n      <td>x</td>\n      <td>NaN</td>\n      <td>NaN</td>\n      <td>NaN</td>\n      <td>NaN</td>\n      <td>NaN</td>\n    </tr>\n    <tr>\n      <th>2</th>\n      <td>2013-08-06</td>\n      <td>74.8</td>\n      <td>8759.0</td>\n      <td>230.0</td>\n      <td>35.80</td>\n      <td>138.00</td>\n      <td>75.70</td>\n      <td>x</td>\n      <td>NaN</td>\n      <td>NaN</td>\n      <td>NaN</td>\n      <td>NaN</td>\n      <td>NaN</td>\n    </tr>\n    <tr>\n      <th>3</th>\n      <td>2013-11-05</td>\n      <td>76.3</td>\n      <td>1176.0</td>\n      <td>5104.0</td>\n      <td>3.04</td>\n      <td>4.91</td>\n      <td>22.40</td>\n      <td>x</td>\n      <td>NaN</td>\n      <td>NaN</td>\n      <td>NaN</td>\n      <td>NaN</td>\n      <td>NaN</td>\n    </tr>\n    <tr>\n      <th>4</th>\n      <td>2014-02-05</td>\n      <td>63.8</td>\n      <td>1945.0</td>\n      <td>32.1</td>\n      <td>11.70</td>\n      <td>16.00</td>\n      <td>5.04</td>\n      <td>x</td>\n      <td>NaN</td>\n      <td>NaN</td>\n      <td>NaN</td>\n      <td>NaN</td>\n      <td>NaN</td>\n    </tr>\n  </tbody>\n</table>\n</div>"
     },
     "metadata": {},
     "execution_count": 20
    }
   ],
   "source": [
    "name = archives[8].split(\".\")[0]\n",
    "\n",
    "df = pd.read_csv(path + name + \".csv\", encoding='utf8')\n",
    "df.head()"
   ]
  },
  {
   "cell_type": "code",
   "execution_count": 21,
   "metadata": {},
   "outputs": [
    {
     "output_type": "execute_result",
     "data": {
      "text/plain": "         DATA  UMIDADE  ALUMÍNIO   COBRE  CROMO  MANGANÊS  NÍQUEL  \\\n0  2013-02-05  22.7     16994.0   249.0   0.10   44.20     17.20    \n1  2013-05-07  71.2     2109.0    39.4    9.44   62.10     7.42     \n2  2013-08-06  74.8     8759.0    230.0   35.80  138.00    75.70    \n3  2013-11-05  76.3     1176.0    5104.0  3.04   4.91      22.40    \n4  2014-02-05  63.8     1945.0    32.1    11.70  16.00     5.04     \n\n   PORCENTAGEM_SÓLIDOS  SÓLIDOS_VOLÁTEIS  COMPOSTOS          ENTIDADE  \n0 NaN                  NaN               NaN         leito_de_secagem  \n1 NaN                  NaN               NaN         leito_de_secagem  \n2 NaN                  NaN               NaN         leito_de_secagem  \n3 NaN                  NaN               NaN         leito_de_secagem  \n4 NaN                  NaN               NaN         leito_de_secagem  ",
      "text/html": "<div>\n<style scoped>\n    .dataframe tbody tr th:only-of-type {\n        vertical-align: middle;\n    }\n\n    .dataframe tbody tr th {\n        vertical-align: top;\n    }\n\n    .dataframe thead th {\n        text-align: right;\n    }\n</style>\n<table border=\"1\" class=\"dataframe\">\n  <thead>\n    <tr style=\"text-align: right;\">\n      <th></th>\n      <th>DATA</th>\n      <th>UMIDADE</th>\n      <th>ALUMÍNIO</th>\n      <th>COBRE</th>\n      <th>CROMO</th>\n      <th>MANGANÊS</th>\n      <th>NÍQUEL</th>\n      <th>PORCENTAGEM_SÓLIDOS</th>\n      <th>SÓLIDOS_VOLÁTEIS</th>\n      <th>COMPOSTOS</th>\n      <th>ENTIDADE</th>\n    </tr>\n  </thead>\n  <tbody>\n    <tr>\n      <th>0</th>\n      <td>2013-02-05</td>\n      <td>22.7</td>\n      <td>16994.0</td>\n      <td>249.0</td>\n      <td>0.10</td>\n      <td>44.20</td>\n      <td>17.20</td>\n      <td>NaN</td>\n      <td>NaN</td>\n      <td>NaN</td>\n      <td>leito_de_secagem</td>\n    </tr>\n    <tr>\n      <th>1</th>\n      <td>2013-05-07</td>\n      <td>71.2</td>\n      <td>2109.0</td>\n      <td>39.4</td>\n      <td>9.44</td>\n      <td>62.10</td>\n      <td>7.42</td>\n      <td>NaN</td>\n      <td>NaN</td>\n      <td>NaN</td>\n      <td>leito_de_secagem</td>\n    </tr>\n    <tr>\n      <th>2</th>\n      <td>2013-08-06</td>\n      <td>74.8</td>\n      <td>8759.0</td>\n      <td>230.0</td>\n      <td>35.80</td>\n      <td>138.00</td>\n      <td>75.70</td>\n      <td>NaN</td>\n      <td>NaN</td>\n      <td>NaN</td>\n      <td>leito_de_secagem</td>\n    </tr>\n    <tr>\n      <th>3</th>\n      <td>2013-11-05</td>\n      <td>76.3</td>\n      <td>1176.0</td>\n      <td>5104.0</td>\n      <td>3.04</td>\n      <td>4.91</td>\n      <td>22.40</td>\n      <td>NaN</td>\n      <td>NaN</td>\n      <td>NaN</td>\n      <td>leito_de_secagem</td>\n    </tr>\n    <tr>\n      <th>4</th>\n      <td>2014-02-05</td>\n      <td>63.8</td>\n      <td>1945.0</td>\n      <td>32.1</td>\n      <td>11.70</td>\n      <td>16.00</td>\n      <td>5.04</td>\n      <td>NaN</td>\n      <td>NaN</td>\n      <td>NaN</td>\n      <td>leito_de_secagem</td>\n    </tr>\n  </tbody>\n</table>\n</div>"
     },
     "metadata": {},
     "execution_count": 21
    }
   ],
   "source": [
    "columns = df.columns\n",
    "new_columns = [x.split()[0] for x in columns] \n",
    "df.columns = new_columns\n",
    "df.drop(columns=[\"OBSERVAÇÕES\", \"LABORATÓRIO\"], inplace=True)\n",
    "df.rename(columns={\"PORCENTAGEM\": \"PORCENTAGEM_SÓLIDOS\", \"SÓLIDOS\": \"SÓLIDOS_VOLÁTEIS\"}, inplace=True)\n",
    "df[\"ENTIDADE\"] = name\n",
    "df.head()"
   ]
  },
  {
   "cell_type": "code",
   "execution_count": 12,
   "metadata": {},
   "outputs": [
    {
     "output_type": "execute_result",
     "data": {
      "text/plain": "  ENTIDADE        DATA fosforo\n0  P1       2013-01-22  1     \n1  P2       2013-01-22  3.1   \n2  P7       2013-01-22  NaN   \n3  P1       2013-02-05  1.7   \n4  P2       2013-02-05  2.6   ",
      "text/html": "<div>\n<style scoped>\n    .dataframe tbody tr th:only-of-type {\n        vertical-align: middle;\n    }\n\n    .dataframe tbody tr th {\n        vertical-align: top;\n    }\n\n    .dataframe thead th {\n        text-align: right;\n    }\n</style>\n<table border=\"1\" class=\"dataframe\">\n  <thead>\n    <tr style=\"text-align: right;\">\n      <th></th>\n      <th>ENTIDADE</th>\n      <th>DATA</th>\n      <th>fosforo</th>\n    </tr>\n  </thead>\n  <tbody>\n    <tr>\n      <th>0</th>\n      <td>P1</td>\n      <td>2013-01-22</td>\n      <td>1</td>\n    </tr>\n    <tr>\n      <th>1</th>\n      <td>P2</td>\n      <td>2013-01-22</td>\n      <td>3.1</td>\n    </tr>\n    <tr>\n      <th>2</th>\n      <td>P7</td>\n      <td>2013-01-22</td>\n      <td>NaN</td>\n    </tr>\n    <tr>\n      <th>3</th>\n      <td>P1</td>\n      <td>2013-02-05</td>\n      <td>1.7</td>\n    </tr>\n    <tr>\n      <th>4</th>\n      <td>P2</td>\n      <td>2013-02-05</td>\n      <td>2.6</td>\n    </tr>\n  </tbody>\n</table>\n</div>"
     },
     "metadata": {},
     "execution_count": 12
    }
   ],
   "source": [
    "# transposed = df.T\n",
    "# transposed = transposed.reset_index()\n",
    "# transposed.columns = transposed.values[0]\n",
    "# transposed.rename(columns={\"DATA\": \"ENTIDADE\"}, inplace=True)\n",
    "# transposed.drop(axis=0, index=[0], inplace=True)\n",
    "# transposed = transposed.melt(id_vars=['ENTIDADE'])\n",
    "# transposed.rename(columns={\"variable\": \"DATA\", \"value\": name}, inplace=True)\n",
    "# df = transposed\n",
    "# df.head()"
   ]
  },
  {
   "cell_type": "code",
   "execution_count": 13,
   "metadata": {},
   "outputs": [
    {
     "output_type": "execute_result",
     "data": {
      "text/plain": "'./Normlogs/fosforo.ipynb'"
     },
     "metadata": {},
     "execution_count": 13
    }
   ],
   "source": [
    "df.to_csv(f\"./Normalized/{name}.csv\", encoding='utf8', index=False)\n",
    "copy2(\"explorer.ipynb\", f\"./Normlogs/{name}.ipynb\")"
   ]
  },
  {
   "cell_type": "code",
   "execution_count": null,
   "metadata": {},
   "outputs": [],
   "source": []
  }
 ]
}