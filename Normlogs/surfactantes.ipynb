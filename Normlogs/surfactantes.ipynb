{
 "metadata": {
  "language_info": {
   "codemirror_mode": {
    "name": "ipython",
    "version": 3
   },
   "file_extension": ".py",
   "mimetype": "text/x-python",
   "name": "python",
   "nbconvert_exporter": "python",
   "pygments_lexer": "ipython3",
   "version": "3.7.7-final"
  },
  "orig_nbformat": 2,
  "kernelspec": {
   "name": "python_defaultSpec_1599226225149",
   "display_name": "Python 3.7.7 64-bit ('codenation': conda)"
  }
 },
 "nbformat": 4,
 "nbformat_minor": 2,
 "cells": [
  {
   "cell_type": "code",
   "execution_count": 1,
   "metadata": {},
   "outputs": [],
   "source": [
    "import numpy as np \n",
    "import pandas as pd \n",
    "from os import listdir\n",
    "from shutil import copy2 \n",
    "\n",
    "# Pandas setup\n",
    "pd.set_option('display.max_columns', 1000)\n",
    "pd.set_option('display.max_rows', 1000) \n",
    "pd.set_option('display.max_colwidth', -1) "
   ]
  },
  {
   "cell_type": "code",
   "execution_count": 2,
   "metadata": {},
   "outputs": [
    {
     "output_type": "execute_result",
     "data": {
      "text/plain": "['Cor_verdadeira.csv',\n 'DBO.csv',\n 'DQO.csv',\n 'acidez.csv',\n 'alcalinidade.csv',\n 'coliformes.csv',\n 'compostagem.csv',\n 'fosforo.csv',\n 'leito_de_secagem.csv',\n 'nitrogênio.csv',\n 'pH.csv',\n 'ptel.csv',\n 'surfactantes.csv',\n 'sólidos.csv',\n 'toda_consema.csv',\n 'toda_consema_2.csv',\n 'toda_consema_P7.csv',\n 'óleos.csv']"
     },
     "metadata": {},
     "execution_count": 2
    }
   ],
   "source": [
    "path = \"./Tidy/\"\n",
    "archives = sorted(listdir(path))\n",
    "archives"
   ]
  },
  {
   "cell_type": "code",
   "execution_count": 7,
   "metadata": {},
   "outputs": [
    {
     "output_type": "execute_result",
     "data": {
      "text/plain": "'surfactantes.csv'"
     },
     "metadata": {},
     "execution_count": 7
    }
   ],
   "source": [
    "archives[12]"
   ]
  },
  {
   "cell_type": "code",
   "execution_count": 14,
   "metadata": {},
   "outputs": [
    {
     "output_type": "execute_result",
     "data": {
      "text/plain": "  DATA DA COLETA  P1 - Entrada ETE  P2 / P6 - Saída da ETE ANAL. AMB.  \\\n0  2013-01-22     1.21              0.21                    x           \n1  2013-02-05     0.70              0.31                    x           \n2  2013-03-12     1.17              0.37                    x           \n3  2013-04-09    NaN               NaN                      x           \n4  2013-05-14     1.80              0.49                    x           \n\n                                                                                                                                                                                                                              OBSERVAÇÕES  \\\n0  NaN                                                                                                                                                                                                                                      \n1  NaN                                                                                                                                                                                                                                      \n2  NaN                                                                                                                                                                                                                                      \n3  Neste mês foi solicitado pela Prof. Luciana Gomes (CO) análises extras para Nitrogênio Amoniacal. pH e Alcalinidade Total então devido a grande demanda de análises que a laboratorista realiza não houve análise para este parâmetro.   \n4  NaN                                                                                                                                                                                                                                      \n\n   P7 - Rede Pluvial Portão A  \n0 NaN                          \n1 NaN                          \n2 NaN                          \n3 NaN                          \n4 NaN                          ",
      "text/html": "<div>\n<style scoped>\n    .dataframe tbody tr th:only-of-type {\n        vertical-align: middle;\n    }\n\n    .dataframe tbody tr th {\n        vertical-align: top;\n    }\n\n    .dataframe thead th {\n        text-align: right;\n    }\n</style>\n<table border=\"1\" class=\"dataframe\">\n  <thead>\n    <tr style=\"text-align: right;\">\n      <th></th>\n      <th>DATA DA COLETA</th>\n      <th>P1 - Entrada ETE</th>\n      <th>P2 / P6 - Saída da ETE</th>\n      <th>ANAL. AMB.</th>\n      <th>OBSERVAÇÕES</th>\n      <th>P7 - Rede Pluvial Portão A</th>\n    </tr>\n  </thead>\n  <tbody>\n    <tr>\n      <th>0</th>\n      <td>2013-01-22</td>\n      <td>1.21</td>\n      <td>0.21</td>\n      <td>x</td>\n      <td>NaN</td>\n      <td>NaN</td>\n    </tr>\n    <tr>\n      <th>1</th>\n      <td>2013-02-05</td>\n      <td>0.70</td>\n      <td>0.31</td>\n      <td>x</td>\n      <td>NaN</td>\n      <td>NaN</td>\n    </tr>\n    <tr>\n      <th>2</th>\n      <td>2013-03-12</td>\n      <td>1.17</td>\n      <td>0.37</td>\n      <td>x</td>\n      <td>NaN</td>\n      <td>NaN</td>\n    </tr>\n    <tr>\n      <th>3</th>\n      <td>2013-04-09</td>\n      <td>NaN</td>\n      <td>NaN</td>\n      <td>x</td>\n      <td>Neste mês foi solicitado pela Prof. Luciana Gomes (CO) análises extras para Nitrogênio Amoniacal. pH e Alcalinidade Total então devido a grande demanda de análises que a laboratorista realiza não houve análise para este parâmetro.</td>\n      <td>NaN</td>\n    </tr>\n    <tr>\n      <th>4</th>\n      <td>2013-05-14</td>\n      <td>1.80</td>\n      <td>0.49</td>\n      <td>x</td>\n      <td>NaN</td>\n      <td>NaN</td>\n    </tr>\n  </tbody>\n</table>\n</div>"
     },
     "metadata": {},
     "execution_count": 14
    }
   ],
   "source": [
    "name = archives[12].split(\".\")[0]\n",
    "\n",
    "df = pd.read_csv(path + name + \".csv\", encoding='utf8')\n",
    "df.head()"
   ]
  },
  {
   "cell_type": "code",
   "execution_count": 15,
   "metadata": {},
   "outputs": [
    {
     "output_type": "execute_result",
     "data": {
      "text/plain": "         DATA    P1    P2  P7\n0  2013-01-22  1.21  0.21 NaN\n1  2013-02-05  0.70  0.31 NaN\n2  2013-03-12  1.17  0.37 NaN\n3  2013-04-09 NaN   NaN   NaN\n4  2013-05-14  1.80  0.49 NaN",
      "text/html": "<div>\n<style scoped>\n    .dataframe tbody tr th:only-of-type {\n        vertical-align: middle;\n    }\n\n    .dataframe tbody tr th {\n        vertical-align: top;\n    }\n\n    .dataframe thead th {\n        text-align: right;\n    }\n</style>\n<table border=\"1\" class=\"dataframe\">\n  <thead>\n    <tr style=\"text-align: right;\">\n      <th></th>\n      <th>DATA</th>\n      <th>P1</th>\n      <th>P2</th>\n      <th>P7</th>\n    </tr>\n  </thead>\n  <tbody>\n    <tr>\n      <th>0</th>\n      <td>2013-01-22</td>\n      <td>1.21</td>\n      <td>0.21</td>\n      <td>NaN</td>\n    </tr>\n    <tr>\n      <th>1</th>\n      <td>2013-02-05</td>\n      <td>0.70</td>\n      <td>0.31</td>\n      <td>NaN</td>\n    </tr>\n    <tr>\n      <th>2</th>\n      <td>2013-03-12</td>\n      <td>1.17</td>\n      <td>0.37</td>\n      <td>NaN</td>\n    </tr>\n    <tr>\n      <th>3</th>\n      <td>2013-04-09</td>\n      <td>NaN</td>\n      <td>NaN</td>\n      <td>NaN</td>\n    </tr>\n    <tr>\n      <th>4</th>\n      <td>2013-05-14</td>\n      <td>1.80</td>\n      <td>0.49</td>\n      <td>NaN</td>\n    </tr>\n  </tbody>\n</table>\n</div>"
     },
     "metadata": {},
     "execution_count": 15
    }
   ],
   "source": [
    "# df.drop(columns=[\"P1 - Média mês\", \"P2/P6 - Média mês\"], inplace=True)\n",
    "columns = df.columns\n",
    "new_columns = [x.split()[0] for x in columns] \n",
    "df.columns = new_columns\n",
    "df.drop(columns=[\"OBSERVAÇÕES\", \"ANAL.\"], inplace=True)\n",
    "# df.rename(columns={\"PORCENTAGEM\": \"PORCENTAGEM_SÓLIDOS\", \"SÓLIDOS\": \"SÓLIDOS_VOLÁTEIS\"}, inplace=True)\n",
    "# df.rename(columns={\"Parâmetros\": \"ENTIDADE\"}, inplace=True)\n",
    "# df.columns = [x.upper() for x in new_columns]\n",
    "# df[\"ENTIDADE\"] = name\n",
    "df.head()"
   ]
  },
  {
   "cell_type": "code",
   "execution_count": 16,
   "metadata": {},
   "outputs": [
    {
     "output_type": "execute_result",
     "data": {
      "text/plain": "  ENTIDADE        DATA surfactantes\n0  P1       2013-01-22  1.21       \n1  P2       2013-01-22  0.21       \n2  P7       2013-01-22  NaN        \n3  P1       2013-02-05  0.7        \n4  P2       2013-02-05  0.31       ",
      "text/html": "<div>\n<style scoped>\n    .dataframe tbody tr th:only-of-type {\n        vertical-align: middle;\n    }\n\n    .dataframe tbody tr th {\n        vertical-align: top;\n    }\n\n    .dataframe thead th {\n        text-align: right;\n    }\n</style>\n<table border=\"1\" class=\"dataframe\">\n  <thead>\n    <tr style=\"text-align: right;\">\n      <th></th>\n      <th>ENTIDADE</th>\n      <th>DATA</th>\n      <th>surfactantes</th>\n    </tr>\n  </thead>\n  <tbody>\n    <tr>\n      <th>0</th>\n      <td>P1</td>\n      <td>2013-01-22</td>\n      <td>1.21</td>\n    </tr>\n    <tr>\n      <th>1</th>\n      <td>P2</td>\n      <td>2013-01-22</td>\n      <td>0.21</td>\n    </tr>\n    <tr>\n      <th>2</th>\n      <td>P7</td>\n      <td>2013-01-22</td>\n      <td>NaN</td>\n    </tr>\n    <tr>\n      <th>3</th>\n      <td>P1</td>\n      <td>2013-02-05</td>\n      <td>0.7</td>\n    </tr>\n    <tr>\n      <th>4</th>\n      <td>P2</td>\n      <td>2013-02-05</td>\n      <td>0.31</td>\n    </tr>\n  </tbody>\n</table>\n</div>"
     },
     "metadata": {},
     "execution_count": 16
    }
   ],
   "source": [
    "transposed = df.T\n",
    "transposed = transposed.reset_index()\n",
    "transposed.columns = transposed.values[0]\n",
    "transposed.rename(columns={\"DATA\": \"ENTIDADE\"}, inplace=True)\n",
    "transposed.drop(axis=0, index=[0], inplace=True)\n",
    "transposed = transposed.melt(id_vars=['ENTIDADE'])\n",
    "transposed.rename(columns={\"variable\": \"DATA\", \"value\": name}, inplace=True)\n",
    "df = transposed\n",
    "df.head()"
   ]
  },
  {
   "cell_type": "code",
   "execution_count": 6,
   "metadata": {},
   "outputs": [
    {
     "output_type": "execute_result",
     "data": {
      "text/plain": "'./Normlogs/ptel.ipynb'"
     },
     "metadata": {},
     "execution_count": 6
    }
   ],
   "source": [
    "df.to_csv(f\"./Normalized/{name}.csv\", encoding='utf8', index=False)\n",
    "copy2(\"explorer.ipynb\", f\"./Normlogs/{name}.ipynb\")"
   ]
  },
  {
   "cell_type": "code",
   "execution_count": null,
   "metadata": {},
   "outputs": [],
   "source": []
  }
 ]
}