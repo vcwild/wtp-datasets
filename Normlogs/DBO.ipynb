{
 "metadata": {
  "language_info": {
   "codemirror_mode": {
    "name": "ipython",
    "version": 3
   },
   "file_extension": ".py",
   "mimetype": "text/x-python",
   "name": "python",
   "nbconvert_exporter": "python",
   "pygments_lexer": "ipython3",
   "version": "3.7.7-final"
  },
  "orig_nbformat": 2,
  "kernelspec": {
   "name": "python_defaultSpec_1599135168438",
   "display_name": "Python 3.7.7 64-bit ('codenation': conda)"
  }
 },
 "nbformat": 4,
 "nbformat_minor": 2,
 "cells": [
  {
   "cell_type": "code",
   "execution_count": 1,
   "metadata": {},
   "outputs": [],
   "source": [
    "import numpy as np \n",
    "import pandas as pd \n",
    "from os import listdir\n",
    "from shutil import copy2 \n",
    "\n",
    "# Pandas setup\n",
    "pd.set_option('display.max_columns', 1000)\n",
    "pd.set_option('display.max_rows', 1000) \n",
    "pd.set_option('display.max_colwidth', -1) "
   ]
  },
  {
   "cell_type": "code",
   "execution_count": 2,
   "metadata": {},
   "outputs": [
    {
     "output_type": "execute_result",
     "data": {
      "text/plain": "['Cor_verdadeira.csv',\n 'DBO.csv',\n 'DQO.csv',\n 'acidez.csv',\n 'alcalinidade.csv',\n 'coliformes.csv',\n 'compostagem.csv',\n 'fosforo.csv',\n 'leito_de_secagem.csv',\n 'nitrogênio.csv',\n 'pH.csv',\n 'ptel.csv',\n 'surfactantes.csv',\n 'sólidos.csv',\n 'toda_consema.csv',\n 'toda_consema_2.csv',\n 'toda_consema_P7.csv',\n 'óleos.csv']"
     },
     "metadata": {},
     "execution_count": 2
    }
   ],
   "source": [
    "path = \"./Tidy/\"\n",
    "archives = sorted(listdir(path))\n",
    "archives"
   ]
  },
  {
   "cell_type": "code",
   "execution_count": 59,
   "metadata": {},
   "outputs": [
    {
     "output_type": "execute_result",
     "data": {
      "text/plain": "        DATAS     P1    Pb    Pc    Pd    P2    P3     P4    P5  P7\n0  2013-01-15 NaN    NaN   NaN   NaN   NaN   NaN   NaN    NaN   NaN\n1  2013-02-14  30.0   19.0  15.0  10.0  34.0  3.6   16.0   2.8  NaN\n2  2013-03-06  116.0  59.0  45.0  22.0  16.0  11.2  236.0  1.2  NaN\n3  2013-04-03  168.0  39.0  32.0  9.0   19.0  5.2   160.0  6.8  NaN\n4  2013-05-08  248.0  82.0  54.0  22.0  24.0  13.2  136.0  21.2 NaN",
      "text/html": "<div>\n<style scoped>\n    .dataframe tbody tr th:only-of-type {\n        vertical-align: middle;\n    }\n\n    .dataframe tbody tr th {\n        vertical-align: top;\n    }\n\n    .dataframe thead th {\n        text-align: right;\n    }\n</style>\n<table border=\"1\" class=\"dataframe\">\n  <thead>\n    <tr style=\"text-align: right;\">\n      <th></th>\n      <th>DATAS</th>\n      <th>P1</th>\n      <th>Pb</th>\n      <th>Pc</th>\n      <th>Pd</th>\n      <th>P2</th>\n      <th>P3</th>\n      <th>P4</th>\n      <th>P5</th>\n      <th>P7</th>\n    </tr>\n  </thead>\n  <tbody>\n    <tr>\n      <th>0</th>\n      <td>2013-01-15</td>\n      <td>NaN</td>\n      <td>NaN</td>\n      <td>NaN</td>\n      <td>NaN</td>\n      <td>NaN</td>\n      <td>NaN</td>\n      <td>NaN</td>\n      <td>NaN</td>\n      <td>NaN</td>\n    </tr>\n    <tr>\n      <th>1</th>\n      <td>2013-02-14</td>\n      <td>30.0</td>\n      <td>19.0</td>\n      <td>15.0</td>\n      <td>10.0</td>\n      <td>34.0</td>\n      <td>3.6</td>\n      <td>16.0</td>\n      <td>2.8</td>\n      <td>NaN</td>\n    </tr>\n    <tr>\n      <th>2</th>\n      <td>2013-03-06</td>\n      <td>116.0</td>\n      <td>59.0</td>\n      <td>45.0</td>\n      <td>22.0</td>\n      <td>16.0</td>\n      <td>11.2</td>\n      <td>236.0</td>\n      <td>1.2</td>\n      <td>NaN</td>\n    </tr>\n    <tr>\n      <th>3</th>\n      <td>2013-04-03</td>\n      <td>168.0</td>\n      <td>39.0</td>\n      <td>32.0</td>\n      <td>9.0</td>\n      <td>19.0</td>\n      <td>5.2</td>\n      <td>160.0</td>\n      <td>6.8</td>\n      <td>NaN</td>\n    </tr>\n    <tr>\n      <th>4</th>\n      <td>2013-05-08</td>\n      <td>248.0</td>\n      <td>82.0</td>\n      <td>54.0</td>\n      <td>22.0</td>\n      <td>24.0</td>\n      <td>13.2</td>\n      <td>136.0</td>\n      <td>21.2</td>\n      <td>NaN</td>\n    </tr>\n  </tbody>\n</table>\n</div>"
     },
     "metadata": {},
     "execution_count": 59
    }
   ],
   "source": [
    "name = archives[1].split(\".\")[0]\n",
    "\n",
    "df = pd.read_csv(path + name + \".csv\", encoding='utf8')\n",
    "columns = df.columns\n",
    "new_columns = [x.split()[0] for x in columns] \n",
    "df.columns = new_columns\n",
    "df.drop(columns=[\"OBSERVAÇÕES\", \"Resultado\", \"LAB.\"], inplace=True)\n",
    "df.head()"
   ]
  },
  {
   "cell_type": "code",
   "execution_count": 60,
   "metadata": {},
   "outputs": [
    {
     "output_type": "execute_result",
     "data": {
      "text/plain": "  ENTIDADE        DATA  DBO\n0  P1       2013-01-15  NaN\n1  Pb       2013-01-15  NaN\n2  Pc       2013-01-15  NaN\n3  Pd       2013-01-15  NaN\n4  P2       2013-01-15  NaN",
      "text/html": "<div>\n<style scoped>\n    .dataframe tbody tr th:only-of-type {\n        vertical-align: middle;\n    }\n\n    .dataframe tbody tr th {\n        vertical-align: top;\n    }\n\n    .dataframe thead th {\n        text-align: right;\n    }\n</style>\n<table border=\"1\" class=\"dataframe\">\n  <thead>\n    <tr style=\"text-align: right;\">\n      <th></th>\n      <th>ENTIDADE</th>\n      <th>DATA</th>\n      <th>DBO</th>\n    </tr>\n  </thead>\n  <tbody>\n    <tr>\n      <th>0</th>\n      <td>P1</td>\n      <td>2013-01-15</td>\n      <td>NaN</td>\n    </tr>\n    <tr>\n      <th>1</th>\n      <td>Pb</td>\n      <td>2013-01-15</td>\n      <td>NaN</td>\n    </tr>\n    <tr>\n      <th>2</th>\n      <td>Pc</td>\n      <td>2013-01-15</td>\n      <td>NaN</td>\n    </tr>\n    <tr>\n      <th>3</th>\n      <td>Pd</td>\n      <td>2013-01-15</td>\n      <td>NaN</td>\n    </tr>\n    <tr>\n      <th>4</th>\n      <td>P2</td>\n      <td>2013-01-15</td>\n      <td>NaN</td>\n    </tr>\n  </tbody>\n</table>\n</div>"
     },
     "metadata": {},
     "execution_count": 60
    }
   ],
   "source": [
    "transposed = df.T\n",
    "transposed = transposed.reset_index()\n",
    "transposed.columns = transposed.values[0]\n",
    "transposed.rename(columns={\"DATAS\": \"ENTIDADE\"}, inplace=True)\n",
    "transposed.drop(axis=0, index=[0], inplace=True)\n",
    "transposed = transposed.melt(id_vars=['ENTIDADE'])\n",
    "transposed.rename(columns={\"variable\": \"DATA\", \"value\": name}, inplace=True)\n",
    "df = transposed\n",
    "df.head()"
   ]
  },
  {
   "cell_type": "code",
   "execution_count": 48,
   "metadata": {},
   "outputs": [
    {
     "output_type": "execute_result",
     "data": {
      "text/plain": "'./Normlogs/Cor_verdadeira.ipynb'"
     },
     "metadata": {},
     "execution_count": 48
    }
   ],
   "source": [
    "df.to_csv(f\"./Normalized/{name}.csv\", encoding='utf8', index=False)\n",
    "copy2(\"explorer.ipynb\", f\"./Normlogs/{name}.ipynb\")"
   ]
  },
  {
   "cell_type": "code",
   "execution_count": null,
   "metadata": {},
   "outputs": [],
   "source": []
  }
 ]
}