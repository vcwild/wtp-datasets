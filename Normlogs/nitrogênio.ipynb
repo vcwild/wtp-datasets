{
 "metadata": {
  "language_info": {
   "codemirror_mode": {
    "name": "ipython",
    "version": 3
   },
   "file_extension": ".py",
   "mimetype": "text/x-python",
   "name": "python",
   "nbconvert_exporter": "python",
   "pygments_lexer": "ipython3",
   "version": "3.7.7-final"
  },
  "orig_nbformat": 2,
  "kernelspec": {
   "name": "python_defaultSpec_1599226225149",
   "display_name": "Python 3.7.7 64-bit ('codenation': conda)"
  }
 },
 "nbformat": 4,
 "nbformat_minor": 2,
 "cells": [
  {
   "cell_type": "code",
   "execution_count": 2,
   "metadata": {},
   "outputs": [],
   "source": [
    "import numpy as np \n",
    "import pandas as pd \n",
    "from os import listdir\n",
    "from shutil import copy2 \n",
    "\n",
    "# Pandas setup\n",
    "pd.set_option('display.max_columns', 1000)\n",
    "pd.set_option('display.max_rows', 1000) \n",
    "pd.set_option('display.max_colwidth', -1) "
   ]
  },
  {
   "cell_type": "code",
   "execution_count": 3,
   "metadata": {},
   "outputs": [
    {
     "output_type": "execute_result",
     "data": {
      "text/plain": "['Cor_verdadeira.csv',\n 'DBO.csv',\n 'DQO.csv',\n 'acidez.csv',\n 'alcalinidade.csv',\n 'coliformes.csv',\n 'compostagem.csv',\n 'fosforo.csv',\n 'leito_de_secagem.csv',\n 'nitrogênio.csv',\n 'pH.csv',\n 'ptel.csv',\n 'surfactantes.csv',\n 'sólidos.csv',\n 'toda_consema.csv',\n 'toda_consema_2.csv',\n 'toda_consema_P7.csv',\n 'óleos.csv']"
     },
     "metadata": {},
     "execution_count": 3
    }
   ],
   "source": [
    "path = \"./Tidy/\"\n",
    "archives = sorted(listdir(path))\n",
    "archives"
   ]
  },
  {
   "cell_type": "code",
   "execution_count": 23,
   "metadata": {},
   "outputs": [
    {
     "output_type": "execute_result",
     "data": {
      "text/plain": "'nitrogênio.csv'"
     },
     "metadata": {},
     "execution_count": 23
    }
   ],
   "source": [
    "archives[9]"
   ]
  },
  {
   "cell_type": "code",
   "execution_count": 41,
   "metadata": {},
   "outputs": [
    {
     "output_type": "execute_result",
     "data": {
      "text/plain": "  DATA DA COLETA  P1 - Entrada ETE  P2/P6- Saída da ETE   P1 - Média mês  \\\n0  2013-01-08     4.5               8.6                   6.700            \n1  2013-01-09     8.9               12.8                 NaN               \n2  2013-02-05     12.4              17.3                  24.425           \n3  2013-02-14     15.6              4.7                  NaN               \n4  2013-02-19     17.5              6.4                  NaN               \n\n   P2/P6 - Média mês ANAL. AMB.  \\\n0  10.700             x           \n1 NaN                 x           \n2  14.425             x           \n3 NaN                 x           \n4 NaN                 x           \n\n                                                                                                                                 OBSERVAÇÕES  \\\n0  Coletas no mês de janeiro. foram adiantadas para estes dias. devido as datas do cronograma estarem agendadas nas férias da laboratorista.   \n1  NaN                                                                                                                                         \n2  NaN                                                                                                                                         \n3  NaN                                                                                                                                         \n4  NaN                                                                                                                                         \n\n   P7 - Rede Pluvial (trimestral) Ponto de coleta Saída (P2 ou P6)  \n0 NaN                              NaN                              \n1 NaN                              NaN                              \n2 NaN                              NaN                              \n3 NaN                              NaN                              \n4 NaN                              NaN                              ",
      "text/html": "<div>\n<style scoped>\n    .dataframe tbody tr th:only-of-type {\n        vertical-align: middle;\n    }\n\n    .dataframe tbody tr th {\n        vertical-align: top;\n    }\n\n    .dataframe thead th {\n        text-align: right;\n    }\n</style>\n<table border=\"1\" class=\"dataframe\">\n  <thead>\n    <tr style=\"text-align: right;\">\n      <th></th>\n      <th>DATA DA COLETA</th>\n      <th>P1 - Entrada ETE</th>\n      <th>P2/P6- Saída da ETE</th>\n      <th>P1 - Média mês</th>\n      <th>P2/P6 - Média mês</th>\n      <th>ANAL. AMB.</th>\n      <th>OBSERVAÇÕES</th>\n      <th>P7 - Rede Pluvial (trimestral)</th>\n      <th>Ponto de coleta Saída (P2 ou P6)</th>\n    </tr>\n  </thead>\n  <tbody>\n    <tr>\n      <th>0</th>\n      <td>2013-01-08</td>\n      <td>4.5</td>\n      <td>8.6</td>\n      <td>6.700</td>\n      <td>10.700</td>\n      <td>x</td>\n      <td>Coletas no mês de janeiro. foram adiantadas para estes dias. devido as datas do cronograma estarem agendadas nas férias da laboratorista.</td>\n      <td>NaN</td>\n      <td>NaN</td>\n    </tr>\n    <tr>\n      <th>1</th>\n      <td>2013-01-09</td>\n      <td>8.9</td>\n      <td>12.8</td>\n      <td>NaN</td>\n      <td>NaN</td>\n      <td>x</td>\n      <td>NaN</td>\n      <td>NaN</td>\n      <td>NaN</td>\n    </tr>\n    <tr>\n      <th>2</th>\n      <td>2013-02-05</td>\n      <td>12.4</td>\n      <td>17.3</td>\n      <td>24.425</td>\n      <td>14.425</td>\n      <td>x</td>\n      <td>NaN</td>\n      <td>NaN</td>\n      <td>NaN</td>\n    </tr>\n    <tr>\n      <th>3</th>\n      <td>2013-02-14</td>\n      <td>15.6</td>\n      <td>4.7</td>\n      <td>NaN</td>\n      <td>NaN</td>\n      <td>x</td>\n      <td>NaN</td>\n      <td>NaN</td>\n      <td>NaN</td>\n    </tr>\n    <tr>\n      <th>4</th>\n      <td>2013-02-19</td>\n      <td>17.5</td>\n      <td>6.4</td>\n      <td>NaN</td>\n      <td>NaN</td>\n      <td>x</td>\n      <td>NaN</td>\n      <td>NaN</td>\n      <td>NaN</td>\n    </tr>\n  </tbody>\n</table>\n</div>"
     },
     "metadata": {},
     "execution_count": 41
    }
   ],
   "source": [
    "name = archives[9].split(\".\")[0]\n",
    "\n",
    "df = pd.read_csv(path + name + \".csv\", encoding='utf8')\n",
    "df.head()"
   ]
  },
  {
   "cell_type": "code",
   "execution_count": 42,
   "metadata": {},
   "outputs": [
    {
     "output_type": "execute_result",
     "data": {
      "text/plain": "         DATA    P1    P2  P7\n0  2013-01-08  4.5   8.6  NaN\n1  2013-01-09  8.9   12.8 NaN\n2  2013-02-05  12.4  17.3 NaN\n3  2013-02-14  15.6  4.7  NaN\n4  2013-02-19  17.5  6.4  NaN",
      "text/html": "<div>\n<style scoped>\n    .dataframe tbody tr th:only-of-type {\n        vertical-align: middle;\n    }\n\n    .dataframe tbody tr th {\n        vertical-align: top;\n    }\n\n    .dataframe thead th {\n        text-align: right;\n    }\n</style>\n<table border=\"1\" class=\"dataframe\">\n  <thead>\n    <tr style=\"text-align: right;\">\n      <th></th>\n      <th>DATA</th>\n      <th>P1</th>\n      <th>P2</th>\n      <th>P7</th>\n    </tr>\n  </thead>\n  <tbody>\n    <tr>\n      <th>0</th>\n      <td>2013-01-08</td>\n      <td>4.5</td>\n      <td>8.6</td>\n      <td>NaN</td>\n    </tr>\n    <tr>\n      <th>1</th>\n      <td>2013-01-09</td>\n      <td>8.9</td>\n      <td>12.8</td>\n      <td>NaN</td>\n    </tr>\n    <tr>\n      <th>2</th>\n      <td>2013-02-05</td>\n      <td>12.4</td>\n      <td>17.3</td>\n      <td>NaN</td>\n    </tr>\n    <tr>\n      <th>3</th>\n      <td>2013-02-14</td>\n      <td>15.6</td>\n      <td>4.7</td>\n      <td>NaN</td>\n    </tr>\n    <tr>\n      <th>4</th>\n      <td>2013-02-19</td>\n      <td>17.5</td>\n      <td>6.4</td>\n      <td>NaN</td>\n    </tr>\n  </tbody>\n</table>\n</div>"
     },
     "metadata": {},
     "execution_count": 42
    }
   ],
   "source": [
    "df.drop(columns=[\"P1 - Média mês\", \"P2/P6 - Média mês\"], inplace=True)\n",
    "columns = df.columns\n",
    "new_columns = [x.split()[0] for x in columns] \n",
    "df.columns = new_columns\n",
    "df.drop(columns=[\"OBSERVAÇÕES\", \"ANAL.\", \"Ponto\"], inplace=True)\n",
    "# df.rename(columns={\"PORCENTAGEM\": \"PORCENTAGEM_SÓLIDOS\", \"SÓLIDOS\": \"SÓLIDOS_VOLÁTEIS\"}, inplace=True)\n",
    "df.rename(columns={\"P2/P6-\": \"P2\"}, inplace=True)\n",
    "# df[\"ENTIDADE\"] = name\n",
    "df.head()"
   ]
  },
  {
   "cell_type": "code",
   "execution_count": 43,
   "metadata": {},
   "outputs": [
    {
     "output_type": "execute_result",
     "data": {
      "text/plain": "  ENTIDADE        DATA nitrogênio\n0  P1       2013-01-08  4.5      \n1  P2       2013-01-08  8.6      \n2  P7       2013-01-08  NaN      \n3  P1       2013-01-09  8.9      \n4  P2       2013-01-09  12.8     ",
      "text/html": "<div>\n<style scoped>\n    .dataframe tbody tr th:only-of-type {\n        vertical-align: middle;\n    }\n\n    .dataframe tbody tr th {\n        vertical-align: top;\n    }\n\n    .dataframe thead th {\n        text-align: right;\n    }\n</style>\n<table border=\"1\" class=\"dataframe\">\n  <thead>\n    <tr style=\"text-align: right;\">\n      <th></th>\n      <th>ENTIDADE</th>\n      <th>DATA</th>\n      <th>nitrogênio</th>\n    </tr>\n  </thead>\n  <tbody>\n    <tr>\n      <th>0</th>\n      <td>P1</td>\n      <td>2013-01-08</td>\n      <td>4.5</td>\n    </tr>\n    <tr>\n      <th>1</th>\n      <td>P2</td>\n      <td>2013-01-08</td>\n      <td>8.6</td>\n    </tr>\n    <tr>\n      <th>2</th>\n      <td>P7</td>\n      <td>2013-01-08</td>\n      <td>NaN</td>\n    </tr>\n    <tr>\n      <th>3</th>\n      <td>P1</td>\n      <td>2013-01-09</td>\n      <td>8.9</td>\n    </tr>\n    <tr>\n      <th>4</th>\n      <td>P2</td>\n      <td>2013-01-09</td>\n      <td>12.8</td>\n    </tr>\n  </tbody>\n</table>\n</div>"
     },
     "metadata": {},
     "execution_count": 43
    }
   ],
   "source": [
    "transposed = df.T\n",
    "transposed = transposed.reset_index()\n",
    "transposed.columns = transposed.values[0]\n",
    "transposed.rename(columns={\"DATA\": \"ENTIDADE\"}, inplace=True)\n",
    "transposed.drop(axis=0, index=[0], inplace=True)\n",
    "transposed = transposed.melt(id_vars=['ENTIDADE'])\n",
    "transposed.rename(columns={\"variable\": \"DATA\", \"value\": name}, inplace=True)\n",
    "df = transposed\n",
    "df.head()"
   ]
  },
  {
   "cell_type": "code",
   "execution_count": 22,
   "metadata": {},
   "outputs": [
    {
     "output_type": "execute_result",
     "data": {
      "text/plain": "'./Normlogs/leito_de_secagem.ipynb'"
     },
     "metadata": {},
     "execution_count": 22
    }
   ],
   "source": [
    "df.to_csv(f\"./Normalized/{name}.csv\", encoding='utf8', index=False)\n",
    "copy2(\"explorer.ipynb\", f\"./Normlogs/{name}.ipynb\")"
   ]
  },
  {
   "cell_type": "code",
   "execution_count": null,
   "metadata": {},
   "outputs": [],
   "source": []
  }
 ]
}