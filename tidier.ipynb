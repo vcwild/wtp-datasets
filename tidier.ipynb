{
 "metadata": {
  "language_info": {
   "codemirror_mode": {
    "name": "ipython",
    "version": 3
   },
   "file_extension": ".py",
   "mimetype": "text/x-python",
   "name": "python",
   "nbconvert_exporter": "python",
   "pygments_lexer": "ipython3",
   "version": "3.7.7-final"
  },
  "orig_nbformat": 2,
  "kernelspec": {
   "name": "python_defaultSpec_1599119737188",
   "display_name": "Python 3.7.7 64-bit ('codenation': conda)"
  }
 },
 "nbformat": 4,
 "nbformat_minor": 2,
 "cells": [
  {
   "cell_type": "code",
   "execution_count": 1,
   "metadata": {},
   "outputs": [],
   "source": [
    "import numpy as np \n",
    "import pandas as pd \n",
    "from os import listdir\n",
    "from shutil import copy2 \n",
    "\n",
    "# Pandas setup\n",
    "pd.set_option('display.max_columns', 1000)\n",
    "pd.set_option('display.max_rows', 1000) \n",
    "pd.set_option('display.max_colwidth', -1) "
   ]
  },
  {
   "cell_type": "code",
   "execution_count": 2,
   "metadata": {},
   "outputs": [
    {
     "output_type": "execute_result",
     "data": {
      "text/plain": "'./Logs/tidy.ipynb'"
     },
     "metadata": {},
     "execution_count": 2
    }
   ],
   "source": [
    "path = \"./Merged/\"\n",
    "archives = listdir(path)\n",
    "\n",
    "for i in range(0, len(archives)):\n",
    "    df = pd.read_csv(f\"{path}{archives[i]}\", encoding=\"utf8\")\n",
    "    columns = df.columns\n",
    "\n",
    "    for column in columns:\n",
    "        df[str(column)] = df[str(column)].map(lambda x: str(x).replace(\",\", \".\"))\n",
    "        df[str(column)] = df[str(column)].map(lambda x: str(x).replace(\"<\", \"\"))\n",
    "        df[str(column)] = df[str(column)].map(lambda x: str(x).strip())\n",
    "\n",
    "        title = str(archives[i]).split(\".\")[0]\n",
    "        df.to_csv(f\"./Tidy/{title}.csv\", encoding='utf8', index=False)\n",
    "\n",
    "\n",
    "copy2(\"cleaner.ipynb\", \"./Logs/tidy.ipynb\")"
   ]
  }
 ]
}