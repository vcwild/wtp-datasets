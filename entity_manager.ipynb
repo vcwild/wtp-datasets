{
 "metadata": {
  "language_info": {
   "codemirror_mode": {
    "name": "ipython",
    "version": 3
   },
   "file_extension": ".py",
   "mimetype": "text/x-python",
   "name": "python",
   "nbconvert_exporter": "python",
   "pygments_lexer": "ipython3",
   "version": "3.7.7-final"
  },
  "orig_nbformat": 2,
  "kernelspec": {
   "name": "python_defaultSpec_1599675814816",
   "display_name": "Python 3.7.7 64-bit ('codenation': conda)"
  }
 },
 "nbformat": 4,
 "nbformat_minor": 2,
 "cells": [
  {
   "cell_type": "markdown",
   "metadata": {},
   "source": [
    "# Limpeza dos Dados"
   ]
  },
  {
   "cell_type": "markdown",
   "metadata": {},
   "source": [
    "## Setup"
   ]
  },
  {
   "cell_type": "code",
   "execution_count": 1,
   "metadata": {},
   "outputs": [],
   "source": [
    "import numpy as np \n",
    "import pandas as pd\n",
    "from matplotlib import rcParams\n",
    "import matplotlib.pyplot as plt \n",
    "import seaborn as sns \n",
    "import plotly.express as px\n",
    "from shutil import copy2\n",
    "\n",
    "# Matplotlib options\n",
    "rcParams['figure.figsize'] = (10, 8)\n",
    "rcParams['axes.grid'] = False\n",
    "plt.style.use('seaborn-deep')\n",
    "\n",
    "# Pandas setup\n",
    "pd.set_option('display.max_columns', 1000)\n",
    "pd.set_option('display.max_rows', 1000) \n",
    "pd.set_option('display.max_colwidth', -1) "
   ]
  },
  {
   "cell_type": "code",
   "execution_count": 30,
   "metadata": {
    "tags": []
   },
   "outputs": [
    {
     "output_type": "stream",
     "name": "stdout",
     "text": "37 colunas removidas:\n{'ARSÊNIO', 'ESTANHO', 'PH', 'COBALTO', 'NITROGÊNIO_KJELDAHL', 'COR_VERDADEIRA', 'LÍTIO', 'COMPOSTOS', 'COBRE', 'MANGANÊS', 'BÁRIO', 'PRATA', 'FERRO', 'MOLIBDÊNIO', 'ALUMÍNIO', 'PORCENTAGEM_SÓLIDOS', 'FENOL', 'SÓLIDOS', 'SURFACTANTES', 'NITROGÊNIO_AMONIACAL', 'NITROGÊNIO', 'FÓSFORO', 'ÍNDICE_DE_FENÓIS', 'NÍQUEL', 'BORO', 'CHUMBO', 'MERCÚRIO', 'DQO', 'ÓLEOS', 'CROMO_HEXAVALENTE', 'CÁDMIO', 'COLIFORMES_TERMOTOLERANTES', 'FLUORETO', 'DBO', 'CROMO', 'CIANETO', 'UMIDADE'}\n"
    }
   ],
   "source": [
    "# Read file\n",
    "path = \"./Entities/\"\n",
    "name = \"reator\"\n",
    "filename = name + \".csv\"\n",
    "df = pd.read_csv(path + filename, encoding='utf8')\n",
    "\n",
    "# Transformations\n",
    "df[\"DATA\"] =  pd.to_datetime(df[\"DATA\"], format=\"%Y-%m-%d\")\n",
    "# df.drop(columns=[\"ENTIDADE\"], inplace=True)\n",
    "\n",
    "# Select max value in month interval\n",
    "period = df.DATA.dt.to_period(\"M\")\n",
    "tidy = df.groupby(period).mean()\n",
    "tidy.index = tidy.index.rename(\"DATE\")\n",
    "# tidy.drop(columns=\"DATA\", inplace=True)\n",
    "tidy.head()\n",
    "df = tidy\n",
    "\n",
    "# Remover colunas nulas\n",
    "aux = pd.DataFrame(df.isnull().sum() / df.shape[0], columns=[\"NULL_COUNT\"])\n",
    "threshold = 1\n",
    "features = aux[aux[\"NULL_COUNT\"] < threshold].index.tolist()\n",
    "filtered = df[features]\n",
    "filtered[\"ENTIDADE\"] = name.upper()\n",
    "\n",
    "print(\n",
    "    f\"{df.shape[1] - df[features].shape[1]} colunas removidas:\\n\"\n",
    "    f\"{set(df.columns) - set(features)}\"\n",
    ")\n",
    "\n",
    "threshold = 60\n",
    "percentage = (1 - filtered.isnull().sum() / filtered.shape[0]) * 100\n",
    "percentage = pd.Series(np.around(percentage.values, 2), index=percentage.index)\n",
    "\n",
    "### Ajustar dados com unidades diferentes\n",
    "# Ajustar colunas do ano de 2015 cujos valores estão em µg para mg (padrão)\n",
    "# resetted = filtered.reset_index()\n",
    "# start_date = '2015-01'\n",
    "# end_date = '2015-12'\n",
    "# mask = (resetted[\"DATE\"] >= start_date) & (resetted[\"DATE\"] <= end_date)\n",
    "# columns_to_fix = [\n",
    "#     \"ALUMÍNIO\", \"ARSÊNIO\", \"BÁRIO\", \"BORO\", \n",
    "#     \"CÁDMIO\", \"CHUMBO\", \"CIANETO\", \"COBALTO\", \n",
    "#     \"COBRE\", \"CROMO\", \"ESTANHO\", \"FERRO\", \n",
    "#     \"LÍTIO\", \"MANGANÊS\", \"MOLIBDÊNIO\", \"NÍQUEL\"\n",
    "# ]\n",
    "# section = resetted[mask]\n",
    "\n",
    "# for column in columns_to_fix:\n",
    "#     section[column] = section[column].map(lambda x: x * 0.001)\n",
    "\n",
    "# section_rows = section.index.tolist()\n",
    "# filtered_dropped_volumes = resetted.drop(section_rows)\n",
    "# filtered_merge = pd.concat([filtered_dropped_volumes, section])\\\n",
    "#     .sort_values(\"DATE\")\\\n",
    "#     .set_index(\"DATE\")\n",
    "# df_fixed = filtered_merge[sorted(percentage.sort_values(ascending=False).index)]\n",
    "\n",
    "filtered = filtered[sorted(filtered.columns)]\n",
    "\n",
    "path = \"./Tidy_Entities/\"\n",
    "filtered.to_csv(path + filename, encoding='utf8')"
   ]
  },
  {
   "cell_type": "code",
   "execution_count": 94,
   "metadata": {
    "tags": []
   },
   "outputs": [
    {
     "output_type": "stream",
     "name": "stdout",
     "text": "\u001b[31mLinhas: 88\nColunas: 39\n\n\u001b[32m-> Features: \n['SURFACTANTES', 'PH', 'FÓSFORO', 'ALUMÍNIO', 'ARSÊNIO', 'BÁRIO', 'BORO', 'CÁDMIO', 'CHUMBO', 'CIANETO', 'COBALTO', 'COBRE', 'CROMO', 'CROMO_HEXAVALENTE', 'DBO', 'DQO', 'ESTANHO', 'FERRO', 'FLUORETO', 'LÍTIO', 'MANGANÊS', 'MERCÚRIO', 'MOLIBDÊNIO', 'NÍQUEL', 'NITROGÊNIO_AMONIACAL', 'NITROGÊNIO_KJELDAHL', 'COLIFORMES_TERMOTOLERANTES', 'PRATA', 'ÍNDICE_DE_FENÓIS', 'NITROGÊNIO', 'FENOL', 'ALCALINIDADE', 'UMIDADE', 'PORCENTAGEM_SÓLIDOS', 'COMPOSTOS', 'COR_VERDADEIRA', 'SÓLIDOS', 'ÓLEOS', 'ACIDEZ']\n\n\u001b[34m-> Valores ÚNICOS: \nSURFACTANTES                  43\nPH                            21\nFÓSFORO                       71\nALUMÍNIO                      28\nARSÊNIO                       5 \nBÁRIO                         22\nBORO                          14\nCÁDMIO                        3 \nCHUMBO                        5 \nCIANETO                       5 \nCOBALTO                       6 \nCOBRE                         13\nCROMO                         8 \nCROMO_HEXAVALENTE             5 \nDBO                           60\nDQO                           82\nESTANHO                       6 \nFERRO                         27\nFLUORETO                      28\nLÍTIO                         6 \nMANGANÊS                      27\nMERCÚRIO                      6 \nMOLIBDÊNIO                    6 \nNÍQUEL                        8 \nNITROGÊNIO_AMONIACAL          26\nNITROGÊNIO_KJELDAHL           21\nCOLIFORMES_TERMOTOLERANTES    64\nPRATA                         3 \nÍNDICE_DE_FENÓIS              1 \nNITROGÊNIO                    77\nFENOL                         8 \nALCALINIDADE                  0 \nUMIDADE                       0 \nPORCENTAGEM_SÓLIDOS           0 \nCOMPOSTOS                     0 \nCOR_VERDADEIRA                22\nSÓLIDOS                       70\nÓLEOS                         34\nACIDEZ                        0 \ndtype: int64\n\n\u001b[36m-> Valores FALTANTES: \nSURFACTANTES                  7 \nPH                            7 \nFÓSFORO                       3 \nALUMÍNIO                      59\nARSÊNIO                       67\nBÁRIO                         60\nBORO                          65\nCÁDMIO                        69\nCHUMBO                        68\nCIANETO                       67\nCOBALTO                       67\nCOBRE                         64\nCROMO                         63\nCROMO_HEXAVALENTE             67\nDBO                           7 \nDQO                           2 \nESTANHO                       66\nFERRO                         61\nFLUORETO                      60\nLÍTIO                         63\nMANGANÊS                      59\nMERCÚRIO                      69\nMOLIBDÊNIO                    65\nNÍQUEL                        65\nNITROGÊNIO_AMONIACAL          62\nNITROGÊNIO_KJELDAHL           66\nCOLIFORMES_TERMOTOLERANTES    3 \nPRATA                         78\nÍNDICE_DE_FENÓIS              84\nNITROGÊNIO                    6 \nFENOL                         71\nALCALINIDADE                  88\nUMIDADE                       88\nPORCENTAGEM_SÓLIDOS           88\nCOMPOSTOS                     88\nCOR_VERDADEIRA                12\nSÓLIDOS                       8 \nÓLEOS                         8 \nACIDEZ                        88\ndtype: int64\u001b[0\n"
    }
   ],
   "source": [
    "print(\n",
    "    f\"\\033[31mLinhas: {df.shape[0]}\\n\"\n",
    "    f\"Colunas: {df.shape[1]}\\n\\n\"\n",
    "    f\"\\033[32m-> Features: \\n{df.columns.tolist()}\\n\\n\"\n",
    "    f\"\\033[34m-> Valores ÚNICOS: \\n{df.nunique()}\\n\\n\"\n",
    "    f\"\\033[36m-> Valores FALTANTES: \\n{df.isnull().sum()}\\033[0\"\n",
    ")"
   ]
  },
  {
   "cell_type": "code",
   "execution_count": 150,
   "metadata": {},
   "outputs": [],
   "source": []
  }
 ]
}