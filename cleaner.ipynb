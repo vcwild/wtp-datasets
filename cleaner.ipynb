{
 "metadata": {
  "language_info": {
   "codemirror_mode": {
    "name": "ipython",
    "version": 3
   },
   "file_extension": ".py",
   "mimetype": "text/x-python",
   "name": "python",
   "nbconvert_exporter": "python",
   "pygments_lexer": "ipython3",
   "version": "3.7.7-final"
  },
  "orig_nbformat": 2,
  "kernelspec": {
   "name": "python_defaultSpec_1599586303659",
   "display_name": "Python 3.7.7 64-bit ('codenation': conda)"
  }
 },
 "nbformat": 4,
 "nbformat_minor": 2,
 "cells": [
  {
   "cell_type": "code",
   "execution_count": 1,
   "metadata": {},
   "outputs": [],
   "source": [
    "import numpy as np \n",
    "import pandas as pd \n",
    "from os import listdir\n",
    "from shutil import copy2 \n",
    "\n",
    "# Pandas setup\n",
    "pd.set_option('display.max_columns', 1000)\n",
    "pd.set_option('display.max_rows', 1000) \n",
    "pd.set_option('display.max_colwidth', -1) "
   ]
  },
  {
   "cell_type": "code",
   "execution_count": 2,
   "metadata": {
    "tags": []
   },
   "outputs": [
    {
     "output_type": "execute_result",
     "data": {
      "text/plain": "['toda_consema.csv', 'toda_consema_2.csv', 'toda_consema_P7.csv']"
     },
     "metadata": {},
     "execution_count": 2
    }
   ],
   "source": [
    "path = \"./Dataset/\"\n",
    "word = \"toda_consema\"\n",
    "archives = listdir(path) \n",
    "\n",
    "matches = [value for value in archives if word in value]\n",
    "matches = sorted(matches)\n",
    "matches"
   ]
  },
  {
   "cell_type": "code",
   "execution_count": 3,
   "metadata": {},
   "outputs": [
    {
     "output_type": "execute_result",
     "data": {
      "text/plain": "Index(['PARÂMETROS', 'Data', 'Alumínio Total', 'Arsênio Total', 'Bário Total',\n       'Boro Total', 'Cádmio Total', 'Chumbo Total', 'Cianeto Total',\n       'Cobalto Total', 'Cobre Total', 'Cromo Total', 'Cromo Hexavalente',\n       'DBO', 'DQO', 'Estanho Total', 'Fenóis Total', 'Ferro Total',\n       'Fósforo Total', 'Fluoreto', 'Lítio Total', 'Manganês Total',\n       'Mercúrio', 'Molibdênio Total', 'Níquel Total', 'Nitrogênio Amoniacal',\n       'Nitrogênio Total Kjeldahl', 'Coliformes Termotolerantes',\n       'Prata Total', 'Mercúrio Total', 'Cianeto', 'Índice de Fenóis',\n       'Nitrogênio Total', 'Fenol'],\n      dtype='object')"
     },
     "metadata": {},
     "execution_count": 3
    }
   ],
   "source": [
    "df = pd.DataFrame()\n",
    "for i in range(0, len(matches) - 1):\n",
    "    df_1 = pd.read_csv(path + matches[i], encoding='utf8')\n",
    "    df_2 = pd.read_csv(path + matches[i + 1], encoding='utf8')\n",
    "    partial = df_1.append(df_2)\n",
    "    df = df.append(partial)\n",
    "\n",
    "df.columns"
   ]
  },
  {
   "cell_type": "code",
   "execution_count": 4,
   "metadata": {},
   "outputs": [
    {
     "output_type": "execute_result",
     "data": {
      "text/plain": "'./Logs/toda_consema.ipynb'"
     },
     "metadata": {},
     "execution_count": 4
    }
   ],
   "source": [
    "df.to_csv(f\"./Merged/{word}.csv\", encoding='utf8', index=False)\n",
    "copy2(\"cleaner.ipynb\", f\"./Logs/{word}.ipynb\")"
   ]
  }
 ]
}