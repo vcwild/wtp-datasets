{
 "metadata": {
  "language_info": {
   "codemirror_mode": {
    "name": "ipython",
    "version": 3
   },
   "file_extension": ".py",
   "mimetype": "text/x-python",
   "name": "python",
   "nbconvert_exporter": "python",
   "pygments_lexer": "ipython3",
   "version": "3.7.7-final"
  },
  "orig_nbformat": 2,
  "kernelspec": {
   "name": "python_defaultSpec_1598969367848",
   "display_name": "Python 3.7.7 64-bit"
  }
 },
 "nbformat": 4,
 "nbformat_minor": 2,
 "cells": [
  {
   "cell_type": "code",
   "execution_count": 1082,
   "metadata": {},
   "outputs": [],
   "source": [
    "import pandas as pd \n",
    "from shutil import copy2"
   ]
  },
  {
   "cell_type": "code",
   "execution_count": 969,
   "metadata": {},
   "outputs": [],
   "source": [
    "# Pandas setup\n",
    "pd.set_option('display.max_columns', 1000)\n",
    "pd.set_option('display.max_rows', 1000) \n",
    "pd.set_option('display.max_colwidth', -1) "
   ]
  },
  {
   "cell_type": "code",
   "execution_count": 970,
   "metadata": {},
   "outputs": [],
   "source": [
    "# Custom NA dictionary\n",
    "null_dict = [\"\", \"#N/A\", \"#N/A N/A\", \"#NA\", \"-1.#IND\", \"-1.#QNAN\", \"-NaN\", \"-nan\", \"1.#IND\", \"1.#QNAN\", \"<NA>\", \"N/A\", \"NA\", \"NULL\", \"NaN\", \"n/a\", \"nan\", \"null\", \"*\", \"**\", \"n.d.\", \"-\", \"#DIV/0!\", \"#DIV/0\", \" \", \"\\xad\", \"n.d\", \"ND\", \"N.D.\", \"N.D\"]"
   ]
  },
  {
   "cell_type": "code",
   "execution_count": 1161,
   "metadata": {},
   "outputs": [
    {
     "output_type": "execute_result",
     "data": {
      "text/plain": "                 Parâmetros       Data Alumínio Total Cobre Total Cromo Total  \\\n2  LAB. ANÁLISE AMBIENTAL   2019-03-11  3.059          0.134       0.292        \n3  LAB. HISTOLOGIA          2019-03-11  4.143          0.829       0.3          \n4  LAB. LCVMAT              2019-03-11  2.295          0.069       0.138        \n5  LAB. ANÁLISE AMBIENTAL.1 2019-07-01  2.673          0.077       0.099        \n6  LAB. LCVMAT.1            2019-07-01  1.03           2.591       NaN          \n7  LAB.           QUIMICA   2019-07-01  7.905          1.285       3.405        \n8  LAB.           QUIMICA.1 2019-12-01  0.682          0.87        0.26         \n\n  Manganês Total Prata Total  \n2  11.27          0.01        \n3  0.166          0.01        \n4  1.392          0.01        \n5  0.036          NaN         \n6  0.05           NaN         \n7  3.755          NaN         \n8  1.026          NaN         ",
      "text/html": "<div>\n<style scoped>\n    .dataframe tbody tr th:only-of-type {\n        vertical-align: middle;\n    }\n\n    .dataframe tbody tr th {\n        vertical-align: top;\n    }\n\n    .dataframe thead th {\n        text-align: right;\n    }\n</style>\n<table border=\"1\" class=\"dataframe\">\n  <thead>\n    <tr style=\"text-align: right;\">\n      <th></th>\n      <th>Parâmetros</th>\n      <th>Data</th>\n      <th>Alumínio Total</th>\n      <th>Cobre Total</th>\n      <th>Cromo Total</th>\n      <th>Manganês Total</th>\n      <th>Prata Total</th>\n    </tr>\n  </thead>\n  <tbody>\n    <tr>\n      <th>2</th>\n      <td>LAB. ANÁLISE AMBIENTAL</td>\n      <td>2019-03-11</td>\n      <td>3.059</td>\n      <td>0.134</td>\n      <td>0.292</td>\n      <td>11.27</td>\n      <td>0.01</td>\n    </tr>\n    <tr>\n      <th>3</th>\n      <td>LAB. HISTOLOGIA</td>\n      <td>2019-03-11</td>\n      <td>4.143</td>\n      <td>0.829</td>\n      <td>0.3</td>\n      <td>0.166</td>\n      <td>0.01</td>\n    </tr>\n    <tr>\n      <th>4</th>\n      <td>LAB. LCVMAT</td>\n      <td>2019-03-11</td>\n      <td>2.295</td>\n      <td>0.069</td>\n      <td>0.138</td>\n      <td>1.392</td>\n      <td>0.01</td>\n    </tr>\n    <tr>\n      <th>5</th>\n      <td>LAB. ANÁLISE AMBIENTAL.1</td>\n      <td>2019-07-01</td>\n      <td>2.673</td>\n      <td>0.077</td>\n      <td>0.099</td>\n      <td>0.036</td>\n      <td>NaN</td>\n    </tr>\n    <tr>\n      <th>6</th>\n      <td>LAB. LCVMAT.1</td>\n      <td>2019-07-01</td>\n      <td>1.03</td>\n      <td>2.591</td>\n      <td>NaN</td>\n      <td>0.05</td>\n      <td>NaN</td>\n    </tr>\n    <tr>\n      <th>7</th>\n      <td>LAB.           QUIMICA</td>\n      <td>2019-07-01</td>\n      <td>7.905</td>\n      <td>1.285</td>\n      <td>3.405</td>\n      <td>3.755</td>\n      <td>NaN</td>\n    </tr>\n    <tr>\n      <th>8</th>\n      <td>LAB.           QUIMICA.1</td>\n      <td>2019-12-01</td>\n      <td>0.682</td>\n      <td>0.87</td>\n      <td>0.26</td>\n      <td>1.026</td>\n      <td>NaN</td>\n    </tr>\n  </tbody>\n</table>\n</div>"
     },
     "metadata": {},
     "execution_count": 1161
    }
   ],
   "source": [
    "# Read file\n",
    "filename = 'F10 Monitoramento da ETE Unisinos 2019'\n",
    "field = \"PTEL\"\n",
    "xls = pd.ExcelFile(f'./Modified/{filename}.xls')\n",
    "df = pd.read_excel(xls, field, header=2, usecols=\"A:K\", skipfooter=12, na_values=null_dict)\n",
    "\n",
    "# Clean data\n",
    "aux = df.T.reset_index()\n",
    "colnames = aux.iloc[0, :].tolist()\n",
    "aux.columns = colnames\n",
    "aux.drop(labels=[0, 1], axis=0, inplace=True)\n",
    "aux.drop(aux.tail(2).index, inplace=True)\n",
    "df = aux\n",
    "# name = df.iloc[0,0]\n",
    "# rename = [name for value in df[df.columns[0]].values]\n",
    "# df[df.columns[0]] = rename\n",
    "df['Data'] = df['Data'].astype('datetime64')\n",
    "\n",
    "df"
   ]
  },
  {
   "cell_type": "code",
   "execution_count": 1162,
   "metadata": {},
   "outputs": [
    {
     "output_type": "execute_result",
     "data": {
      "text/plain": "'./Logs/ptel_2019.ipynb'"
     },
     "metadata": {},
     "execution_count": 1162
    }
   ],
   "source": [
    "field = field.replace(\" \", \"_\")\n",
    "field = field.lower()\n",
    "year = filename.split()[-1:][0].split(\".\")[0]\n",
    "df.to_csv(f\"./Dataset/{field}_{year}.csv\", encoding='utf8', index=False)\n",
    "copy2(\"extractor.ipynb\", f\"./Logs/{field}_{year}.ipynb\")"
   ]
  },
  {
   "cell_type": "code",
   "execution_count": null,
   "metadata": {},
   "outputs": [],
   "source": []
  }
 ]
}